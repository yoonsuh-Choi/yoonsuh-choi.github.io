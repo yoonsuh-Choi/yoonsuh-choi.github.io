{
 "cells": [
  {
   "cell_type": "markdown",
   "metadata": {},
   "source": [
    "# 배경\n",
    "\n",
    "- 책 <빅데이터 분석(1)> 198p 참고, \n",
    "\n",
    "- 미세먼지 발생/증가에 영향을 미치는 인자를 도출, 영향도를 분석\n",
    "- 선정된 영향인자를 활용하여 미세먼지 발생량 예측, 대응방안 수립. "
   ]
  },
  {
   "cell_type": "markdown",
   "metadata": {},
   "source": [
    "# 내가 생각한 흐름\n",
    "\n",
    "\n",
    "- 목표변수: 미세먼지 발생량 (PM10)\n",
    "\n",
    "\n",
    "- 나머지는 다 설명변수(날짜 제외) \n",
    "- 대기오염인자(이산화탄소 농도, 아황산가스 농도, 이산화질소농도) 높을수록 미세먼지 높음\n",
    "- 기상정보- 기온, 습도와 반비례\n",
    "- 기상정보 - 기압과 비례\n",
    "- 고려대상: 오존농도? 관련성 있는가? **-> 상관분석? **\n",
    "- 고려대상: 계절성- 겨울 높고 여름 낮음 \n",
    "\n",
    "\n",
    "- 예측모델의 특징을 이해, 모델의 성능개선방안 도출\n",
    "- **분석기법**: 탐색적분석(그래프, 통계), 회귀분석(선형, 규제모델), 의사결정트리, 랜덤포레스트, 그래디언트부스팅\n",
    "\n"
   ]
  },
  {
   "cell_type": "markdown",
   "metadata": {},
   "source": [
    "## 주의할 것\n",
    "- 각 칼럼의 단위가 모두 다르기에 스케일링을 해주어야 한다. "
   ]
  },
  {
   "cell_type": "markdown",
   "metadata": {},
   "source": [
    "## 파생변수 만들기?\n",
    "\n",
    "- 계절성: 날짜를 월만 받아와서 월 평균을 낸다.   \n",
    "    3,4,5-> 봄, 6,7,8-> 여름, 9,10,11-> 가을 12,1,2-> 겨울"
   ]
  },
  {
   "cell_type": "markdown",
   "metadata": {},
   "source": [
    "### 패키지 불러오기"
   ]
  },
  {
   "cell_type": "code",
   "execution_count": 1,
   "metadata": {},
   "outputs": [],
   "source": [
    "# 데이터 구성:Series, DataFrame\n",
    "import pandas as pd\n",
    "import numpy as np\n",
    "# 데이터 시각화\n",
    "import matplotlib.pyplot as plt\n",
    "import matplotlib\n",
    "import seaborn as sns\n",
    "\n",
    "# 데이터 scaling\n",
    "from sklearn.preprocessing import StandardScaler, RobustScaler\n",
    "\n",
    "# 데이터 분할:train, test\n",
    "from sklearn.model_selection import train_test_split\n",
    "\n",
    "from scipy import stats\n",
    "from statsmodels.stats.proportion import proportions_ztest\n",
    "from scipy.stats import shapiro\n",
    "\n",
    "# 회귀 분석\n",
    "from statsmodels.formula.api import ols\n",
    "from statsmodels.api import qqplot, add_constant\n",
    "import statsmodels.formula.api as smf\n",
    "import statsmodels.api as sm\n",
    "\n",
    "\n",
    "# 의사결정 나무\n",
    "from sklearn.tree import DecisionTreeRegressor\n",
    "\n",
    "# 랜덤 포레스트\n",
    "from sklearn.ensemble import RandomForestRegressor\n",
    "\n",
    "# 그래디언트 부스팅\n",
    "from sklearn.ensemble import GradientBoostingRegressor\n",
    "\n",
    "# 로지스틱 회귀\n",
    "from statsmodels.api import Logit\n",
    "\n",
    "# 의사결정 나무\n",
    "from sklearn.tree import DecisionTreeRegressor\n",
    "from sklearn.tree import DecisionTreeClassifier\n",
    "from sklearn.tree import export_graphviz\n",
    "import graphviz\n",
    "\n",
    "# 랜덤 포레스트\n",
    "from sklearn.ensemble import RandomForestClassifier\n",
    "\n",
    "# 그래디언트 부스팅\n",
    "from sklearn.ensemble import GradientBoostingClassifier\n",
    "\n",
    "# 분류 SVM\n",
    "from sklearn.svm import SVC\n",
    "\n",
    "# 최적 모델, 파라미터 탐색\n",
    "from sklearn.model_selection import GridSearchCV\n",
    "\n",
    "# 분류모델 평가 함수\n",
    "from sklearn.metrics import accuracy_score, f1_score \n",
    "from sklearn.metrics import confusion_matrix, classification_report\n",
    "from sklearn.metrics import mean_squared_error\n",
    "from sklearn.metrics import mean_absolute_error\n",
    "\n",
    "#경고무시\n",
    "import warnings\n",
    "warnings.filterwarnings('ignore')"
   ]
  },
  {
   "cell_type": "code",
   "execution_count": 2,
   "metadata": {},
   "outputs": [],
   "source": [
    "#한글폰트\n",
    "\n",
    "matplotlib.rc('font', family = 'Malgun Gothic')"
   ]
  },
  {
   "cell_type": "markdown",
   "metadata": {},
   "source": [
    "# EDA"
   ]
  },
  {
   "cell_type": "markdown",
   "metadata": {},
   "source": [
    "### 데이터 불러오기"
   ]
  },
  {
   "cell_type": "code",
   "execution_count": 3,
   "metadata": {},
   "outputs": [
    {
     "data": {
      "text/html": [
       "<div>\n",
       "<style scoped>\n",
       "    .dataframe tbody tr th:only-of-type {\n",
       "        vertical-align: middle;\n",
       "    }\n",
       "\n",
       "    .dataframe tbody tr th {\n",
       "        vertical-align: top;\n",
       "    }\n",
       "\n",
       "    .dataframe thead th {\n",
       "        text-align: right;\n",
       "    }\n",
       "</style>\n",
       "<table border=\"1\" class=\"dataframe\">\n",
       "  <thead>\n",
       "    <tr style=\"text-align: right;\">\n",
       "      <th></th>\n",
       "      <th>MeasDate</th>\n",
       "      <th>PM10</th>\n",
       "      <th>O3</th>\n",
       "      <th>NO2</th>\n",
       "      <th>CO</th>\n",
       "      <th>SO2</th>\n",
       "      <th>TEMP</th>\n",
       "      <th>RAIN</th>\n",
       "      <th>WIND</th>\n",
       "      <th>WIND_DIR</th>\n",
       "      <th>HUMIDITY</th>\n",
       "      <th>ATM_PRESS</th>\n",
       "      <th>SNOW</th>\n",
       "      <th>CLOUD</th>\n",
       "    </tr>\n",
       "  </thead>\n",
       "  <tbody>\n",
       "    <tr>\n",
       "      <th>0</th>\n",
       "      <td>2019-07-01</td>\n",
       "      <td>29.0</td>\n",
       "      <td>0.054</td>\n",
       "      <td>0.021</td>\n",
       "      <td>0.5</td>\n",
       "      <td>0.003</td>\n",
       "      <td>24.03</td>\n",
       "      <td>0.0</td>\n",
       "      <td>2.30</td>\n",
       "      <td>249</td>\n",
       "      <td>63.2</td>\n",
       "      <td>995.1</td>\n",
       "      <td>0.0</td>\n",
       "      <td>5.70</td>\n",
       "    </tr>\n",
       "    <tr>\n",
       "      <th>1</th>\n",
       "      <td>2019-07-02</td>\n",
       "      <td>26.0</td>\n",
       "      <td>0.053</td>\n",
       "      <td>0.020</td>\n",
       "      <td>0.5</td>\n",
       "      <td>0.003</td>\n",
       "      <td>24.29</td>\n",
       "      <td>0.0</td>\n",
       "      <td>2.26</td>\n",
       "      <td>265</td>\n",
       "      <td>63.2</td>\n",
       "      <td>998.6</td>\n",
       "      <td>0.0</td>\n",
       "      <td>3.83</td>\n",
       "    </tr>\n",
       "    <tr>\n",
       "      <th>2</th>\n",
       "      <td>2019-07-03</td>\n",
       "      <td>30.0</td>\n",
       "      <td>0.042</td>\n",
       "      <td>0.023</td>\n",
       "      <td>0.4</td>\n",
       "      <td>0.003</td>\n",
       "      <td>24.18</td>\n",
       "      <td>0.0</td>\n",
       "      <td>1.79</td>\n",
       "      <td>280</td>\n",
       "      <td>65.3</td>\n",
       "      <td>998.3</td>\n",
       "      <td>0.0</td>\n",
       "      <td>6.29</td>\n",
       "    </tr>\n",
       "    <tr>\n",
       "      <th>3</th>\n",
       "      <td>2019-07-04</td>\n",
       "      <td>28.0</td>\n",
       "      <td>0.034</td>\n",
       "      <td>0.026</td>\n",
       "      <td>0.4</td>\n",
       "      <td>0.003</td>\n",
       "      <td>25.35</td>\n",
       "      <td>0.0</td>\n",
       "      <td>2.04</td>\n",
       "      <td>263</td>\n",
       "      <td>58.6</td>\n",
       "      <td>996.6</td>\n",
       "      <td>0.0</td>\n",
       "      <td>2.54</td>\n",
       "    </tr>\n",
       "    <tr>\n",
       "      <th>4</th>\n",
       "      <td>2019-07-05</td>\n",
       "      <td>29.0</td>\n",
       "      <td>0.045</td>\n",
       "      <td>0.035</td>\n",
       "      <td>0.5</td>\n",
       "      <td>0.003</td>\n",
       "      <td>27.30</td>\n",
       "      <td>0.0</td>\n",
       "      <td>1.45</td>\n",
       "      <td>175</td>\n",
       "      <td>45.5</td>\n",
       "      <td>993.5</td>\n",
       "      <td>0.0</td>\n",
       "      <td>3.92</td>\n",
       "    </tr>\n",
       "  </tbody>\n",
       "</table>\n",
       "</div>"
      ],
      "text/plain": [
       "    MeasDate  PM10     O3    NO2   CO    SO2   TEMP  RAIN  WIND  WIND_DIR  \\\n",
       "0 2019-07-01  29.0  0.054  0.021  0.5  0.003  24.03   0.0  2.30       249   \n",
       "1 2019-07-02  26.0  0.053  0.020  0.5  0.003  24.29   0.0  2.26       265   \n",
       "2 2019-07-03  30.0  0.042  0.023  0.4  0.003  24.18   0.0  1.79       280   \n",
       "3 2019-07-04  28.0  0.034  0.026  0.4  0.003  25.35   0.0  2.04       263   \n",
       "4 2019-07-05  29.0  0.045  0.035  0.5  0.003  27.30   0.0  1.45       175   \n",
       "\n",
       "   HUMIDITY  ATM_PRESS  SNOW  CLOUD  \n",
       "0      63.2      995.1   0.0   5.70  \n",
       "1      63.2      998.6   0.0   3.83  \n",
       "2      65.3      998.3   0.0   6.29  \n",
       "3      58.6      996.6   0.0   2.54  \n",
       "4      45.5      993.5   0.0   3.92  "
      ]
     },
     "execution_count": 3,
     "metadata": {},
     "output_type": "execute_result"
    }
   ],
   "source": [
    "df_raw = pd.read_csv(\"AIR_POLLUTION.csv\", parse_dates = [\"MeasDate\"])\n",
    "df_raw.head()"
   ]
  },
  {
   "cell_type": "code",
   "execution_count": 4,
   "metadata": {
    "scrolled": true
   },
   "outputs": [
    {
     "data": {
      "text/html": [
       "<div>\n",
       "<style scoped>\n",
       "    .dataframe tbody tr th:only-of-type {\n",
       "        vertical-align: middle;\n",
       "    }\n",
       "\n",
       "    .dataframe tbody tr th {\n",
       "        vertical-align: top;\n",
       "    }\n",
       "\n",
       "    .dataframe thead th {\n",
       "        text-align: right;\n",
       "    }\n",
       "</style>\n",
       "<table border=\"1\" class=\"dataframe\">\n",
       "  <thead>\n",
       "    <tr style=\"text-align: right;\">\n",
       "      <th></th>\n",
       "      <th>MeasDate</th>\n",
       "      <th>PM10</th>\n",
       "      <th>O3</th>\n",
       "      <th>NO2</th>\n",
       "      <th>CO</th>\n",
       "      <th>SO2</th>\n",
       "      <th>TEMP</th>\n",
       "      <th>RAIN</th>\n",
       "      <th>WIND</th>\n",
       "      <th>WIND_DIR</th>\n",
       "      <th>HUMIDITY</th>\n",
       "      <th>ATM_PRESS</th>\n",
       "      <th>SNOW</th>\n",
       "      <th>CLOUD</th>\n",
       "    </tr>\n",
       "  </thead>\n",
       "  <tbody>\n",
       "    <tr>\n",
       "      <th>361</th>\n",
       "      <td>2020-06-26</td>\n",
       "      <td>19.0</td>\n",
       "      <td>0.039</td>\n",
       "      <td>0.016</td>\n",
       "      <td>0.4</td>\n",
       "      <td>0.003</td>\n",
       "      <td>21.66</td>\n",
       "      <td>0.41</td>\n",
       "      <td>3.12</td>\n",
       "      <td>228</td>\n",
       "      <td>84.0</td>\n",
       "      <td>996.0</td>\n",
       "      <td>0.0</td>\n",
       "      <td>8.73</td>\n",
       "    </tr>\n",
       "    <tr>\n",
       "      <th>362</th>\n",
       "      <td>2020-06-27</td>\n",
       "      <td>22.0</td>\n",
       "      <td>0.044</td>\n",
       "      <td>0.017</td>\n",
       "      <td>0.4</td>\n",
       "      <td>0.004</td>\n",
       "      <td>23.94</td>\n",
       "      <td>0.00</td>\n",
       "      <td>1.93</td>\n",
       "      <td>217</td>\n",
       "      <td>69.8</td>\n",
       "      <td>995.8</td>\n",
       "      <td>0.0</td>\n",
       "      <td>6.21</td>\n",
       "    </tr>\n",
       "    <tr>\n",
       "      <th>363</th>\n",
       "      <td>2020-06-28</td>\n",
       "      <td>27.0</td>\n",
       "      <td>0.044</td>\n",
       "      <td>0.009</td>\n",
       "      <td>0.4</td>\n",
       "      <td>0.003</td>\n",
       "      <td>25.03</td>\n",
       "      <td>0.00</td>\n",
       "      <td>2.35</td>\n",
       "      <td>283</td>\n",
       "      <td>71.3</td>\n",
       "      <td>994.7</td>\n",
       "      <td>0.0</td>\n",
       "      <td>2.63</td>\n",
       "    </tr>\n",
       "    <tr>\n",
       "      <th>364</th>\n",
       "      <td>2020-06-29</td>\n",
       "      <td>36.0</td>\n",
       "      <td>0.026</td>\n",
       "      <td>0.028</td>\n",
       "      <td>0.6</td>\n",
       "      <td>0.003</td>\n",
       "      <td>24.06</td>\n",
       "      <td>1.26</td>\n",
       "      <td>2.48</td>\n",
       "      <td>103</td>\n",
       "      <td>75.5</td>\n",
       "      <td>992.9</td>\n",
       "      <td>0.0</td>\n",
       "      <td>7.58</td>\n",
       "    </tr>\n",
       "    <tr>\n",
       "      <th>365</th>\n",
       "      <td>2020-06-30</td>\n",
       "      <td>6.0</td>\n",
       "      <td>0.039</td>\n",
       "      <td>0.009</td>\n",
       "      <td>0.3</td>\n",
       "      <td>0.002</td>\n",
       "      <td>20.60</td>\n",
       "      <td>5.60</td>\n",
       "      <td>4.00</td>\n",
       "      <td>50</td>\n",
       "      <td>92.0</td>\n",
       "      <td>983.8</td>\n",
       "      <td>0.0</td>\n",
       "      <td>10.00</td>\n",
       "    </tr>\n",
       "  </tbody>\n",
       "</table>\n",
       "</div>"
      ],
      "text/plain": [
       "      MeasDate  PM10     O3    NO2   CO    SO2   TEMP  RAIN  WIND  WIND_DIR  \\\n",
       "361 2020-06-26  19.0  0.039  0.016  0.4  0.003  21.66  0.41  3.12       228   \n",
       "362 2020-06-27  22.0  0.044  0.017  0.4  0.004  23.94  0.00  1.93       217   \n",
       "363 2020-06-28  27.0  0.044  0.009  0.4  0.003  25.03  0.00  2.35       283   \n",
       "364 2020-06-29  36.0  0.026  0.028  0.6  0.003  24.06  1.26  2.48       103   \n",
       "365 2020-06-30   6.0  0.039  0.009  0.3  0.002  20.60  5.60  4.00        50   \n",
       "\n",
       "     HUMIDITY  ATM_PRESS  SNOW  CLOUD  \n",
       "361      84.0      996.0   0.0   8.73  \n",
       "362      69.8      995.8   0.0   6.21  \n",
       "363      71.3      994.7   0.0   2.63  \n",
       "364      75.5      992.9   0.0   7.58  \n",
       "365      92.0      983.8   0.0  10.00  "
      ]
     },
     "execution_count": 4,
     "metadata": {},
     "output_type": "execute_result"
    }
   ],
   "source": [
    "df_raw.tail()"
   ]
  },
  {
   "cell_type": "code",
   "execution_count": 5,
   "metadata": {},
   "outputs": [
    {
     "data": {
      "text/plain": [
       "(366, 14)"
      ]
     },
     "execution_count": 5,
     "metadata": {},
     "output_type": "execute_result"
    }
   ],
   "source": [
    "df_raw.shape"
   ]
  },
  {
   "cell_type": "markdown",
   "metadata": {},
   "source": [
    "- 해당 데이터 셋은 2019년 7월 1일부터 2020년 6월 30일까지 총 1년간의 데이터임을 알 수 있다. "
   ]
  },
  {
   "cell_type": "code",
   "execution_count": 6,
   "metadata": {
    "scrolled": true
   },
   "outputs": [
    {
     "name": "stdout",
     "output_type": "stream",
     "text": [
      "<class 'pandas.core.frame.DataFrame'>\n",
      "RangeIndex: 366 entries, 0 to 365\n",
      "Data columns (total 14 columns):\n",
      " #   Column     Non-Null Count  Dtype         \n",
      "---  ------     --------------  -----         \n",
      " 0   MeasDate   366 non-null    datetime64[ns]\n",
      " 1   PM10       365 non-null    float64       \n",
      " 2   O3         365 non-null    float64       \n",
      " 3   NO2        365 non-null    float64       \n",
      " 4   CO         311 non-null    float64       \n",
      " 5   SO2        365 non-null    float64       \n",
      " 6   TEMP       366 non-null    float64       \n",
      " 7   RAIN       366 non-null    float64       \n",
      " 8   WIND       366 non-null    float64       \n",
      " 9   WIND_DIR   366 non-null    int64         \n",
      " 10  HUMIDITY   366 non-null    float64       \n",
      " 11  ATM_PRESS  366 non-null    float64       \n",
      " 12  SNOW       366 non-null    float64       \n",
      " 13  CLOUD      366 non-null    float64       \n",
      "dtypes: datetime64[ns](1), float64(12), int64(1)\n",
      "memory usage: 40.2 KB\n"
     ]
    }
   ],
   "source": [
    "#데이터 속성 확인하기\n",
    "\n",
    "df_raw.info()"
   ]
  },
  {
   "cell_type": "markdown",
   "metadata": {},
   "source": [
    "- 날짜 데이터가 object형으로 되어있다. 월별로 분리해주기 위해서는 DateTime 형식으로 변환해줘야 함을 확인. "
   ]
  },
  {
   "cell_type": "code",
   "execution_count": 7,
   "metadata": {
    "scrolled": true
   },
   "outputs": [
    {
     "data": {
      "text/html": [
       "<div>\n",
       "<style scoped>\n",
       "    .dataframe tbody tr th:only-of-type {\n",
       "        vertical-align: middle;\n",
       "    }\n",
       "\n",
       "    .dataframe tbody tr th {\n",
       "        vertical-align: top;\n",
       "    }\n",
       "\n",
       "    .dataframe thead th {\n",
       "        text-align: right;\n",
       "    }\n",
       "</style>\n",
       "<table border=\"1\" class=\"dataframe\">\n",
       "  <thead>\n",
       "    <tr style=\"text-align: right;\">\n",
       "      <th></th>\n",
       "      <th>PM10</th>\n",
       "      <th>O3</th>\n",
       "      <th>NO2</th>\n",
       "      <th>CO</th>\n",
       "      <th>SO2</th>\n",
       "      <th>TEMP</th>\n",
       "      <th>RAIN</th>\n",
       "      <th>WIND</th>\n",
       "      <th>WIND_DIR</th>\n",
       "      <th>HUMIDITY</th>\n",
       "      <th>ATM_PRESS</th>\n",
       "      <th>SNOW</th>\n",
       "      <th>CLOUD</th>\n",
       "    </tr>\n",
       "  </thead>\n",
       "  <tbody>\n",
       "    <tr>\n",
       "      <th>count</th>\n",
       "      <td>365.000000</td>\n",
       "      <td>365.000000</td>\n",
       "      <td>365.000000</td>\n",
       "      <td>311.000000</td>\n",
       "      <td>365.000000</td>\n",
       "      <td>366.000000</td>\n",
       "      <td>366.000000</td>\n",
       "      <td>366.000000</td>\n",
       "      <td>366.000000</td>\n",
       "      <td>366.000000</td>\n",
       "      <td>366.000000</td>\n",
       "      <td>366.000000</td>\n",
       "      <td>366.000000</td>\n",
       "    </tr>\n",
       "    <tr>\n",
       "      <th>mean</th>\n",
       "      <td>33.421918</td>\n",
       "      <td>0.023600</td>\n",
       "      <td>0.026814</td>\n",
       "      <td>0.517042</td>\n",
       "      <td>0.003033</td>\n",
       "      <td>13.863798</td>\n",
       "      <td>0.381639</td>\n",
       "      <td>2.225301</td>\n",
       "      <td>209.450820</td>\n",
       "      <td>60.295082</td>\n",
       "      <td>1005.848907</td>\n",
       "      <td>0.022951</td>\n",
       "      <td>5.064016</td>\n",
       "    </tr>\n",
       "    <tr>\n",
       "      <th>std</th>\n",
       "      <td>15.937983</td>\n",
       "      <td>0.011896</td>\n",
       "      <td>0.010271</td>\n",
       "      <td>0.152820</td>\n",
       "      <td>0.000632</td>\n",
       "      <td>9.830280</td>\n",
       "      <td>1.122127</td>\n",
       "      <td>0.723171</td>\n",
       "      <td>70.735018</td>\n",
       "      <td>14.534983</td>\n",
       "      <td>8.126823</td>\n",
       "      <td>0.222361</td>\n",
       "      <td>2.986119</td>\n",
       "    </tr>\n",
       "    <tr>\n",
       "      <th>min</th>\n",
       "      <td>5.000000</td>\n",
       "      <td>0.002000</td>\n",
       "      <td>0.008000</td>\n",
       "      <td>0.300000</td>\n",
       "      <td>0.002000</td>\n",
       "      <td>-7.950000</td>\n",
       "      <td>0.000000</td>\n",
       "      <td>0.940000</td>\n",
       "      <td>50.000000</td>\n",
       "      <td>17.900000</td>\n",
       "      <td>983.800000</td>\n",
       "      <td>0.000000</td>\n",
       "      <td>0.000000</td>\n",
       "    </tr>\n",
       "    <tr>\n",
       "      <th>25%</th>\n",
       "      <td>22.000000</td>\n",
       "      <td>0.014000</td>\n",
       "      <td>0.019000</td>\n",
       "      <td>0.400000</td>\n",
       "      <td>0.003000</td>\n",
       "      <td>5.492500</td>\n",
       "      <td>0.000000</td>\n",
       "      <td>1.722500</td>\n",
       "      <td>160.250000</td>\n",
       "      <td>49.650000</td>\n",
       "      <td>999.400000</td>\n",
       "      <td>0.000000</td>\n",
       "      <td>2.510000</td>\n",
       "    </tr>\n",
       "    <tr>\n",
       "      <th>50%</th>\n",
       "      <td>31.000000</td>\n",
       "      <td>0.023000</td>\n",
       "      <td>0.025000</td>\n",
       "      <td>0.500000</td>\n",
       "      <td>0.003000</td>\n",
       "      <td>14.000000</td>\n",
       "      <td>0.000000</td>\n",
       "      <td>2.095000</td>\n",
       "      <td>221.000000</td>\n",
       "      <td>61.050000</td>\n",
       "      <td>1006.450000</td>\n",
       "      <td>0.000000</td>\n",
       "      <td>5.310000</td>\n",
       "    </tr>\n",
       "    <tr>\n",
       "      <th>75%</th>\n",
       "      <td>42.000000</td>\n",
       "      <td>0.032000</td>\n",
       "      <td>0.034000</td>\n",
       "      <td>0.600000</td>\n",
       "      <td>0.003000</td>\n",
       "      <td>23.070000</td>\n",
       "      <td>0.115000</td>\n",
       "      <td>2.620000</td>\n",
       "      <td>266.000000</td>\n",
       "      <td>69.950000</td>\n",
       "      <td>1011.575000</td>\n",
       "      <td>0.000000</td>\n",
       "      <td>7.570000</td>\n",
       "    </tr>\n",
       "    <tr>\n",
       "      <th>max</th>\n",
       "      <td>101.000000</td>\n",
       "      <td>0.062000</td>\n",
       "      <td>0.059000</td>\n",
       "      <td>1.000000</td>\n",
       "      <td>0.005000</td>\n",
       "      <td>31.720000</td>\n",
       "      <td>11.800000</td>\n",
       "      <td>5.880000</td>\n",
       "      <td>351.000000</td>\n",
       "      <td>95.000000</td>\n",
       "      <td>1025.500000</td>\n",
       "      <td>3.200000</td>\n",
       "      <td>10.000000</td>\n",
       "    </tr>\n",
       "  </tbody>\n",
       "</table>\n",
       "</div>"
      ],
      "text/plain": [
       "             PM10          O3         NO2          CO         SO2        TEMP  \\\n",
       "count  365.000000  365.000000  365.000000  311.000000  365.000000  366.000000   \n",
       "mean    33.421918    0.023600    0.026814    0.517042    0.003033   13.863798   \n",
       "std     15.937983    0.011896    0.010271    0.152820    0.000632    9.830280   \n",
       "min      5.000000    0.002000    0.008000    0.300000    0.002000   -7.950000   \n",
       "25%     22.000000    0.014000    0.019000    0.400000    0.003000    5.492500   \n",
       "50%     31.000000    0.023000    0.025000    0.500000    0.003000   14.000000   \n",
       "75%     42.000000    0.032000    0.034000    0.600000    0.003000   23.070000   \n",
       "max    101.000000    0.062000    0.059000    1.000000    0.005000   31.720000   \n",
       "\n",
       "             RAIN        WIND    WIND_DIR    HUMIDITY    ATM_PRESS  \\\n",
       "count  366.000000  366.000000  366.000000  366.000000   366.000000   \n",
       "mean     0.381639    2.225301  209.450820   60.295082  1005.848907   \n",
       "std      1.122127    0.723171   70.735018   14.534983     8.126823   \n",
       "min      0.000000    0.940000   50.000000   17.900000   983.800000   \n",
       "25%      0.000000    1.722500  160.250000   49.650000   999.400000   \n",
       "50%      0.000000    2.095000  221.000000   61.050000  1006.450000   \n",
       "75%      0.115000    2.620000  266.000000   69.950000  1011.575000   \n",
       "max     11.800000    5.880000  351.000000   95.000000  1025.500000   \n",
       "\n",
       "             SNOW       CLOUD  \n",
       "count  366.000000  366.000000  \n",
       "mean     0.022951    5.064016  \n",
       "std      0.222361    2.986119  \n",
       "min      0.000000    0.000000  \n",
       "25%      0.000000    2.510000  \n",
       "50%      0.000000    5.310000  \n",
       "75%      0.000000    7.570000  \n",
       "max      3.200000   10.000000  "
      ]
     },
     "execution_count": 7,
     "metadata": {},
     "output_type": "execute_result"
    }
   ],
   "source": [
    "# 기술통계량 확인\n",
    "\n",
    "df_raw.describe()"
   ]
  },
  {
   "cell_type": "markdown",
   "metadata": {},
   "source": [
    "#### 결측치 및 이상치"
   ]
  },
  {
   "cell_type": "code",
   "execution_count": 8,
   "metadata": {
    "scrolled": true
   },
   "outputs": [
    {
     "data": {
      "text/plain": [
       "MeasDate      0\n",
       "PM10          1\n",
       "O3            1\n",
       "NO2           1\n",
       "CO           55\n",
       "SO2           1\n",
       "TEMP          0\n",
       "RAIN          0\n",
       "WIND          0\n",
       "WIND_DIR      0\n",
       "HUMIDITY      0\n",
       "ATM_PRESS     0\n",
       "SNOW          0\n",
       "CLOUD         0\n",
       "dtype: int64"
      ]
     },
     "execution_count": 8,
     "metadata": {},
     "output_type": "execute_result"
    }
   ],
   "source": [
    "# 결측치 확인\n",
    "\n",
    "df_raw.isnull().sum()"
   ]
  },
  {
   "cell_type": "markdown",
   "metadata": {},
   "source": [
    "- 목표변수인 PM10은 예측해야 하는 값인데 결측값이 존재하는 것은 데이터로서 의미가 없다고 판단, 이 행은 제거하도록 한다. "
   ]
  },
  {
   "cell_type": "code",
   "execution_count": 9,
   "metadata": {},
   "outputs": [
    {
     "data": {
      "text/plain": [
       "328   NaN\n",
       "Name: PM10, dtype: float64"
      ]
     },
     "execution_count": 9,
     "metadata": {},
     "output_type": "execute_result"
    }
   ],
   "source": [
    "# 결측치인 행의 인덱스 반환\n",
    "df_raw['PM10'][df_raw['PM10'].isnull()]"
   ]
  },
  {
   "cell_type": "code",
   "execution_count": 10,
   "metadata": {},
   "outputs": [
    {
     "data": {
      "text/plain": [
       "MeasDate      0\n",
       "PM10          0\n",
       "O3            0\n",
       "NO2           0\n",
       "CO           54\n",
       "SO2           0\n",
       "TEMP          0\n",
       "RAIN          0\n",
       "WIND          0\n",
       "WIND_DIR      0\n",
       "HUMIDITY      0\n",
       "ATM_PRESS     0\n",
       "SNOW          0\n",
       "CLOUD         0\n",
       "dtype: int64"
      ]
     },
     "execution_count": 10,
     "metadata": {},
     "output_type": "execute_result"
    }
   ],
   "source": [
    "df_raw.drop(index = 328, axis = 1, inplace = True)\n",
    "df_raw.isnull().sum()"
   ]
  },
  {
   "cell_type": "markdown",
   "metadata": {},
   "source": [
    "<내가 생각한 것>  \n",
    "\n",
    "CO칼럼의 결측치가 54개로, 다른 설명변수들보다 많은 결측치를 보인다. \n",
    "CO의 결측치는 어떤 것으로 대체 할지 조금 더 고민해본다. \n",
    "\n",
    "- 각 대기오염인자는 계절 및 온도에 영향을 받을 수 있다고 판단, **계절에 따라 앞뒤 값으로 대체한다.**\n",
    "\n",
    "<가이드>  \n",
    "\n",
    "- 목표변수의 결측치는 제거\n",
    "- 설명변수 결측치는 평균값으로 대체\n",
    "- 이상치는 대체 하지 않음\n",
    "- 파생변수 생성: 수치가 큰 값과 작은 값을 평균을 기준으로 구분   \n",
    "    -> 크기집단에 따른 목표변수의 영향을 확인 \n",
    "    - rain, snow의 경우: 0인경우, 나머지 "
   ]
  },
  {
   "cell_type": "code",
   "execution_count": 11,
   "metadata": {
    "scrolled": false
   },
   "outputs": [
    {
     "data": {
      "text/plain": [
       "MeasDate     0\n",
       "PM10         0\n",
       "O3           0\n",
       "NO2          0\n",
       "CO           0\n",
       "SO2          0\n",
       "TEMP         0\n",
       "RAIN         0\n",
       "WIND         0\n",
       "WIND_DIR     0\n",
       "HUMIDITY     0\n",
       "ATM_PRESS    0\n",
       "SNOW         0\n",
       "CLOUD        0\n",
       "dtype: int64"
      ]
     },
     "execution_count": 11,
     "metadata": {},
     "output_type": "execute_result"
    }
   ],
   "source": [
    "#결측치 대체\n",
    "\n",
    "df_raw = df_raw.fillna(df_raw.interpolate())\n",
    "df_raw.isnull().sum()"
   ]
  },
  {
   "cell_type": "markdown",
   "metadata": {},
   "source": [
    "- 결측치 삭제 시 데이터의 손실이 크게 발생함으로 결측치는 삭제하지 않고 대체한다.\n",
    "- 결측을 보이는 대기 오염의 인자는 날짜에 따라서 영향이 있을 수 있으므로, 앞뒤 날의 평균값으로 대체한다. \n",
    "- 결측값이 모두 채워진 것을 확인 할 수 있다. "
   ]
  },
  {
   "cell_type": "markdown",
   "metadata": {},
   "source": [
    "### 이상치 확인"
   ]
  },
  {
   "cell_type": "code",
   "execution_count": 12,
   "metadata": {
    "scrolled": true
   },
   "outputs": [
    {
     "data": {
      "text/plain": [
       "<AxesSubplot:>"
      ]
     },
     "execution_count": 12,
     "metadata": {},
     "output_type": "execute_result"
    },
    {
     "data": {
      "image/png": "[encoded data removed]",
      "text/plain": [
       "<Figure size 720x576 with 1 Axes>"
      ]
     },
     "metadata": {
      "needs_background": "light"
     },
     "output_type": "display_data"
    }
   ],
   "source": [
    "df_raw.boxplot([\"PM10\"], figsize = (10,8))"
   ]
  },
  {
   "cell_type": "code",
   "execution_count": 13,
   "metadata": {},
   "outputs": [
    {
     "data": {
      "text/plain": [
       "<AxesSubplot:>"
      ]
     },
     "execution_count": 13,
     "metadata": {},
     "output_type": "execute_result"
    },
    {
     "data": {
      "image/png": "[encoded data removed]",
      "text/plain": [
       "<Figure size 720x576 with 1 Axes>"
      ]
     },
     "metadata": {
      "needs_background": "light"
     },
     "output_type": "display_data"
    }
   ],
   "source": [
    "df_raw.boxplot([\"CO\"], figsize = (10,8))"
   ]
  },
  {
   "cell_type": "code",
   "execution_count": 14,
   "metadata": {},
   "outputs": [
    {
     "data": {
      "text/plain": [
       "<AxesSubplot:>"
      ]
     },
     "execution_count": 14,
     "metadata": {},
     "output_type": "execute_result"
    },
    {
     "data": {
      "image/png": "[encoded data removed]",
      "text/plain": [
       "<Figure size 720x576 with 1 Axes>"
      ]
     },
     "metadata": {
      "needs_background": "light"
     },
     "output_type": "display_data"
    }
   ],
   "source": [
    "df_raw.boxplot([\"SO2\"], figsize = (10,8))"
   ]
  },
  {
   "cell_type": "code",
   "execution_count": 15,
   "metadata": {},
   "outputs": [
    {
     "data": {
      "text/plain": [
       "<AxesSubplot:>"
      ]
     },
     "execution_count": 15,
     "metadata": {},
     "output_type": "execute_result"
    },
    {
     "data": {
      "image/png": "[encoded data removed]",
      "text/plain": [
       "<Figure size 720x576 with 1 Axes>"
      ]
     },
     "metadata": {
      "needs_background": "light"
     },
     "output_type": "display_data"
    }
   ],
   "source": [
    "df_raw.boxplot([\"NO2\"], figsize = (10,8))"
   ]
  },
  {
   "cell_type": "code",
   "execution_count": null,
   "metadata": {},
   "outputs": [],
   "source": []
  },
  {
   "cell_type": "markdown",
   "metadata": {},
   "source": [
    "# 4. 그래프 분석"
   ]
  },
  {
   "cell_type": "markdown",
   "metadata": {},
   "source": [
    "### 목표변수의 분포확인 "
   ]
  },
  {
   "cell_type": "code",
   "execution_count": 23,
   "metadata": {},
   "outputs": [
    {
     "data": {
      "image/png": "[encoded data removed]",
      "text/plain": [
       "<Figure size 432x288 with 1 Axes>"
      ]
     },
     "metadata": {
      "needs_background": "light"
     },
     "output_type": "display_data"
    }
   ],
   "source": [
    "sns.histplot(df['PM10'],bins=30)\n",
    "\n",
    "plt.show()"
   ]
  },
  {
   "cell_type": "markdown",
   "metadata": {},
   "source": [
    "### 설명변수와 목표변수 간 관계확인\n",
    "\n",
    "#### O3와 PM10의 관계"
   ]
  },
  {
   "cell_type": "code",
   "execution_count": 24,
   "metadata": {
    "scrolled": true
   },
   "outputs": [
    {
     "data": {
      "text/plain": [
       "<AxesSubplot:xlabel='SO2', ylabel='PM10'>"
      ]
     },
     "execution_count": 24,
     "metadata": {},
     "output_type": "execute_result"
    },
    {
     "data": {
      "image/png": "[encoded data removed]",
      "text/plain": [
       "<Figure size 360x360 with 1 Axes>"
      ]
     },
     "metadata": {
      "needs_background": "light"
     },
     "output_type": "display_data"
    }
   ],
   "source": [
    "plt.figure(figsize = (5,5))\n",
    "sns.scatterplot(x = \"SO2\", y = \"PM10\", data = df_raw)\n"
   ]
  },
  {
   "cell_type": "markdown",
   "metadata": {},
   "source": [
    "#### CO와 PM10의 관계"
   ]
  },
  {
   "cell_type": "code",
   "execution_count": 25,
   "metadata": {
    "scrolled": true
   },
   "outputs": [
    {
     "data": {
      "text/plain": [
       "<AxesSubplot:xlabel='CO', ylabel='PM10'>"
      ]
     },
     "execution_count": 25,
     "metadata": {},
     "output_type": "execute_result"
    },
    {
     "data": {
      "image/png": "[encoded data removed]",
      "text/plain": [
       "<Figure size 360x360 with 1 Axes>"
      ]
     },
     "metadata": {
      "needs_background": "light"
     },
     "output_type": "display_data"
    }
   ],
   "source": [
    "plt.figure(figsize = (5,5))\n",
    "\n",
    "sns.scatterplot(x = \"CO\", y = \"PM10\", data = df_raw)"
   ]
  },
  {
   "cell_type": "markdown",
   "metadata": {},
   "source": [
    "- CO가 증가할때 PM10도 같이 증가하는 모습을 볼 수 있다. 따라서 양의 상관관계를 보인다고 할 수 있다.  "
   ]
  },
  {
   "cell_type": "markdown",
   "metadata": {},
   "source": [
    "#### NO2와 PM10의 관계"
   ]
  },
  {
   "cell_type": "code",
   "execution_count": 26,
   "metadata": {
    "scrolled": true
   },
   "outputs": [
    {
     "data": {
      "text/plain": [
       "<AxesSubplot:xlabel='NO2', ylabel='PM10'>"
      ]
     },
     "execution_count": 26,
     "metadata": {},
     "output_type": "execute_result"
    },
    {
     "data": {
      "image/png": "[encoded data removed]",
      "text/plain": [
       "<Figure size 360x360 with 1 Axes>"
      ]
     },
     "metadata": {
      "needs_background": "light"
     },
     "output_type": "display_data"
    }
   ],
   "source": [
    "plt.figure(figsize = (5,5))\n",
    "sns.scatterplot(x = \"NO2\", y = \"PM10\", data = df_raw)"
   ]
  },
  {
   "cell_type": "markdown",
   "metadata": {},
   "source": [
    "- NO2가 증가할때 PM10도 같이 증가하는 모습을 볼 수 있다. 상대적으로 넓게 분포하는 PM10을 보면 강한 선형관계를 유추하기를 어렵지만 전체적으로 우상향 그래프를 띈다고 볼 수 있을 것이다. "
   ]
  },
  {
   "cell_type": "markdown",
   "metadata": {},
   "source": [
    "#### TEMP와 PM10의 관계"
   ]
  },
  {
   "cell_type": "code",
   "execution_count": 27,
   "metadata": {},
   "outputs": [
    {
     "data": {
      "text/plain": [
       "<AxesSubplot:xlabel='TEMP', ylabel='PM10'>"
      ]
     },
     "execution_count": 27,
     "metadata": {},
     "output_type": "execute_result"
    },
    {
     "data": {
      "image/png": "[encoded data removed]",
      "text/plain": [
       "<Figure size 360x360 with 1 Axes>"
      ]
     },
     "metadata": {
      "needs_background": "light"
     },
     "output_type": "display_data"
    }
   ],
   "source": [
    "plt.figure(figsize = (5,5))\n",
    "sns.scatterplot(x = \"TEMP\", y = \"PM10\", data = df_raw)"
   ]
  },
  {
   "cell_type": "markdown",
   "metadata": {},
   "source": [
    "- 명확한 선형성을 띄는 것은 아니지만 온도가 높아질 수록 PM10의 수치가 낮아지는 경향성, 온도가 높아지면 PM10의 수치가 높아지는 경향성을 보이는 것을 알 수 있다. 우리나라는 사계절이 있는 나라로서, 온도는 계절에 따라 변화하는 추이를 나타내기 때문에 추후 계절에 따른 수치의 변화가 있는지 확인 해볼 필요가 있다고 생각했다. "
   ]
  },
  {
   "cell_type": "markdown",
   "metadata": {},
   "source": [
    "#### ATM PRESS와 PM10의 관계"
   ]
  },
  {
   "cell_type": "code",
   "execution_count": 28,
   "metadata": {},
   "outputs": [
    {
     "data": {
      "text/plain": [
       "<AxesSubplot:xlabel='ATM_PRESS', ylabel='PM10'>"
      ]
     },
     "execution_count": 28,
     "metadata": {},
     "output_type": "execute_result"
    },
    {
     "data": {
      "image/png": "[encoded data removed]",
      "text/plain": [
       "<Figure size 360x360 with 1 Axes>"
      ]
     },
     "metadata": {
      "needs_background": "light"
     },
     "output_type": "display_data"
    }
   ],
   "source": [
    "plt.figure(figsize = (5,5))\n",
    "sns.scatterplot(x = \"ATM_PRESS\", y = \"PM10\", data = df_raw)"
   ]
  },
  {
   "cell_type": "markdown",
   "metadata": {},
   "source": [
    "- 기압을 나타내는 ATM_PRESS는 역시 뚜렷한 선형성을 찾아보기는 어렵지만 약한 선형성을 띈다고 할 수 있다. 과학적 지식에 따르면 겨울에는 내륙에 고기압이 형성되고, 여름에는 저기압이 형성된다. 겨울에서 봄 즈음 발생하는 고기압과 그로인해 발생하는 편서풍이 강해지면 우리나라의 서쪽에 위치하는 중국에서 발생하는 미세먼지 등이 우리나라에 영향을 주게 된다. 따라서 명확히 기압때문이라고 할수는 없지만, 바람 방향에 영향을 주는 기압임으로 , 본 관계를 보고 바람 방향이 주는 영향에 대해 정확히 분석해볼 필요가 있다고 판단했다.  "
   ]
  },
  {
   "cell_type": "markdown",
   "metadata": {},
   "source": [
    "#### 기타요인과 PM10의 관계"
   ]
  },
  {
   "cell_type": "code",
   "execution_count": 29,
   "metadata": {
    "scrolled": false
   },
   "outputs": [
    {
     "data": {
      "text/plain": [
       "<seaborn.axisgrid.PairGrid at 0x1674d161160>"
      ]
     },
     "execution_count": 29,
     "metadata": {},
     "output_type": "execute_result"
    },
    {
     "data": {
      "image/png": "[encoded data removed]",
      "text/plain": [
       "<Figure size 900x180 with 5 Axes>"
      ]
     },
     "metadata": {
      "needs_background": "light"
     },
     "output_type": "display_data"
    }
   ],
   "source": [
    "sns.pairplot(df_raw, y_vars = [\"PM10\"], x_vars = [\"SNOW\", \"RAIN\", \"HUMIDITY\", \"WIND\", \"CLOUD\"])"
   ]
  },
  {
   "cell_type": "markdown",
   "metadata": {},
   "source": []
  },
  {
   "cell_type": "markdown",
   "metadata": {},
   "source": [
    "# 파생변수\n",
    "- 계절별 파생변수\n",
    "- 설명변수의 파생변수 : 평균보다 크거나, 작은 집단 생성\n",
    "- 비/눈 이 오거나, 오지 않거나"
   ]
  },
  {
   "cell_type": "markdown",
   "metadata": {},
   "source": [
    "### 계절별 파생변수 만들기"
   ]
  },
  {
   "cell_type": "code",
   "execution_count": 30,
   "metadata": {
    "scrolled": true
   },
   "outputs": [],
   "source": [
    "#날짜를 datetime 형태로 만들어주기\n",
    "\n",
    "df_raw[\"MeasDate\"] = pd.to_datetime(df_raw['MeasDate'])"
   ]
  },
  {
   "cell_type": "code",
   "execution_count": 31,
   "metadata": {
    "scrolled": true
   },
   "outputs": [],
   "source": [
    "# 년-월-일자 데이터에서 월만 뽑아오기 \n",
    "df_raw['Month'] = df_raw['MeasDate'].dt.month\n",
    "\n",
    "# #컬럼 재배열 \n",
    "# df_raw = df_raw[['MeasDate','Month' ,'PM10', 'O3', 'NO2', 'CO', 'SO2', 'TEMP', 'RAIN', 'WIND',\n",
    "#        'WIND_DIR', 'HUMIDITY', 'ATM_PRESS', 'SNOW', 'CLOUD']]\n",
    "# df_raw.head()"
   ]
  },
  {
   "cell_type": "code",
   "execution_count": 32,
   "metadata": {
    "scrolled": true
   },
   "outputs": [
    {
     "data": {
      "text/html": [
       "<div>\n",
       "<style scoped>\n",
       "    .dataframe tbody tr th:only-of-type {\n",
       "        vertical-align: middle;\n",
       "    }\n",
       "\n",
       "    .dataframe tbody tr th {\n",
       "        vertical-align: top;\n",
       "    }\n",
       "\n",
       "    .dataframe thead th {\n",
       "        text-align: right;\n",
       "    }\n",
       "</style>\n",
       "<table border=\"1\" class=\"dataframe\">\n",
       "  <thead>\n",
       "    <tr style=\"text-align: right;\">\n",
       "      <th></th>\n",
       "      <th>MeasDate</th>\n",
       "      <th>PM10</th>\n",
       "      <th>O3</th>\n",
       "      <th>NO2</th>\n",
       "      <th>CO</th>\n",
       "      <th>SO2</th>\n",
       "      <th>TEMP</th>\n",
       "      <th>RAIN</th>\n",
       "      <th>WIND</th>\n",
       "      <th>WIND_DIR</th>\n",
       "      <th>HUMIDITY</th>\n",
       "      <th>ATM_PRESS</th>\n",
       "      <th>SNOW</th>\n",
       "      <th>CLOUD</th>\n",
       "      <th>Month</th>\n",
       "      <th>Season</th>\n",
       "    </tr>\n",
       "  </thead>\n",
       "  <tbody>\n",
       "    <tr>\n",
       "      <th>0</th>\n",
       "      <td>2019-07-01</td>\n",
       "      <td>29.0</td>\n",
       "      <td>0.054</td>\n",
       "      <td>0.021</td>\n",
       "      <td>0.5</td>\n",
       "      <td>0.003</td>\n",
       "      <td>24.03</td>\n",
       "      <td>0.0</td>\n",
       "      <td>2.30</td>\n",
       "      <td>249</td>\n",
       "      <td>63.2</td>\n",
       "      <td>995.1</td>\n",
       "      <td>0.0</td>\n",
       "      <td>5.70</td>\n",
       "      <td>7</td>\n",
       "      <td>여름</td>\n",
       "    </tr>\n",
       "    <tr>\n",
       "      <th>1</th>\n",
       "      <td>2019-07-02</td>\n",
       "      <td>26.0</td>\n",
       "      <td>0.053</td>\n",
       "      <td>0.020</td>\n",
       "      <td>0.5</td>\n",
       "      <td>0.003</td>\n",
       "      <td>24.29</td>\n",
       "      <td>0.0</td>\n",
       "      <td>2.26</td>\n",
       "      <td>265</td>\n",
       "      <td>63.2</td>\n",
       "      <td>998.6</td>\n",
       "      <td>0.0</td>\n",
       "      <td>3.83</td>\n",
       "      <td>7</td>\n",
       "      <td>여름</td>\n",
       "    </tr>\n",
       "    <tr>\n",
       "      <th>2</th>\n",
       "      <td>2019-07-03</td>\n",
       "      <td>30.0</td>\n",
       "      <td>0.042</td>\n",
       "      <td>0.023</td>\n",
       "      <td>0.4</td>\n",
       "      <td>0.003</td>\n",
       "      <td>24.18</td>\n",
       "      <td>0.0</td>\n",
       "      <td>1.79</td>\n",
       "      <td>280</td>\n",
       "      <td>65.3</td>\n",
       "      <td>998.3</td>\n",
       "      <td>0.0</td>\n",
       "      <td>6.29</td>\n",
       "      <td>7</td>\n",
       "      <td>여름</td>\n",
       "    </tr>\n",
       "    <tr>\n",
       "      <th>3</th>\n",
       "      <td>2019-07-04</td>\n",
       "      <td>28.0</td>\n",
       "      <td>0.034</td>\n",
       "      <td>0.026</td>\n",
       "      <td>0.4</td>\n",
       "      <td>0.003</td>\n",
       "      <td>25.35</td>\n",
       "      <td>0.0</td>\n",
       "      <td>2.04</td>\n",
       "      <td>263</td>\n",
       "      <td>58.6</td>\n",
       "      <td>996.6</td>\n",
       "      <td>0.0</td>\n",
       "      <td>2.54</td>\n",
       "      <td>7</td>\n",
       "      <td>여름</td>\n",
       "    </tr>\n",
       "    <tr>\n",
       "      <th>4</th>\n",
       "      <td>2019-07-05</td>\n",
       "      <td>29.0</td>\n",
       "      <td>0.045</td>\n",
       "      <td>0.035</td>\n",
       "      <td>0.5</td>\n",
       "      <td>0.003</td>\n",
       "      <td>27.30</td>\n",
       "      <td>0.0</td>\n",
       "      <td>1.45</td>\n",
       "      <td>175</td>\n",
       "      <td>45.5</td>\n",
       "      <td>993.5</td>\n",
       "      <td>0.0</td>\n",
       "      <td>3.92</td>\n",
       "      <td>7</td>\n",
       "      <td>여름</td>\n",
       "    </tr>\n",
       "  </tbody>\n",
       "</table>\n",
       "</div>"
      ],
      "text/plain": [
       "    MeasDate  PM10     O3    NO2   CO    SO2   TEMP  RAIN  WIND  WIND_DIR  \\\n",
       "0 2019-07-01  29.0  0.054  0.021  0.5  0.003  24.03   0.0  2.30       249   \n",
       "1 2019-07-02  26.0  0.053  0.020  0.5  0.003  24.29   0.0  2.26       265   \n",
       "2 2019-07-03  30.0  0.042  0.023  0.4  0.003  24.18   0.0  1.79       280   \n",
       "3 2019-07-04  28.0  0.034  0.026  0.4  0.003  25.35   0.0  2.04       263   \n",
       "4 2019-07-05  29.0  0.045  0.035  0.5  0.003  27.30   0.0  1.45       175   \n",
       "\n",
       "   HUMIDITY  ATM_PRESS  SNOW  CLOUD  Month Season  \n",
       "0      63.2      995.1   0.0   5.70      7     여름  \n",
       "1      63.2      998.6   0.0   3.83      7     여름  \n",
       "2      65.3      998.3   0.0   6.29      7     여름  \n",
       "3      58.6      996.6   0.0   2.54      7     여름  \n",
       "4      45.5      993.5   0.0   3.92      7     여름  "
      ]
     },
     "execution_count": 32,
     "metadata": {},
     "output_type": "execute_result"
    }
   ],
   "source": [
    "def season_var(month):\n",
    "    if month ==3 or month ==4 or month == 5:\n",
    "        return '봄'\n",
    "    elif month ==6 or month ==7 or month == 8:\n",
    "        return '여름'\n",
    "    elif month ==9 or month ==10 or month == 11:\n",
    "        return '가을'\n",
    "    else:\n",
    "        return '겨울'\n",
    "\n",
    "    \n",
    "#월별 데이터를 계절화하기 \n",
    "df_raw['Season'] = df_raw['Month'].apply(season_var)\n",
    "df_raw.head()\n"
   ]
  },
  {
   "cell_type": "code",
   "execution_count": 33,
   "metadata": {},
   "outputs": [
    {
     "data": {
      "text/html": [
       "<div>\n",
       "<style scoped>\n",
       "    .dataframe tbody tr th:only-of-type {\n",
       "        vertical-align: middle;\n",
       "    }\n",
       "\n",
       "    .dataframe tbody tr th {\n",
       "        vertical-align: top;\n",
       "    }\n",
       "\n",
       "    .dataframe thead th {\n",
       "        text-align: right;\n",
       "    }\n",
       "</style>\n",
       "<table border=\"1\" class=\"dataframe\">\n",
       "  <thead>\n",
       "    <tr style=\"text-align: right;\">\n",
       "      <th></th>\n",
       "      <th>MeasDate</th>\n",
       "      <th>PM10</th>\n",
       "      <th>O3</th>\n",
       "      <th>NO2</th>\n",
       "      <th>CO</th>\n",
       "      <th>SO2</th>\n",
       "      <th>TEMP</th>\n",
       "      <th>RAIN</th>\n",
       "      <th>WIND</th>\n",
       "      <th>WIND_DIR</th>\n",
       "      <th>HUMIDITY</th>\n",
       "      <th>ATM_PRESS</th>\n",
       "      <th>SNOW</th>\n",
       "      <th>CLOUD</th>\n",
       "      <th>Month</th>\n",
       "      <th>Season</th>\n",
       "    </tr>\n",
       "  </thead>\n",
       "  <tbody>\n",
       "    <tr>\n",
       "      <th>10</th>\n",
       "      <td>2019-07-11</td>\n",
       "      <td>5.0</td>\n",
       "      <td>0.023</td>\n",
       "      <td>0.014</td>\n",
       "      <td>0.3</td>\n",
       "      <td>0.002</td>\n",
       "      <td>21.79</td>\n",
       "      <td>0.23</td>\n",
       "      <td>1.3</td>\n",
       "      <td>204</td>\n",
       "      <td>79.0</td>\n",
       "      <td>995.2</td>\n",
       "      <td>0.0</td>\n",
       "      <td>9.63</td>\n",
       "      <td>7</td>\n",
       "      <td>여름</td>\n",
       "    </tr>\n",
       "  </tbody>\n",
       "</table>\n",
       "</div>"
      ],
      "text/plain": [
       "     MeasDate  PM10     O3    NO2   CO    SO2   TEMP  RAIN  WIND  WIND_DIR  \\\n",
       "10 2019-07-11   5.0  0.023  0.014  0.3  0.002  21.79  0.23   1.3       204   \n",
       "\n",
       "    HUMIDITY  ATM_PRESS  SNOW  CLOUD  Month Season  \n",
       "10      79.0      995.2   0.0   9.63      7     여름  "
      ]
     },
     "execution_count": 33,
     "metadata": {},
     "output_type": "execute_result"
    }
   ],
   "source": [
    "df_raw.loc[10:10]"
   ]
  },
  {
   "cell_type": "code",
   "execution_count": 34,
   "metadata": {},
   "outputs": [
    {
     "data": {
      "text/html": [
       "<div>\n",
       "<style scoped>\n",
       "    .dataframe tbody tr th:only-of-type {\n",
       "        vertical-align: middle;\n",
       "    }\n",
       "\n",
       "    .dataframe tbody tr th {\n",
       "        vertical-align: top;\n",
       "    }\n",
       "\n",
       "    .dataframe thead th {\n",
       "        text-align: right;\n",
       "    }\n",
       "</style>\n",
       "<table border=\"1\" class=\"dataframe\">\n",
       "  <thead>\n",
       "    <tr style=\"text-align: right;\">\n",
       "      <th></th>\n",
       "      <th>MeasDate</th>\n",
       "      <th>PM10</th>\n",
       "      <th>O3</th>\n",
       "      <th>NO2</th>\n",
       "      <th>CO</th>\n",
       "      <th>SO2</th>\n",
       "      <th>TEMP</th>\n",
       "      <th>RAIN</th>\n",
       "      <th>WIND</th>\n",
       "      <th>WIND_DIR</th>\n",
       "      <th>HUMIDITY</th>\n",
       "      <th>ATM_PRESS</th>\n",
       "      <th>SNOW</th>\n",
       "      <th>CLOUD</th>\n",
       "      <th>Month</th>\n",
       "      <th>Season</th>\n",
       "    </tr>\n",
       "  </thead>\n",
       "  <tbody>\n",
       "    <tr>\n",
       "      <th>100</th>\n",
       "      <td>2019-10-09</td>\n",
       "      <td>20.0</td>\n",
       "      <td>0.016</td>\n",
       "      <td>0.03</td>\n",
       "      <td>0.5</td>\n",
       "      <td>0.003</td>\n",
       "      <td>13.6</td>\n",
       "      <td>0.0</td>\n",
       "      <td>1.64</td>\n",
       "      <td>258</td>\n",
       "      <td>48.0</td>\n",
       "      <td>1009.7</td>\n",
       "      <td>0.0</td>\n",
       "      <td>2.13</td>\n",
       "      <td>10</td>\n",
       "      <td>가을</td>\n",
       "    </tr>\n",
       "  </tbody>\n",
       "</table>\n",
       "</div>"
      ],
      "text/plain": [
       "      MeasDate  PM10     O3   NO2   CO    SO2  TEMP  RAIN  WIND  WIND_DIR  \\\n",
       "100 2019-10-09  20.0  0.016  0.03  0.5  0.003  13.6   0.0  1.64       258   \n",
       "\n",
       "     HUMIDITY  ATM_PRESS  SNOW  CLOUD  Month Season  \n",
       "100      48.0     1009.7   0.0   2.13     10     가을  "
      ]
     },
     "execution_count": 34,
     "metadata": {},
     "output_type": "execute_result"
    }
   ],
   "source": [
    "df_raw.loc[100:100]"
   ]
  },
  {
   "cell_type": "code",
   "execution_count": 35,
   "metadata": {},
   "outputs": [
    {
     "data": {
      "text/html": [
       "<div>\n",
       "<style scoped>\n",
       "    .dataframe tbody tr th:only-of-type {\n",
       "        vertical-align: middle;\n",
       "    }\n",
       "\n",
       "    .dataframe tbody tr th {\n",
       "        vertical-align: top;\n",
       "    }\n",
       "\n",
       "    .dataframe thead th {\n",
       "        text-align: right;\n",
       "    }\n",
       "</style>\n",
       "<table border=\"1\" class=\"dataframe\">\n",
       "  <thead>\n",
       "    <tr style=\"text-align: right;\">\n",
       "      <th></th>\n",
       "      <th>MeasDate</th>\n",
       "      <th>PM10</th>\n",
       "      <th>O3</th>\n",
       "      <th>NO2</th>\n",
       "      <th>CO</th>\n",
       "      <th>SO2</th>\n",
       "      <th>TEMP</th>\n",
       "      <th>RAIN</th>\n",
       "      <th>WIND</th>\n",
       "      <th>WIND_DIR</th>\n",
       "      <th>HUMIDITY</th>\n",
       "      <th>ATM_PRESS</th>\n",
       "      <th>SNOW</th>\n",
       "      <th>CLOUD</th>\n",
       "      <th>Month</th>\n",
       "      <th>Season</th>\n",
       "    </tr>\n",
       "  </thead>\n",
       "  <tbody>\n",
       "    <tr>\n",
       "      <th>200</th>\n",
       "      <td>2020-01-17</td>\n",
       "      <td>56.0</td>\n",
       "      <td>0.006</td>\n",
       "      <td>0.046</td>\n",
       "      <td>0.8</td>\n",
       "      <td>0.004</td>\n",
       "      <td>-0.64</td>\n",
       "      <td>0.0</td>\n",
       "      <td>1.51</td>\n",
       "      <td>200</td>\n",
       "      <td>44.0</td>\n",
       "      <td>1012.8</td>\n",
       "      <td>0.0</td>\n",
       "      <td>5.29</td>\n",
       "      <td>1</td>\n",
       "      <td>겨울</td>\n",
       "    </tr>\n",
       "  </tbody>\n",
       "</table>\n",
       "</div>"
      ],
      "text/plain": [
       "      MeasDate  PM10     O3    NO2   CO    SO2  TEMP  RAIN  WIND  WIND_DIR  \\\n",
       "200 2020-01-17  56.0  0.006  0.046  0.8  0.004 -0.64   0.0  1.51       200   \n",
       "\n",
       "     HUMIDITY  ATM_PRESS  SNOW  CLOUD  Month Season  \n",
       "200      44.0     1012.8   0.0   5.29      1     겨울  "
      ]
     },
     "execution_count": 35,
     "metadata": {},
     "output_type": "execute_result"
    }
   ],
   "source": [
    "df_raw.loc[200:200]"
   ]
  },
  {
   "cell_type": "code",
   "execution_count": 36,
   "metadata": {},
   "outputs": [
    {
     "data": {
      "text/html": [
       "<div>\n",
       "<style scoped>\n",
       "    .dataframe tbody tr th:only-of-type {\n",
       "        vertical-align: middle;\n",
       "    }\n",
       "\n",
       "    .dataframe tbody tr th {\n",
       "        vertical-align: top;\n",
       "    }\n",
       "\n",
       "    .dataframe thead th {\n",
       "        text-align: right;\n",
       "    }\n",
       "</style>\n",
       "<table border=\"1\" class=\"dataframe\">\n",
       "  <thead>\n",
       "    <tr style=\"text-align: right;\">\n",
       "      <th></th>\n",
       "      <th>MeasDate</th>\n",
       "      <th>PM10</th>\n",
       "      <th>O3</th>\n",
       "      <th>NO2</th>\n",
       "      <th>CO</th>\n",
       "      <th>SO2</th>\n",
       "      <th>TEMP</th>\n",
       "      <th>RAIN</th>\n",
       "      <th>WIND</th>\n",
       "      <th>WIND_DIR</th>\n",
       "      <th>HUMIDITY</th>\n",
       "      <th>ATM_PRESS</th>\n",
       "      <th>SNOW</th>\n",
       "      <th>CLOUD</th>\n",
       "      <th>Month</th>\n",
       "      <th>Season</th>\n",
       "    </tr>\n",
       "  </thead>\n",
       "  <tbody>\n",
       "    <tr>\n",
       "      <th>300</th>\n",
       "      <td>2020-04-26</td>\n",
       "      <td>25.0</td>\n",
       "      <td>0.034</td>\n",
       "      <td>0.01</td>\n",
       "      <td>0.3</td>\n",
       "      <td>0.003</td>\n",
       "      <td>12.28</td>\n",
       "      <td>0.0</td>\n",
       "      <td>3.02</td>\n",
       "      <td>288</td>\n",
       "      <td>44.3</td>\n",
       "      <td>1006.5</td>\n",
       "      <td>0.0</td>\n",
       "      <td>1.54</td>\n",
       "      <td>4</td>\n",
       "      <td>봄</td>\n",
       "    </tr>\n",
       "  </tbody>\n",
       "</table>\n",
       "</div>"
      ],
      "text/plain": [
       "      MeasDate  PM10     O3   NO2   CO    SO2   TEMP  RAIN  WIND  WIND_DIR  \\\n",
       "300 2020-04-26  25.0  0.034  0.01  0.3  0.003  12.28   0.0  3.02       288   \n",
       "\n",
       "     HUMIDITY  ATM_PRESS  SNOW  CLOUD  Month Season  \n",
       "300      44.3     1006.5   0.0   1.54      4      봄  "
      ]
     },
     "execution_count": 36,
     "metadata": {},
     "output_type": "execute_result"
    }
   ],
   "source": [
    "df_raw.loc[300:300]"
   ]
  },
  {
   "cell_type": "markdown",
   "metadata": {},
   "source": [
    "### 평균 이하 / 평균 이상 집단 구분하는 함수 생성\n",
    "\n",
    "- 평균을 기준으로 높다면 1, 낮으면 0으로 인코딩한다. \n",
    "\n"
   ]
  },
  {
   "cell_type": "code",
   "execution_count": 37,
   "metadata": {
    "scrolled": true
   },
   "outputs": [
    {
     "data": {
      "text/html": [
       "<div>\n",
       "<style scoped>\n",
       "    .dataframe tbody tr th:only-of-type {\n",
       "        vertical-align: middle;\n",
       "    }\n",
       "\n",
       "    .dataframe tbody tr th {\n",
       "        vertical-align: top;\n",
       "    }\n",
       "\n",
       "    .dataframe thead th {\n",
       "        text-align: right;\n",
       "    }\n",
       "</style>\n",
       "<table border=\"1\" class=\"dataframe\">\n",
       "  <thead>\n",
       "    <tr style=\"text-align: right;\">\n",
       "      <th></th>\n",
       "      <th>MeasDate</th>\n",
       "      <th>PM10</th>\n",
       "      <th>O3</th>\n",
       "      <th>NO2</th>\n",
       "      <th>CO</th>\n",
       "      <th>SO2</th>\n",
       "      <th>TEMP</th>\n",
       "      <th>RAIN</th>\n",
       "      <th>WIND</th>\n",
       "      <th>WIND_DIR</th>\n",
       "      <th>HUMIDITY</th>\n",
       "      <th>ATM_PRESS</th>\n",
       "      <th>SNOW</th>\n",
       "      <th>CLOUD</th>\n",
       "      <th>Month</th>\n",
       "      <th>Season</th>\n",
       "      <th>O3_mean</th>\n",
       "      <th>NO2_mean</th>\n",
       "      <th>CO_mean</th>\n",
       "      <th>SO2_mean</th>\n",
       "    </tr>\n",
       "  </thead>\n",
       "  <tbody>\n",
       "    <tr>\n",
       "      <th>0</th>\n",
       "      <td>2019-07-01</td>\n",
       "      <td>29.0</td>\n",
       "      <td>0.054</td>\n",
       "      <td>0.021</td>\n",
       "      <td>0.5</td>\n",
       "      <td>0.003</td>\n",
       "      <td>24.03</td>\n",
       "      <td>0.00</td>\n",
       "      <td>2.30</td>\n",
       "      <td>249</td>\n",
       "      <td>63.2</td>\n",
       "      <td>995.1</td>\n",
       "      <td>0.0</td>\n",
       "      <td>5.70</td>\n",
       "      <td>7</td>\n",
       "      <td>여름</td>\n",
       "      <td>평균이상</td>\n",
       "      <td>평균이하</td>\n",
       "      <td>평균이상</td>\n",
       "      <td>평균이하</td>\n",
       "    </tr>\n",
       "    <tr>\n",
       "      <th>1</th>\n",
       "      <td>2019-07-02</td>\n",
       "      <td>26.0</td>\n",
       "      <td>0.053</td>\n",
       "      <td>0.020</td>\n",
       "      <td>0.5</td>\n",
       "      <td>0.003</td>\n",
       "      <td>24.29</td>\n",
       "      <td>0.00</td>\n",
       "      <td>2.26</td>\n",
       "      <td>265</td>\n",
       "      <td>63.2</td>\n",
       "      <td>998.6</td>\n",
       "      <td>0.0</td>\n",
       "      <td>3.83</td>\n",
       "      <td>7</td>\n",
       "      <td>여름</td>\n",
       "      <td>평균이상</td>\n",
       "      <td>평균이하</td>\n",
       "      <td>평균이상</td>\n",
       "      <td>평균이하</td>\n",
       "    </tr>\n",
       "    <tr>\n",
       "      <th>2</th>\n",
       "      <td>2019-07-03</td>\n",
       "      <td>30.0</td>\n",
       "      <td>0.042</td>\n",
       "      <td>0.023</td>\n",
       "      <td>0.4</td>\n",
       "      <td>0.003</td>\n",
       "      <td>24.18</td>\n",
       "      <td>0.00</td>\n",
       "      <td>1.79</td>\n",
       "      <td>280</td>\n",
       "      <td>65.3</td>\n",
       "      <td>998.3</td>\n",
       "      <td>0.0</td>\n",
       "      <td>6.29</td>\n",
       "      <td>7</td>\n",
       "      <td>여름</td>\n",
       "      <td>평균이상</td>\n",
       "      <td>평균이하</td>\n",
       "      <td>평균이하</td>\n",
       "      <td>평균이하</td>\n",
       "    </tr>\n",
       "    <tr>\n",
       "      <th>3</th>\n",
       "      <td>2019-07-04</td>\n",
       "      <td>28.0</td>\n",
       "      <td>0.034</td>\n",
       "      <td>0.026</td>\n",
       "      <td>0.4</td>\n",
       "      <td>0.003</td>\n",
       "      <td>25.35</td>\n",
       "      <td>0.00</td>\n",
       "      <td>2.04</td>\n",
       "      <td>263</td>\n",
       "      <td>58.6</td>\n",
       "      <td>996.6</td>\n",
       "      <td>0.0</td>\n",
       "      <td>2.54</td>\n",
       "      <td>7</td>\n",
       "      <td>여름</td>\n",
       "      <td>평균이상</td>\n",
       "      <td>평균이하</td>\n",
       "      <td>평균이하</td>\n",
       "      <td>평균이하</td>\n",
       "    </tr>\n",
       "    <tr>\n",
       "      <th>4</th>\n",
       "      <td>2019-07-05</td>\n",
       "      <td>29.0</td>\n",
       "      <td>0.045</td>\n",
       "      <td>0.035</td>\n",
       "      <td>0.5</td>\n",
       "      <td>0.003</td>\n",
       "      <td>27.30</td>\n",
       "      <td>0.00</td>\n",
       "      <td>1.45</td>\n",
       "      <td>175</td>\n",
       "      <td>45.5</td>\n",
       "      <td>993.5</td>\n",
       "      <td>0.0</td>\n",
       "      <td>3.92</td>\n",
       "      <td>7</td>\n",
       "      <td>여름</td>\n",
       "      <td>평균이상</td>\n",
       "      <td>평균이상</td>\n",
       "      <td>평균이상</td>\n",
       "      <td>평균이하</td>\n",
       "    </tr>\n",
       "    <tr>\n",
       "      <th>...</th>\n",
       "      <td>...</td>\n",
       "      <td>...</td>\n",
       "      <td>...</td>\n",
       "      <td>...</td>\n",
       "      <td>...</td>\n",
       "      <td>...</td>\n",
       "      <td>...</td>\n",
       "      <td>...</td>\n",
       "      <td>...</td>\n",
       "      <td>...</td>\n",
       "      <td>...</td>\n",
       "      <td>...</td>\n",
       "      <td>...</td>\n",
       "      <td>...</td>\n",
       "      <td>...</td>\n",
       "      <td>...</td>\n",
       "      <td>...</td>\n",
       "      <td>...</td>\n",
       "      <td>...</td>\n",
       "      <td>...</td>\n",
       "    </tr>\n",
       "    <tr>\n",
       "      <th>361</th>\n",
       "      <td>2020-06-26</td>\n",
       "      <td>19.0</td>\n",
       "      <td>0.039</td>\n",
       "      <td>0.016</td>\n",
       "      <td>0.4</td>\n",
       "      <td>0.003</td>\n",
       "      <td>21.66</td>\n",
       "      <td>0.41</td>\n",
       "      <td>3.12</td>\n",
       "      <td>228</td>\n",
       "      <td>84.0</td>\n",
       "      <td>996.0</td>\n",
       "      <td>0.0</td>\n",
       "      <td>8.73</td>\n",
       "      <td>6</td>\n",
       "      <td>여름</td>\n",
       "      <td>평균이상</td>\n",
       "      <td>평균이하</td>\n",
       "      <td>평균이하</td>\n",
       "      <td>평균이하</td>\n",
       "    </tr>\n",
       "    <tr>\n",
       "      <th>362</th>\n",
       "      <td>2020-06-27</td>\n",
       "      <td>22.0</td>\n",
       "      <td>0.044</td>\n",
       "      <td>0.017</td>\n",
       "      <td>0.4</td>\n",
       "      <td>0.004</td>\n",
       "      <td>23.94</td>\n",
       "      <td>0.00</td>\n",
       "      <td>1.93</td>\n",
       "      <td>217</td>\n",
       "      <td>69.8</td>\n",
       "      <td>995.8</td>\n",
       "      <td>0.0</td>\n",
       "      <td>6.21</td>\n",
       "      <td>6</td>\n",
       "      <td>여름</td>\n",
       "      <td>평균이상</td>\n",
       "      <td>평균이하</td>\n",
       "      <td>평균이하</td>\n",
       "      <td>평균이상</td>\n",
       "    </tr>\n",
       "    <tr>\n",
       "      <th>363</th>\n",
       "      <td>2020-06-28</td>\n",
       "      <td>27.0</td>\n",
       "      <td>0.044</td>\n",
       "      <td>0.009</td>\n",
       "      <td>0.4</td>\n",
       "      <td>0.003</td>\n",
       "      <td>25.03</td>\n",
       "      <td>0.00</td>\n",
       "      <td>2.35</td>\n",
       "      <td>283</td>\n",
       "      <td>71.3</td>\n",
       "      <td>994.7</td>\n",
       "      <td>0.0</td>\n",
       "      <td>2.63</td>\n",
       "      <td>6</td>\n",
       "      <td>여름</td>\n",
       "      <td>평균이상</td>\n",
       "      <td>평균이하</td>\n",
       "      <td>평균이하</td>\n",
       "      <td>평균이하</td>\n",
       "    </tr>\n",
       "    <tr>\n",
       "      <th>364</th>\n",
       "      <td>2020-06-29</td>\n",
       "      <td>36.0</td>\n",
       "      <td>0.026</td>\n",
       "      <td>0.028</td>\n",
       "      <td>0.6</td>\n",
       "      <td>0.003</td>\n",
       "      <td>24.06</td>\n",
       "      <td>1.26</td>\n",
       "      <td>2.48</td>\n",
       "      <td>103</td>\n",
       "      <td>75.5</td>\n",
       "      <td>992.9</td>\n",
       "      <td>0.0</td>\n",
       "      <td>7.58</td>\n",
       "      <td>6</td>\n",
       "      <td>여름</td>\n",
       "      <td>평균이상</td>\n",
       "      <td>평균이상</td>\n",
       "      <td>평균이상</td>\n",
       "      <td>평균이하</td>\n",
       "    </tr>\n",
       "    <tr>\n",
       "      <th>365</th>\n",
       "      <td>2020-06-30</td>\n",
       "      <td>6.0</td>\n",
       "      <td>0.039</td>\n",
       "      <td>0.009</td>\n",
       "      <td>0.3</td>\n",
       "      <td>0.002</td>\n",
       "      <td>20.60</td>\n",
       "      <td>5.60</td>\n",
       "      <td>4.00</td>\n",
       "      <td>50</td>\n",
       "      <td>92.0</td>\n",
       "      <td>983.8</td>\n",
       "      <td>0.0</td>\n",
       "      <td>10.00</td>\n",
       "      <td>6</td>\n",
       "      <td>여름</td>\n",
       "      <td>평균이상</td>\n",
       "      <td>평균이하</td>\n",
       "      <td>평균이하</td>\n",
       "      <td>평균이하</td>\n",
       "    </tr>\n",
       "  </tbody>\n",
       "</table>\n",
       "<p>365 rows × 20 columns</p>\n",
       "</div>"
      ],
      "text/plain": [
       "      MeasDate  PM10     O3    NO2   CO    SO2   TEMP  RAIN  WIND  WIND_DIR  \\\n",
       "0   2019-07-01  29.0  0.054  0.021  0.5  0.003  24.03  0.00  2.30       249   \n",
       "1   2019-07-02  26.0  0.053  0.020  0.5  0.003  24.29  0.00  2.26       265   \n",
       "2   2019-07-03  30.0  0.042  0.023  0.4  0.003  24.18  0.00  1.79       280   \n",
       "3   2019-07-04  28.0  0.034  0.026  0.4  0.003  25.35  0.00  2.04       263   \n",
       "4   2019-07-05  29.0  0.045  0.035  0.5  0.003  27.30  0.00  1.45       175   \n",
       "..         ...   ...    ...    ...  ...    ...    ...   ...   ...       ...   \n",
       "361 2020-06-26  19.0  0.039  0.016  0.4  0.003  21.66  0.41  3.12       228   \n",
       "362 2020-06-27  22.0  0.044  0.017  0.4  0.004  23.94  0.00  1.93       217   \n",
       "363 2020-06-28  27.0  0.044  0.009  0.4  0.003  25.03  0.00  2.35       283   \n",
       "364 2020-06-29  36.0  0.026  0.028  0.6  0.003  24.06  1.26  2.48       103   \n",
       "365 2020-06-30   6.0  0.039  0.009  0.3  0.002  20.60  5.60  4.00        50   \n",
       "\n",
       "     HUMIDITY  ATM_PRESS  SNOW  CLOUD  Month Season O3_mean NO2_mean CO_mean  \\\n",
       "0        63.2      995.1   0.0   5.70      7     여름    평균이상     평균이하    평균이상   \n",
       "1        63.2      998.6   0.0   3.83      7     여름    평균이상     평균이하    평균이상   \n",
       "2        65.3      998.3   0.0   6.29      7     여름    평균이상     평균이하    평균이하   \n",
       "3        58.6      996.6   0.0   2.54      7     여름    평균이상     평균이하    평균이하   \n",
       "4        45.5      993.5   0.0   3.92      7     여름    평균이상     평균이상    평균이상   \n",
       "..        ...        ...   ...    ...    ...    ...     ...      ...     ...   \n",
       "361      84.0      996.0   0.0   8.73      6     여름    평균이상     평균이하    평균이하   \n",
       "362      69.8      995.8   0.0   6.21      6     여름    평균이상     평균이하    평균이하   \n",
       "363      71.3      994.7   0.0   2.63      6     여름    평균이상     평균이하    평균이하   \n",
       "364      75.5      992.9   0.0   7.58      6     여름    평균이상     평균이상    평균이상   \n",
       "365      92.0      983.8   0.0  10.00      6     여름    평균이상     평균이하    평균이하   \n",
       "\n",
       "    SO2_mean  \n",
       "0       평균이하  \n",
       "1       평균이하  \n",
       "2       평균이하  \n",
       "3       평균이하  \n",
       "4       평균이하  \n",
       "..       ...  \n",
       "361     평균이하  \n",
       "362     평균이상  \n",
       "363     평균이하  \n",
       "364     평균이하  \n",
       "365     평균이하  \n",
       "\n",
       "[365 rows x 20 columns]"
      ]
     },
     "execution_count": 37,
     "metadata": {},
     "output_type": "execute_result"
    }
   ],
   "source": [
    "df_mean_list = list(df_raw.mean()) # 데이터프레임의 모든 컬럼의 평균을 리스트로 받음 \n",
    "df_mean_list = df_mean_list[1:5] # 대기오염 컬럼만 슬라이싱으로 추출 O3, NO2, CO, SO2에 대해서만\n",
    "\n",
    "def col_mean(df,mean_list):\n",
    "    for idx ,values in enumerate(mean_list,start=1): #index 1부터 시작\n",
    "        col_name = df.columns[idx+1] # 인덱스를 사용해 컬럼명 추출\n",
    "        df[col_name+'_mean'] = '평균이하' #초기값 0, 새로운 컬럼 만들기 \n",
    "        df.loc[df[col_name] >= values , col_name+'_mean'] = '평균이상' # 평균이상일 경우 해당 row 1로 값 변환 \n",
    "    return df\n",
    "\n",
    "col_mean(df_raw,df_mean_list)"
   ]
  },
  {
   "cell_type": "markdown",
   "metadata": {},
   "source": [
    "### 비/눈 온날과 오지 않은 날\n",
    "- 비의 양은 크게 중요하지 않다고 판단. \n",
    "- box plot의 용이성을 위해 한글로 우선 변환, 나중에 일괄 숫자 인코딩을 해주기로 한다. "
   ]
  },
  {
   "cell_type": "code",
   "execution_count": 38,
   "metadata": {
    "scrolled": false
   },
   "outputs": [
    {
     "data": {
      "text/html": [
       "<div>\n",
       "<style scoped>\n",
       "    .dataframe tbody tr th:only-of-type {\n",
       "        vertical-align: middle;\n",
       "    }\n",
       "\n",
       "    .dataframe tbody tr th {\n",
       "        vertical-align: top;\n",
       "    }\n",
       "\n",
       "    .dataframe thead th {\n",
       "        text-align: right;\n",
       "    }\n",
       "</style>\n",
       "<table border=\"1\" class=\"dataframe\">\n",
       "  <thead>\n",
       "    <tr style=\"text-align: right;\">\n",
       "      <th></th>\n",
       "      <th>MeasDate</th>\n",
       "      <th>PM10</th>\n",
       "      <th>O3</th>\n",
       "      <th>NO2</th>\n",
       "      <th>CO</th>\n",
       "      <th>SO2</th>\n",
       "      <th>TEMP</th>\n",
       "      <th>RAIN</th>\n",
       "      <th>WIND</th>\n",
       "      <th>WIND_DIR</th>\n",
       "      <th>HUMIDITY</th>\n",
       "      <th>ATM_PRESS</th>\n",
       "      <th>SNOW</th>\n",
       "      <th>CLOUD</th>\n",
       "      <th>Month</th>\n",
       "      <th>Season</th>\n",
       "      <th>O3_mean</th>\n",
       "      <th>NO2_mean</th>\n",
       "      <th>CO_mean</th>\n",
       "      <th>SO2_mean</th>\n",
       "    </tr>\n",
       "  </thead>\n",
       "  <tbody>\n",
       "    <tr>\n",
       "      <th>0</th>\n",
       "      <td>2019-07-01</td>\n",
       "      <td>29.0</td>\n",
       "      <td>0.054</td>\n",
       "      <td>0.021</td>\n",
       "      <td>0.5</td>\n",
       "      <td>0.003</td>\n",
       "      <td>24.03</td>\n",
       "      <td>비가 오지 않은 날</td>\n",
       "      <td>2.30</td>\n",
       "      <td>249</td>\n",
       "      <td>63.2</td>\n",
       "      <td>995.1</td>\n",
       "      <td>0.0</td>\n",
       "      <td>5.70</td>\n",
       "      <td>7</td>\n",
       "      <td>여름</td>\n",
       "      <td>평균이상</td>\n",
       "      <td>평균이하</td>\n",
       "      <td>평균이상</td>\n",
       "      <td>평균이하</td>\n",
       "    </tr>\n",
       "    <tr>\n",
       "      <th>1</th>\n",
       "      <td>2019-07-02</td>\n",
       "      <td>26.0</td>\n",
       "      <td>0.053</td>\n",
       "      <td>0.020</td>\n",
       "      <td>0.5</td>\n",
       "      <td>0.003</td>\n",
       "      <td>24.29</td>\n",
       "      <td>비가 오지 않은 날</td>\n",
       "      <td>2.26</td>\n",
       "      <td>265</td>\n",
       "      <td>63.2</td>\n",
       "      <td>998.6</td>\n",
       "      <td>0.0</td>\n",
       "      <td>3.83</td>\n",
       "      <td>7</td>\n",
       "      <td>여름</td>\n",
       "      <td>평균이상</td>\n",
       "      <td>평균이하</td>\n",
       "      <td>평균이상</td>\n",
       "      <td>평균이하</td>\n",
       "    </tr>\n",
       "    <tr>\n",
       "      <th>2</th>\n",
       "      <td>2019-07-03</td>\n",
       "      <td>30.0</td>\n",
       "      <td>0.042</td>\n",
       "      <td>0.023</td>\n",
       "      <td>0.4</td>\n",
       "      <td>0.003</td>\n",
       "      <td>24.18</td>\n",
       "      <td>비가 오지 않은 날</td>\n",
       "      <td>1.79</td>\n",
       "      <td>280</td>\n",
       "      <td>65.3</td>\n",
       "      <td>998.3</td>\n",
       "      <td>0.0</td>\n",
       "      <td>6.29</td>\n",
       "      <td>7</td>\n",
       "      <td>여름</td>\n",
       "      <td>평균이상</td>\n",
       "      <td>평균이하</td>\n",
       "      <td>평균이하</td>\n",
       "      <td>평균이하</td>\n",
       "    </tr>\n",
       "    <tr>\n",
       "      <th>3</th>\n",
       "      <td>2019-07-04</td>\n",
       "      <td>28.0</td>\n",
       "      <td>0.034</td>\n",
       "      <td>0.026</td>\n",
       "      <td>0.4</td>\n",
       "      <td>0.003</td>\n",
       "      <td>25.35</td>\n",
       "      <td>비가 오지 않은 날</td>\n",
       "      <td>2.04</td>\n",
       "      <td>263</td>\n",
       "      <td>58.6</td>\n",
       "      <td>996.6</td>\n",
       "      <td>0.0</td>\n",
       "      <td>2.54</td>\n",
       "      <td>7</td>\n",
       "      <td>여름</td>\n",
       "      <td>평균이상</td>\n",
       "      <td>평균이하</td>\n",
       "      <td>평균이하</td>\n",
       "      <td>평균이하</td>\n",
       "    </tr>\n",
       "    <tr>\n",
       "      <th>4</th>\n",
       "      <td>2019-07-05</td>\n",
       "      <td>29.0</td>\n",
       "      <td>0.045</td>\n",
       "      <td>0.035</td>\n",
       "      <td>0.5</td>\n",
       "      <td>0.003</td>\n",
       "      <td>27.30</td>\n",
       "      <td>비가 오지 않은 날</td>\n",
       "      <td>1.45</td>\n",
       "      <td>175</td>\n",
       "      <td>45.5</td>\n",
       "      <td>993.5</td>\n",
       "      <td>0.0</td>\n",
       "      <td>3.92</td>\n",
       "      <td>7</td>\n",
       "      <td>여름</td>\n",
       "      <td>평균이상</td>\n",
       "      <td>평균이상</td>\n",
       "      <td>평균이상</td>\n",
       "      <td>평균이하</td>\n",
       "    </tr>\n",
       "  </tbody>\n",
       "</table>\n",
       "</div>"
      ],
      "text/plain": [
       "    MeasDate  PM10     O3    NO2   CO    SO2   TEMP        RAIN  WIND  \\\n",
       "0 2019-07-01  29.0  0.054  0.021  0.5  0.003  24.03  비가 오지 않은 날  2.30   \n",
       "1 2019-07-02  26.0  0.053  0.020  0.5  0.003  24.29  비가 오지 않은 날  2.26   \n",
       "2 2019-07-03  30.0  0.042  0.023  0.4  0.003  24.18  비가 오지 않은 날  1.79   \n",
       "3 2019-07-04  28.0  0.034  0.026  0.4  0.003  25.35  비가 오지 않은 날  2.04   \n",
       "4 2019-07-05  29.0  0.045  0.035  0.5  0.003  27.30  비가 오지 않은 날  1.45   \n",
       "\n",
       "   WIND_DIR  HUMIDITY  ATM_PRESS  SNOW  CLOUD  Month Season O3_mean NO2_mean  \\\n",
       "0       249      63.2      995.1   0.0   5.70      7     여름    평균이상     평균이하   \n",
       "1       265      63.2      998.6   0.0   3.83      7     여름    평균이상     평균이하   \n",
       "2       280      65.3      998.3   0.0   6.29      7     여름    평균이상     평균이하   \n",
       "3       263      58.6      996.6   0.0   2.54      7     여름    평균이상     평균이하   \n",
       "4       175      45.5      993.5   0.0   3.92      7     여름    평균이상     평균이상   \n",
       "\n",
       "  CO_mean SO2_mean  \n",
       "0    평균이상     평균이하  \n",
       "1    평균이상     평균이하  \n",
       "2    평균이하     평균이하  \n",
       "3    평균이하     평균이하  \n",
       "4    평균이상     평균이하  "
      ]
     },
     "execution_count": 38,
     "metadata": {},
     "output_type": "execute_result"
    }
   ],
   "source": [
    "# 비가 온 날은 1, 비가 오지않은 날은 0으로 구분\n",
    "\n",
    "df_raw[\"RAIN\"] = np.where(df_raw[\"RAIN\"] > 0, \"비가 온 날\", \"비가 오지 않은 날\")\n",
    "df_raw.head()"
   ]
  },
  {
   "cell_type": "code",
   "execution_count": 39,
   "metadata": {
    "scrolled": true
   },
   "outputs": [
    {
     "data": {
      "text/html": [
       "<div>\n",
       "<style scoped>\n",
       "    .dataframe tbody tr th:only-of-type {\n",
       "        vertical-align: middle;\n",
       "    }\n",
       "\n",
       "    .dataframe tbody tr th {\n",
       "        vertical-align: top;\n",
       "    }\n",
       "\n",
       "    .dataframe thead th {\n",
       "        text-align: right;\n",
       "    }\n",
       "</style>\n",
       "<table border=\"1\" class=\"dataframe\">\n",
       "  <thead>\n",
       "    <tr style=\"text-align: right;\">\n",
       "      <th></th>\n",
       "      <th>MeasDate</th>\n",
       "      <th>PM10</th>\n",
       "      <th>O3</th>\n",
       "      <th>NO2</th>\n",
       "      <th>CO</th>\n",
       "      <th>SO2</th>\n",
       "      <th>TEMP</th>\n",
       "      <th>RAIN</th>\n",
       "      <th>WIND</th>\n",
       "      <th>WIND_DIR</th>\n",
       "      <th>HUMIDITY</th>\n",
       "      <th>ATM_PRESS</th>\n",
       "      <th>SNOW</th>\n",
       "      <th>CLOUD</th>\n",
       "      <th>Month</th>\n",
       "      <th>Season</th>\n",
       "      <th>O3_mean</th>\n",
       "      <th>NO2_mean</th>\n",
       "      <th>CO_mean</th>\n",
       "      <th>SO2_mean</th>\n",
       "    </tr>\n",
       "  </thead>\n",
       "  <tbody>\n",
       "    <tr>\n",
       "      <th>0</th>\n",
       "      <td>2019-07-01</td>\n",
       "      <td>29.0</td>\n",
       "      <td>0.054</td>\n",
       "      <td>0.021</td>\n",
       "      <td>0.5</td>\n",
       "      <td>0.003</td>\n",
       "      <td>24.03</td>\n",
       "      <td>비가 오지 않은 날</td>\n",
       "      <td>2.30</td>\n",
       "      <td>249</td>\n",
       "      <td>63.2</td>\n",
       "      <td>995.1</td>\n",
       "      <td>눈이 오지 않은 날</td>\n",
       "      <td>5.70</td>\n",
       "      <td>7</td>\n",
       "      <td>여름</td>\n",
       "      <td>평균이상</td>\n",
       "      <td>평균이하</td>\n",
       "      <td>평균이상</td>\n",
       "      <td>평균이하</td>\n",
       "    </tr>\n",
       "    <tr>\n",
       "      <th>1</th>\n",
       "      <td>2019-07-02</td>\n",
       "      <td>26.0</td>\n",
       "      <td>0.053</td>\n",
       "      <td>0.020</td>\n",
       "      <td>0.5</td>\n",
       "      <td>0.003</td>\n",
       "      <td>24.29</td>\n",
       "      <td>비가 오지 않은 날</td>\n",
       "      <td>2.26</td>\n",
       "      <td>265</td>\n",
       "      <td>63.2</td>\n",
       "      <td>998.6</td>\n",
       "      <td>눈이 오지 않은 날</td>\n",
       "      <td>3.83</td>\n",
       "      <td>7</td>\n",
       "      <td>여름</td>\n",
       "      <td>평균이상</td>\n",
       "      <td>평균이하</td>\n",
       "      <td>평균이상</td>\n",
       "      <td>평균이하</td>\n",
       "    </tr>\n",
       "    <tr>\n",
       "      <th>2</th>\n",
       "      <td>2019-07-03</td>\n",
       "      <td>30.0</td>\n",
       "      <td>0.042</td>\n",
       "      <td>0.023</td>\n",
       "      <td>0.4</td>\n",
       "      <td>0.003</td>\n",
       "      <td>24.18</td>\n",
       "      <td>비가 오지 않은 날</td>\n",
       "      <td>1.79</td>\n",
       "      <td>280</td>\n",
       "      <td>65.3</td>\n",
       "      <td>998.3</td>\n",
       "      <td>눈이 오지 않은 날</td>\n",
       "      <td>6.29</td>\n",
       "      <td>7</td>\n",
       "      <td>여름</td>\n",
       "      <td>평균이상</td>\n",
       "      <td>평균이하</td>\n",
       "      <td>평균이하</td>\n",
       "      <td>평균이하</td>\n",
       "    </tr>\n",
       "    <tr>\n",
       "      <th>3</th>\n",
       "      <td>2019-07-04</td>\n",
       "      <td>28.0</td>\n",
       "      <td>0.034</td>\n",
       "      <td>0.026</td>\n",
       "      <td>0.4</td>\n",
       "      <td>0.003</td>\n",
       "      <td>25.35</td>\n",
       "      <td>비가 오지 않은 날</td>\n",
       "      <td>2.04</td>\n",
       "      <td>263</td>\n",
       "      <td>58.6</td>\n",
       "      <td>996.6</td>\n",
       "      <td>눈이 오지 않은 날</td>\n",
       "      <td>2.54</td>\n",
       "      <td>7</td>\n",
       "      <td>여름</td>\n",
       "      <td>평균이상</td>\n",
       "      <td>평균이하</td>\n",
       "      <td>평균이하</td>\n",
       "      <td>평균이하</td>\n",
       "    </tr>\n",
       "    <tr>\n",
       "      <th>4</th>\n",
       "      <td>2019-07-05</td>\n",
       "      <td>29.0</td>\n",
       "      <td>0.045</td>\n",
       "      <td>0.035</td>\n",
       "      <td>0.5</td>\n",
       "      <td>0.003</td>\n",
       "      <td>27.30</td>\n",
       "      <td>비가 오지 않은 날</td>\n",
       "      <td>1.45</td>\n",
       "      <td>175</td>\n",
       "      <td>45.5</td>\n",
       "      <td>993.5</td>\n",
       "      <td>눈이 오지 않은 날</td>\n",
       "      <td>3.92</td>\n",
       "      <td>7</td>\n",
       "      <td>여름</td>\n",
       "      <td>평균이상</td>\n",
       "      <td>평균이상</td>\n",
       "      <td>평균이상</td>\n",
       "      <td>평균이하</td>\n",
       "    </tr>\n",
       "  </tbody>\n",
       "</table>\n",
       "</div>"
      ],
      "text/plain": [
       "    MeasDate  PM10     O3    NO2   CO    SO2   TEMP        RAIN  WIND  \\\n",
       "0 2019-07-01  29.0  0.054  0.021  0.5  0.003  24.03  비가 오지 않은 날  2.30   \n",
       "1 2019-07-02  26.0  0.053  0.020  0.5  0.003  24.29  비가 오지 않은 날  2.26   \n",
       "2 2019-07-03  30.0  0.042  0.023  0.4  0.003  24.18  비가 오지 않은 날  1.79   \n",
       "3 2019-07-04  28.0  0.034  0.026  0.4  0.003  25.35  비가 오지 않은 날  2.04   \n",
       "4 2019-07-05  29.0  0.045  0.035  0.5  0.003  27.30  비가 오지 않은 날  1.45   \n",
       "\n",
       "   WIND_DIR  HUMIDITY  ATM_PRESS        SNOW  CLOUD  Month Season O3_mean  \\\n",
       "0       249      63.2      995.1  눈이 오지 않은 날   5.70      7     여름    평균이상   \n",
       "1       265      63.2      998.6  눈이 오지 않은 날   3.83      7     여름    평균이상   \n",
       "2       280      65.3      998.3  눈이 오지 않은 날   6.29      7     여름    평균이상   \n",
       "3       263      58.6      996.6  눈이 오지 않은 날   2.54      7     여름    평균이상   \n",
       "4       175      45.5      993.5  눈이 오지 않은 날   3.92      7     여름    평균이상   \n",
       "\n",
       "  NO2_mean CO_mean SO2_mean  \n",
       "0     평균이하    평균이상     평균이하  \n",
       "1     평균이하    평균이상     평균이하  \n",
       "2     평균이하    평균이하     평균이하  \n",
       "3     평균이하    평균이하     평균이하  \n",
       "4     평균이상    평균이상     평균이하  "
      ]
     },
     "execution_count": 39,
     "metadata": {},
     "output_type": "execute_result"
    }
   ],
   "source": [
    "# 눈이 온 날은 1, 눈이 오지 않은 날은 0으로 구분\n",
    "\n",
    "df_raw[\"SNOW\"] = np.where(df_raw[\"SNOW\"] > 0, \"눈이 온 날\", \"눈이 오지 않은 날\")\n",
    "df_raw.head()\n"
   ]
  },
  {
   "cell_type": "markdown",
   "metadata": {},
   "source": [
    "### wind 방향에 따라 동, 서 남 북으로 나눈다."
   ]
  },
  {
   "cell_type": "code",
   "execution_count": 40,
   "metadata": {},
   "outputs": [
    {
     "data": {
      "text/html": [
       "<div>\n",
       "<style scoped>\n",
       "    .dataframe tbody tr th:only-of-type {\n",
       "        vertical-align: middle;\n",
       "    }\n",
       "\n",
       "    .dataframe tbody tr th {\n",
       "        vertical-align: top;\n",
       "    }\n",
       "\n",
       "    .dataframe thead th {\n",
       "        text-align: right;\n",
       "    }\n",
       "</style>\n",
       "<table border=\"1\" class=\"dataframe\">\n",
       "  <thead>\n",
       "    <tr style=\"text-align: right;\">\n",
       "      <th></th>\n",
       "      <th>MeasDate</th>\n",
       "      <th>PM10</th>\n",
       "      <th>O3</th>\n",
       "      <th>NO2</th>\n",
       "      <th>CO</th>\n",
       "      <th>SO2</th>\n",
       "      <th>TEMP</th>\n",
       "      <th>RAIN</th>\n",
       "      <th>WIND</th>\n",
       "      <th>WIND_DIR</th>\n",
       "      <th>...</th>\n",
       "      <th>ATM_PRESS</th>\n",
       "      <th>SNOW</th>\n",
       "      <th>CLOUD</th>\n",
       "      <th>Month</th>\n",
       "      <th>Season</th>\n",
       "      <th>O3_mean</th>\n",
       "      <th>NO2_mean</th>\n",
       "      <th>CO_mean</th>\n",
       "      <th>SO2_mean</th>\n",
       "      <th>WIND_DIR_4</th>\n",
       "    </tr>\n",
       "  </thead>\n",
       "  <tbody>\n",
       "    <tr>\n",
       "      <th>0</th>\n",
       "      <td>2019-07-01</td>\n",
       "      <td>29.0</td>\n",
       "      <td>0.054</td>\n",
       "      <td>0.021</td>\n",
       "      <td>0.5</td>\n",
       "      <td>0.003</td>\n",
       "      <td>24.03</td>\n",
       "      <td>비가 오지 않은 날</td>\n",
       "      <td>2.30</td>\n",
       "      <td>249</td>\n",
       "      <td>...</td>\n",
       "      <td>995.1</td>\n",
       "      <td>눈이 오지 않은 날</td>\n",
       "      <td>5.70</td>\n",
       "      <td>7</td>\n",
       "      <td>여름</td>\n",
       "      <td>평균이상</td>\n",
       "      <td>평균이하</td>\n",
       "      <td>평균이상</td>\n",
       "      <td>평균이하</td>\n",
       "      <td>W</td>\n",
       "    </tr>\n",
       "    <tr>\n",
       "      <th>1</th>\n",
       "      <td>2019-07-02</td>\n",
       "      <td>26.0</td>\n",
       "      <td>0.053</td>\n",
       "      <td>0.020</td>\n",
       "      <td>0.5</td>\n",
       "      <td>0.003</td>\n",
       "      <td>24.29</td>\n",
       "      <td>비가 오지 않은 날</td>\n",
       "      <td>2.26</td>\n",
       "      <td>265</td>\n",
       "      <td>...</td>\n",
       "      <td>998.6</td>\n",
       "      <td>눈이 오지 않은 날</td>\n",
       "      <td>3.83</td>\n",
       "      <td>7</td>\n",
       "      <td>여름</td>\n",
       "      <td>평균이상</td>\n",
       "      <td>평균이하</td>\n",
       "      <td>평균이상</td>\n",
       "      <td>평균이하</td>\n",
       "      <td>W</td>\n",
       "    </tr>\n",
       "    <tr>\n",
       "      <th>2</th>\n",
       "      <td>2019-07-03</td>\n",
       "      <td>30.0</td>\n",
       "      <td>0.042</td>\n",
       "      <td>0.023</td>\n",
       "      <td>0.4</td>\n",
       "      <td>0.003</td>\n",
       "      <td>24.18</td>\n",
       "      <td>비가 오지 않은 날</td>\n",
       "      <td>1.79</td>\n",
       "      <td>280</td>\n",
       "      <td>...</td>\n",
       "      <td>998.3</td>\n",
       "      <td>눈이 오지 않은 날</td>\n",
       "      <td>6.29</td>\n",
       "      <td>7</td>\n",
       "      <td>여름</td>\n",
       "      <td>평균이상</td>\n",
       "      <td>평균이하</td>\n",
       "      <td>평균이하</td>\n",
       "      <td>평균이하</td>\n",
       "      <td>W</td>\n",
       "    </tr>\n",
       "    <tr>\n",
       "      <th>3</th>\n",
       "      <td>2019-07-04</td>\n",
       "      <td>28.0</td>\n",
       "      <td>0.034</td>\n",
       "      <td>0.026</td>\n",
       "      <td>0.4</td>\n",
       "      <td>0.003</td>\n",
       "      <td>25.35</td>\n",
       "      <td>비가 오지 않은 날</td>\n",
       "      <td>2.04</td>\n",
       "      <td>263</td>\n",
       "      <td>...</td>\n",
       "      <td>996.6</td>\n",
       "      <td>눈이 오지 않은 날</td>\n",
       "      <td>2.54</td>\n",
       "      <td>7</td>\n",
       "      <td>여름</td>\n",
       "      <td>평균이상</td>\n",
       "      <td>평균이하</td>\n",
       "      <td>평균이하</td>\n",
       "      <td>평균이하</td>\n",
       "      <td>W</td>\n",
       "    </tr>\n",
       "    <tr>\n",
       "      <th>4</th>\n",
       "      <td>2019-07-05</td>\n",
       "      <td>29.0</td>\n",
       "      <td>0.045</td>\n",
       "      <td>0.035</td>\n",
       "      <td>0.5</td>\n",
       "      <td>0.003</td>\n",
       "      <td>27.30</td>\n",
       "      <td>비가 오지 않은 날</td>\n",
       "      <td>1.45</td>\n",
       "      <td>175</td>\n",
       "      <td>...</td>\n",
       "      <td>993.5</td>\n",
       "      <td>눈이 오지 않은 날</td>\n",
       "      <td>3.92</td>\n",
       "      <td>7</td>\n",
       "      <td>여름</td>\n",
       "      <td>평균이상</td>\n",
       "      <td>평균이상</td>\n",
       "      <td>평균이상</td>\n",
       "      <td>평균이하</td>\n",
       "      <td>S</td>\n",
       "    </tr>\n",
       "  </tbody>\n",
       "</table>\n",
       "<p>5 rows × 21 columns</p>\n",
       "</div>"
      ],
      "text/plain": [
       "    MeasDate  PM10     O3    NO2   CO    SO2   TEMP        RAIN  WIND  \\\n",
       "0 2019-07-01  29.0  0.054  0.021  0.5  0.003  24.03  비가 오지 않은 날  2.30   \n",
       "1 2019-07-02  26.0  0.053  0.020  0.5  0.003  24.29  비가 오지 않은 날  2.26   \n",
       "2 2019-07-03  30.0  0.042  0.023  0.4  0.003  24.18  비가 오지 않은 날  1.79   \n",
       "3 2019-07-04  28.0  0.034  0.026  0.4  0.003  25.35  비가 오지 않은 날  2.04   \n",
       "4 2019-07-05  29.0  0.045  0.035  0.5  0.003  27.30  비가 오지 않은 날  1.45   \n",
       "\n",
       "   WIND_DIR  ...  ATM_PRESS        SNOW CLOUD  Month  Season O3_mean NO2_mean  \\\n",
       "0       249  ...      995.1  눈이 오지 않은 날  5.70      7      여름    평균이상     평균이하   \n",
       "1       265  ...      998.6  눈이 오지 않은 날  3.83      7      여름    평균이상     평균이하   \n",
       "2       280  ...      998.3  눈이 오지 않은 날  6.29      7      여름    평균이상     평균이하   \n",
       "3       263  ...      996.6  눈이 오지 않은 날  2.54      7      여름    평균이상     평균이하   \n",
       "4       175  ...      993.5  눈이 오지 않은 날  3.92      7      여름    평균이상     평균이상   \n",
       "\n",
       "  CO_mean SO2_mean WIND_DIR_4  \n",
       "0    평균이상     평균이하          W  \n",
       "1    평균이상     평균이하          W  \n",
       "2    평균이하     평균이하          W  \n",
       "3    평균이하     평균이하          W  \n",
       "4    평균이상     평균이하          S  \n",
       "\n",
       "[5 rows x 21 columns]"
      ]
     },
     "execution_count": 40,
     "metadata": {},
     "output_type": "execute_result"
    }
   ],
   "source": [
    "df_raw['WIND_DIR_4'] = 0\n",
    "df_raw['WIND_DIR_4'][(df_raw['WIND_DIR'] > 315) & (df_raw['WIND_DIR'] <= 360 )] = 'N'\n",
    "df_raw['WIND_DIR_4'][(df_raw['WIND_DIR'] >= 0) & (df_raw['WIND_DIR'] <= 45 )] = 'N'                      \n",
    "df_raw['WIND_DIR_4'][(df_raw['WIND_DIR'] > 45) & (df_raw['WIND_DIR'] <= 135)] = 'E'\n",
    "df_raw['WIND_DIR_4'][(df_raw['WIND_DIR'] > 135) & (df_raw['WIND_DIR'] <= 225)] = 'S'\n",
    "df_raw['WIND_DIR_4'][(df_raw['WIND_DIR'] > 225) & (df_raw['WIND_DIR'] <= 315)] = 'W'\n",
    "\n",
    "df_raw.head()"
   ]
  },
  {
   "cell_type": "markdown",
   "metadata": {},
   "source": [
    "### 설명변수 파생변수와 목표변수 간의 분포차이 확인"
   ]
  },
  {
   "cell_type": "code",
   "execution_count": 41,
   "metadata": {},
   "outputs": [
    {
     "data": {
      "text/plain": [
       "<AxesSubplot:xlabel='Season', ylabel='PM10'>"
      ]
     },
     "execution_count": 41,
     "metadata": {},
     "output_type": "execute_result"
    },
    {
     "data": {
      "image/png": "[encoded data removed]",
      "text/plain": [
       "<Figure size 504x360 with 1 Axes>"
      ]
     },
     "metadata": {
      "needs_background": "light"
     },
     "output_type": "display_data"
    }
   ],
   "source": [
    "# 계절별 PM10의 분포\n",
    "\n",
    "ax = plt.subplots(figsize = (7,5))\n",
    "sns.boxplot(x = \"Season\", y = \"PM10\", data = df_raw, palette='pastel')"
   ]
  },
  {
   "cell_type": "code",
   "execution_count": 42,
   "metadata": {},
   "outputs": [
    {
     "data": {
      "text/plain": [
       "<AxesSubplot:xlabel='RAIN', ylabel='PM10'>"
      ]
     },
     "execution_count": 42,
     "metadata": {},
     "output_type": "execute_result"
    },
    {
     "data": {
      "image/png": "[encoded data removed]",
      "text/plain": [
       "<Figure size 504x360 with 1 Axes>"
      ]
     },
     "metadata": {
      "needs_background": "light"
     },
     "output_type": "display_data"
    }
   ],
   "source": [
    "# 비가 오거나, 오지 않은 날의 PM10의 분포\n",
    "# 0: 비가 오지 않은 날, 1: 비가 온 날\n",
    "\n",
    "ax = plt.subplots(figsize = (7,5))\n",
    "sns.boxplot(x = \"RAIN\", y = \"PM10\", data = df_raw, palette='Set3')"
   ]
  },
  {
   "cell_type": "code",
   "execution_count": 43,
   "metadata": {},
   "outputs": [
    {
     "data": {
      "text/plain": [
       "<AxesSubplot:xlabel='SNOW', ylabel='PM10'>"
      ]
     },
     "execution_count": 43,
     "metadata": {},
     "output_type": "execute_result"
    },
    {
     "data": {
      "image/png": "[encoded data removed]",
      "text/plain": [
       "<Figure size 504x360 with 1 Axes>"
      ]
     },
     "metadata": {
      "needs_background": "light"
     },
     "output_type": "display_data"
    }
   ],
   "source": [
    "# 눈이 오거나, 오지 않은 날의 PM10의 분포\n",
    "# 0: 눈이 오지 않은 날, 1: 눈이 온 날\n",
    "\n",
    "ax = plt.subplots(figsize = (7,5))\n",
    "sns.boxplot(x = \"SNOW\", y = \"PM10\", data = df_raw, palette='Set3')"
   ]
  },
  {
   "cell_type": "code",
   "execution_count": 44,
   "metadata": {},
   "outputs": [
    {
     "data": {
      "text/plain": [
       "<AxesSubplot:xlabel='O3_mean', ylabel='PM10'>"
      ]
     },
     "execution_count": 44,
     "metadata": {},
     "output_type": "execute_result"
    },
    {
     "data": {
      "image/png": "[encoded data removed]",
      "text/plain": [
       "<Figure size 504x360 with 1 Axes>"
      ]
     },
     "metadata": {
      "needs_background": "light"
     },
     "output_type": "display_data"
    }
   ],
   "source": [
    "# 오존의 평균이상 평균이하 별 PM10분포\n",
    "\n",
    "ax = plt.subplots(figsize = (7,5))\n",
    "sns.boxplot(x = \"O3_mean\", y = \"PM10\", data = df_raw, palette='pastel')"
   ]
  },
  {
   "cell_type": "code",
   "execution_count": 45,
   "metadata": {},
   "outputs": [
    {
     "data": {
      "text/plain": [
       "<AxesSubplot:xlabel='NO2_mean', ylabel='PM10'>"
      ]
     },
     "execution_count": 45,
     "metadata": {},
     "output_type": "execute_result"
    },
    {
     "data": {
      "image/png": "[encoded data removed]",
      "text/plain": [
       "<Figure size 504x360 with 1 Axes>"
      ]
     },
     "metadata": {
      "needs_background": "light"
     },
     "output_type": "display_data"
    }
   ],
   "source": [
    "# NO2 평균이상 평균이하 별 PM10 분포\n",
    "\n",
    "ax = plt.subplots(figsize = (7,5))\n",
    "sns.boxplot(x = \"NO2_mean\", y = \"PM10\", data = df_raw, palette='pastel')"
   ]
  },
  {
   "cell_type": "code",
   "execution_count": 46,
   "metadata": {},
   "outputs": [
    {
     "data": {
      "text/plain": [
       "<AxesSubplot:xlabel='CO_mean', ylabel='PM10'>"
      ]
     },
     "execution_count": 46,
     "metadata": {},
     "output_type": "execute_result"
    },
    {
     "data": {
      "image/png": "[encoded data removed]",
      "text/plain": [
       "<Figure size 504x360 with 1 Axes>"
      ]
     },
     "metadata": {
      "needs_background": "light"
     },
     "output_type": "display_data"
    }
   ],
   "source": [
    "# CO 평균이상 평균이하 별 PM10 분포\n",
    "\n",
    "ax = plt.subplots(figsize = (7,5))\n",
    "sns.boxplot(x = \"CO_mean\", y = \"PM10\", data = df_raw, palette='pastel')"
   ]
  },
  {
   "cell_type": "code",
   "execution_count": 47,
   "metadata": {},
   "outputs": [
    {
     "data": {
      "text/plain": [
       "<AxesSubplot:xlabel='SO2_mean', ylabel='PM10'>"
      ]
     },
     "execution_count": 47,
     "metadata": {},
     "output_type": "execute_result"
    },
    {
     "data": {
      "image/png": "[encoded data removed]",
      "text/plain": [
       "<Figure size 504x360 with 1 Axes>"
      ]
     },
     "metadata": {
      "needs_background": "light"
     },
     "output_type": "display_data"
    }
   ],
   "source": [
    "# SO2 평균이상 평균이하 별 PM10 분포\n",
    "\n",
    "ax = plt.subplots(figsize = (7,5))\n",
    "sns.boxplot(x = \"SO2_mean\", y = \"PM10\", data = df_raw, palette='pastel')"
   ]
  },
  {
   "cell_type": "markdown",
   "metadata": {},
   "source": [
    "## 상관분석\n",
    "\n",
    "- 목표변수와 연관있는 변수는 무엇인가? "
   ]
  },
  {
   "cell_type": "code",
   "execution_count": 48,
   "metadata": {},
   "outputs": [
    {
     "data": {
      "text/html": [
       "<div>\n",
       "<style scoped>\n",
       "    .dataframe tbody tr th:only-of-type {\n",
       "        vertical-align: middle;\n",
       "    }\n",
       "\n",
       "    .dataframe tbody tr th {\n",
       "        vertical-align: top;\n",
       "    }\n",
       "\n",
       "    .dataframe thead th {\n",
       "        text-align: right;\n",
       "    }\n",
       "</style>\n",
       "<table border=\"1\" class=\"dataframe\">\n",
       "  <thead>\n",
       "    <tr style=\"text-align: right;\">\n",
       "      <th></th>\n",
       "      <th>PM10</th>\n",
       "      <th>O3</th>\n",
       "      <th>NO2</th>\n",
       "      <th>CO</th>\n",
       "      <th>SO2</th>\n",
       "      <th>TEMP</th>\n",
       "      <th>WIND</th>\n",
       "      <th>WIND_DIR</th>\n",
       "      <th>HUMIDITY</th>\n",
       "      <th>ATM_PRESS</th>\n",
       "      <th>CLOUD</th>\n",
       "    </tr>\n",
       "  </thead>\n",
       "  <tbody>\n",
       "    <tr>\n",
       "      <th>PM10</th>\n",
       "      <td>1.000000</td>\n",
       "      <td>-0.051763</td>\n",
       "      <td>0.395969</td>\n",
       "      <td>0.629420</td>\n",
       "      <td>0.428685</td>\n",
       "      <td>-0.309786</td>\n",
       "      <td>-0.100323</td>\n",
       "      <td>0.019949</td>\n",
       "      <td>-0.149803</td>\n",
       "      <td>0.253023</td>\n",
       "      <td>-0.172230</td>\n",
       "    </tr>\n",
       "    <tr>\n",
       "      <th>O3</th>\n",
       "      <td>-0.051763</td>\n",
       "      <td>1.000000</td>\n",
       "      <td>-0.591658</td>\n",
       "      <td>-0.497763</td>\n",
       "      <td>-0.234127</td>\n",
       "      <td>0.516257</td>\n",
       "      <td>0.165216</td>\n",
       "      <td>0.268680</td>\n",
       "      <td>-0.037699</td>\n",
       "      <td>-0.534372</td>\n",
       "      <td>-0.119307</td>\n",
       "    </tr>\n",
       "    <tr>\n",
       "      <th>NO2</th>\n",
       "      <td>0.395969</td>\n",
       "      <td>-0.591658</td>\n",
       "      <td>1.000000</td>\n",
       "      <td>0.752197</td>\n",
       "      <td>0.563432</td>\n",
       "      <td>-0.237406</td>\n",
       "      <td>-0.536649</td>\n",
       "      <td>-0.408342</td>\n",
       "      <td>-0.065514</td>\n",
       "      <td>0.420292</td>\n",
       "      <td>0.016722</td>\n",
       "    </tr>\n",
       "    <tr>\n",
       "      <th>CO</th>\n",
       "      <td>0.629420</td>\n",
       "      <td>-0.497763</td>\n",
       "      <td>0.752197</td>\n",
       "      <td>1.000000</td>\n",
       "      <td>0.588514</td>\n",
       "      <td>-0.547358</td>\n",
       "      <td>-0.266187</td>\n",
       "      <td>-0.273337</td>\n",
       "      <td>-0.099831</td>\n",
       "      <td>0.518304</td>\n",
       "      <td>-0.083855</td>\n",
       "    </tr>\n",
       "    <tr>\n",
       "      <th>SO2</th>\n",
       "      <td>0.428685</td>\n",
       "      <td>-0.234127</td>\n",
       "      <td>0.563432</td>\n",
       "      <td>0.588514</td>\n",
       "      <td>1.000000</td>\n",
       "      <td>-0.273629</td>\n",
       "      <td>-0.252864</td>\n",
       "      <td>-0.093200</td>\n",
       "      <td>-0.302278</td>\n",
       "      <td>0.333995</td>\n",
       "      <td>-0.191234</td>\n",
       "    </tr>\n",
       "    <tr>\n",
       "      <th>TEMP</th>\n",
       "      <td>-0.309786</td>\n",
       "      <td>0.516257</td>\n",
       "      <td>-0.237406</td>\n",
       "      <td>-0.547358</td>\n",
       "      <td>-0.273629</td>\n",
       "      <td>1.000000</td>\n",
       "      <td>-0.216042</td>\n",
       "      <td>-0.050394</td>\n",
       "      <td>0.404147</td>\n",
       "      <td>-0.792079</td>\n",
       "      <td>0.341553</td>\n",
       "    </tr>\n",
       "    <tr>\n",
       "      <th>WIND</th>\n",
       "      <td>-0.100323</td>\n",
       "      <td>0.165216</td>\n",
       "      <td>-0.536649</td>\n",
       "      <td>-0.266187</td>\n",
       "      <td>-0.252864</td>\n",
       "      <td>-0.216042</td>\n",
       "      <td>1.000000</td>\n",
       "      <td>0.235237</td>\n",
       "      <td>-0.084299</td>\n",
       "      <td>-0.053769</td>\n",
       "      <td>0.016841</td>\n",
       "    </tr>\n",
       "    <tr>\n",
       "      <th>WIND_DIR</th>\n",
       "      <td>0.019949</td>\n",
       "      <td>0.268680</td>\n",
       "      <td>-0.408342</td>\n",
       "      <td>-0.273337</td>\n",
       "      <td>-0.093200</td>\n",
       "      <td>-0.050394</td>\n",
       "      <td>0.235237</td>\n",
       "      <td>1.000000</td>\n",
       "      <td>-0.098825</td>\n",
       "      <td>0.067591</td>\n",
       "      <td>-0.296964</td>\n",
       "    </tr>\n",
       "    <tr>\n",
       "      <th>HUMIDITY</th>\n",
       "      <td>-0.149803</td>\n",
       "      <td>-0.037699</td>\n",
       "      <td>-0.065514</td>\n",
       "      <td>-0.099831</td>\n",
       "      <td>-0.302278</td>\n",
       "      <td>0.404147</td>\n",
       "      <td>-0.084299</td>\n",
       "      <td>-0.098825</td>\n",
       "      <td>1.000000</td>\n",
       "      <td>-0.510358</td>\n",
       "      <td>0.627970</td>\n",
       "    </tr>\n",
       "    <tr>\n",
       "      <th>ATM_PRESS</th>\n",
       "      <td>0.253023</td>\n",
       "      <td>-0.534372</td>\n",
       "      <td>0.420292</td>\n",
       "      <td>0.518304</td>\n",
       "      <td>0.333995</td>\n",
       "      <td>-0.792079</td>\n",
       "      <td>-0.053769</td>\n",
       "      <td>0.067591</td>\n",
       "      <td>-0.510358</td>\n",
       "      <td>1.000000</td>\n",
       "      <td>-0.429744</td>\n",
       "    </tr>\n",
       "    <tr>\n",
       "      <th>CLOUD</th>\n",
       "      <td>-0.172230</td>\n",
       "      <td>-0.119307</td>\n",
       "      <td>0.016722</td>\n",
       "      <td>-0.083855</td>\n",
       "      <td>-0.191234</td>\n",
       "      <td>0.341553</td>\n",
       "      <td>0.016841</td>\n",
       "      <td>-0.296964</td>\n",
       "      <td>0.627970</td>\n",
       "      <td>-0.429744</td>\n",
       "      <td>1.000000</td>\n",
       "    </tr>\n",
       "  </tbody>\n",
       "</table>\n",
       "</div>"
      ],
      "text/plain": [
       "               PM10        O3       NO2        CO       SO2      TEMP  \\\n",
       "PM10       1.000000 -0.051763  0.395969  0.629420  0.428685 -0.309786   \n",
       "O3        -0.051763  1.000000 -0.591658 -0.497763 -0.234127  0.516257   \n",
       "NO2        0.395969 -0.591658  1.000000  0.752197  0.563432 -0.237406   \n",
       "CO         0.629420 -0.497763  0.752197  1.000000  0.588514 -0.547358   \n",
       "SO2        0.428685 -0.234127  0.563432  0.588514  1.000000 -0.273629   \n",
       "TEMP      -0.309786  0.516257 -0.237406 -0.547358 -0.273629  1.000000   \n",
       "WIND      -0.100323  0.165216 -0.536649 -0.266187 -0.252864 -0.216042   \n",
       "WIND_DIR   0.019949  0.268680 -0.408342 -0.273337 -0.093200 -0.050394   \n",
       "HUMIDITY  -0.149803 -0.037699 -0.065514 -0.099831 -0.302278  0.404147   \n",
       "ATM_PRESS  0.253023 -0.534372  0.420292  0.518304  0.333995 -0.792079   \n",
       "CLOUD     -0.172230 -0.119307  0.016722 -0.083855 -0.191234  0.341553   \n",
       "\n",
       "               WIND  WIND_DIR  HUMIDITY  ATM_PRESS     CLOUD  \n",
       "PM10      -0.100323  0.019949 -0.149803   0.253023 -0.172230  \n",
       "O3         0.165216  0.268680 -0.037699  -0.534372 -0.119307  \n",
       "NO2       -0.536649 -0.408342 -0.065514   0.420292  0.016722  \n",
       "CO        -0.266187 -0.273337 -0.099831   0.518304 -0.083855  \n",
       "SO2       -0.252864 -0.093200 -0.302278   0.333995 -0.191234  \n",
       "TEMP      -0.216042 -0.050394  0.404147  -0.792079  0.341553  \n",
       "WIND       1.000000  0.235237 -0.084299  -0.053769  0.016841  \n",
       "WIND_DIR   0.235237  1.000000 -0.098825   0.067591 -0.296964  \n",
       "HUMIDITY  -0.084299 -0.098825  1.000000  -0.510358  0.627970  \n",
       "ATM_PRESS -0.053769  0.067591 -0.510358   1.000000 -0.429744  \n",
       "CLOUD      0.016841 -0.296964  0.627970  -0.429744  1.000000  "
      ]
     },
     "execution_count": 48,
     "metadata": {},
     "output_type": "execute_result"
    }
   ],
   "source": [
    "#상관관계를 관찰할 칼럼으로만 데이터프레임 추출\n",
    "df_new = df_raw[['PM10', 'O3', 'NO2', 'CO', 'SO2', 'TEMP', 'RAIN', 'WIND',\n",
    "       'WIND_DIR', 'HUMIDITY', 'ATM_PRESS', 'SNOW', 'CLOUD']]\n",
    "corr = df_new.corr(method = 'pearson')\n",
    "corr"
   ]
  },
  {
   "cell_type": "markdown",
   "metadata": {},
   "source": [
    "#### 히트맵 시각화"
   ]
  },
  {
   "cell_type": "code",
   "execution_count": 49,
   "metadata": {},
   "outputs": [
    {
     "data": {
      "text/plain": [
       "<AxesSubplot:>"
      ]
     },
     "execution_count": 49,
     "metadata": {},
     "output_type": "execute_result"
    },
    {
     "data": {
      "image/png": "[encoded data removed]",
      "text/plain": [
       "<Figure size 1080x1080 with 2 Axes>"
      ]
     },
     "metadata": {
      "needs_background": "light"
     },
     "output_type": "display_data"
    }
   ],
   "source": [
    "plt.figure(figsize=(15,15))\n",
    "sns.heatmap(data = df_new.corr(), annot=True, fmt = '.2f', linewidths=.5, cmap='Blues')"
   ]
  },
  {
   "cell_type": "markdown",
   "metadata": {},
   "source": [
    "# 5. 통계적 가설검정\n",
    "## 파생변수에 따른 목표변수의 차이 검정\n",
    "    : 2-Sample t-test"
   ]
  },
  {
   "cell_type": "markdown",
   "metadata": {},
   "source": [
    "### 평균보다 높은 집단 vs 평균보다 낮은집단 차이 검정\n",
    "- 평균보다 높은 집단의 PM10과, 평균보다 낮은 집단의 PM10에 차이가 있는가? 를 검정하라는 건가?\n",
    "\n",
    "- 그럼 평균이상 집단의 PM10을 모으고, 평균이하 집단의 PM10을 모으고? "
   ]
  },
  {
   "cell_type": "markdown",
   "metadata": {},
   "source": [
    "#### O3의 차이검정"
   ]
  },
  {
   "cell_type": "code",
   "execution_count": 50,
   "metadata": {},
   "outputs": [
    {
     "ename": "TypeError",
     "evalue": "'<=' not supported between instances of 'str' and 'float'",
     "output_type": "error",
     "traceback": [
      "\u001b[1;31m---------------------------------------------------------------------------\u001b[0m",
      "\u001b[1;31mTypeError\u001b[0m                                 Traceback (most recent call last)",
      "\u001b[1;32m<ipython-input-50-8debb1e53e2a>\u001b[0m in \u001b[0;36m<module>\u001b[1;34m\u001b[0m\n\u001b[0;32m      1\u001b[0m \u001b[1;31m# O3의 평균이상 1, 평균이하 1\u001b[0m\u001b[1;33m\u001b[0m\u001b[1;33m\u001b[0m\u001b[1;33m\u001b[0m\u001b[0m\n\u001b[0;32m      2\u001b[0m \u001b[1;33m\u001b[0m\u001b[0m\n\u001b[1;32m----> 3\u001b[1;33m \u001b[0mdf1\u001b[0m \u001b[1;33m=\u001b[0m \u001b[0mdf_raw\u001b[0m\u001b[1;33m[\u001b[0m\u001b[0mdf_raw\u001b[0m\u001b[1;33m.\u001b[0m\u001b[0mO3_mean\u001b[0m \u001b[1;33m<=\u001b[0m \u001b[0mdf_mean_list\u001b[0m\u001b[1;33m[\u001b[0m\u001b[1;36m0\u001b[0m\u001b[1;33m]\u001b[0m\u001b[1;33m]\u001b[0m\u001b[1;33m[\u001b[0m\u001b[1;34m'PM10'\u001b[0m\u001b[1;33m]\u001b[0m\u001b[1;33m\u001b[0m\u001b[1;33m\u001b[0m\u001b[0m\n\u001b[0m\u001b[0;32m      4\u001b[0m \u001b[0mdf2\u001b[0m \u001b[1;33m=\u001b[0m \u001b[0mdf_raw\u001b[0m\u001b[1;33m[\u001b[0m\u001b[0mdf_raw\u001b[0m\u001b[1;33m.\u001b[0m\u001b[0mO3_mean\u001b[0m \u001b[1;33m>\u001b[0m \u001b[0mdf_mean_list\u001b[0m\u001b[1;33m[\u001b[0m\u001b[1;36m0\u001b[0m\u001b[1;33m]\u001b[0m\u001b[1;33m]\u001b[0m\u001b[1;33m[\u001b[0m\u001b[1;34m'PM10'\u001b[0m\u001b[1;33m]\u001b[0m\u001b[1;33m\u001b[0m\u001b[1;33m\u001b[0m\u001b[0m\n\u001b[0;32m      5\u001b[0m \u001b[1;33m\u001b[0m\u001b[0m\n",
      "\u001b[1;32m~\\anaconda3\\lib\\site-packages\\pandas\\core\\ops\\common.py\u001b[0m in \u001b[0;36mnew_method\u001b[1;34m(self, other)\u001b[0m\n\u001b[0;32m     62\u001b[0m         \u001b[0mother\u001b[0m \u001b[1;33m=\u001b[0m \u001b[0mitem_from_zerodim\u001b[0m\u001b[1;33m(\u001b[0m\u001b[0mother\u001b[0m\u001b[1;33m)\u001b[0m\u001b[1;33m\u001b[0m\u001b[1;33m\u001b[0m\u001b[0m\n\u001b[0;32m     63\u001b[0m \u001b[1;33m\u001b[0m\u001b[0m\n\u001b[1;32m---> 64\u001b[1;33m         \u001b[1;32mreturn\u001b[0m \u001b[0mmethod\u001b[0m\u001b[1;33m(\u001b[0m\u001b[0mself\u001b[0m\u001b[1;33m,\u001b[0m \u001b[0mother\u001b[0m\u001b[1;33m)\u001b[0m\u001b[1;33m\u001b[0m\u001b[1;33m\u001b[0m\u001b[0m\n\u001b[0m\u001b[0;32m     65\u001b[0m \u001b[1;33m\u001b[0m\u001b[0m\n\u001b[0;32m     66\u001b[0m     \u001b[1;32mreturn\u001b[0m \u001b[0mnew_method\u001b[0m\u001b[1;33m\u001b[0m\u001b[1;33m\u001b[0m\u001b[0m\n",
      "\u001b[1;32m~\\anaconda3\\lib\\site-packages\\pandas\\core\\ops\\__init__.py\u001b[0m in \u001b[0;36mwrapper\u001b[1;34m(self, other)\u001b[0m\n\u001b[0;32m    527\u001b[0m         \u001b[0mrvalues\u001b[0m \u001b[1;33m=\u001b[0m \u001b[0mextract_array\u001b[0m\u001b[1;33m(\u001b[0m\u001b[0mother\u001b[0m\u001b[1;33m,\u001b[0m \u001b[0mextract_numpy\u001b[0m\u001b[1;33m=\u001b[0m\u001b[1;32mTrue\u001b[0m\u001b[1;33m)\u001b[0m\u001b[1;33m\u001b[0m\u001b[1;33m\u001b[0m\u001b[0m\n\u001b[0;32m    528\u001b[0m \u001b[1;33m\u001b[0m\u001b[0m\n\u001b[1;32m--> 529\u001b[1;33m         \u001b[0mres_values\u001b[0m \u001b[1;33m=\u001b[0m \u001b[0mcomparison_op\u001b[0m\u001b[1;33m(\u001b[0m\u001b[0mlvalues\u001b[0m\u001b[1;33m,\u001b[0m \u001b[0mrvalues\u001b[0m\u001b[1;33m,\u001b[0m \u001b[0mop\u001b[0m\u001b[1;33m)\u001b[0m\u001b[1;33m\u001b[0m\u001b[1;33m\u001b[0m\u001b[0m\n\u001b[0m\u001b[0;32m    530\u001b[0m \u001b[1;33m\u001b[0m\u001b[0m\n\u001b[0;32m    531\u001b[0m         \u001b[1;32mreturn\u001b[0m \u001b[0m_construct_result\u001b[0m\u001b[1;33m(\u001b[0m\u001b[0mself\u001b[0m\u001b[1;33m,\u001b[0m \u001b[0mres_values\u001b[0m\u001b[1;33m,\u001b[0m \u001b[0mindex\u001b[0m\u001b[1;33m=\u001b[0m\u001b[0mself\u001b[0m\u001b[1;33m.\u001b[0m\u001b[0mindex\u001b[0m\u001b[1;33m,\u001b[0m \u001b[0mname\u001b[0m\u001b[1;33m=\u001b[0m\u001b[0mres_name\u001b[0m\u001b[1;33m)\u001b[0m\u001b[1;33m\u001b[0m\u001b[1;33m\u001b[0m\u001b[0m\n",
      "\u001b[1;32m~\\anaconda3\\lib\\site-packages\\pandas\\core\\ops\\array_ops.py\u001b[0m in \u001b[0;36mcomparison_op\u001b[1;34m(left, right, op)\u001b[0m\n\u001b[0;32m    245\u001b[0m \u001b[1;33m\u001b[0m\u001b[0m\n\u001b[0;32m    246\u001b[0m     \u001b[1;32melif\u001b[0m \u001b[0mis_object_dtype\u001b[0m\u001b[1;33m(\u001b[0m\u001b[0mlvalues\u001b[0m\u001b[1;33m.\u001b[0m\u001b[0mdtype\u001b[0m\u001b[1;33m)\u001b[0m\u001b[1;33m:\u001b[0m\u001b[1;33m\u001b[0m\u001b[1;33m\u001b[0m\u001b[0m\n\u001b[1;32m--> 247\u001b[1;33m         \u001b[0mres_values\u001b[0m \u001b[1;33m=\u001b[0m \u001b[0mcomp_method_OBJECT_ARRAY\u001b[0m\u001b[1;33m(\u001b[0m\u001b[0mop\u001b[0m\u001b[1;33m,\u001b[0m \u001b[0mlvalues\u001b[0m\u001b[1;33m,\u001b[0m \u001b[0mrvalues\u001b[0m\u001b[1;33m)\u001b[0m\u001b[1;33m\u001b[0m\u001b[1;33m\u001b[0m\u001b[0m\n\u001b[0m\u001b[0;32m    248\u001b[0m \u001b[1;33m\u001b[0m\u001b[0m\n\u001b[0;32m    249\u001b[0m     \u001b[1;32melse\u001b[0m\u001b[1;33m:\u001b[0m\u001b[1;33m\u001b[0m\u001b[1;33m\u001b[0m\u001b[0m\n",
      "\u001b[1;32m~\\anaconda3\\lib\\site-packages\\pandas\\core\\ops\\array_ops.py\u001b[0m in \u001b[0;36mcomp_method_OBJECT_ARRAY\u001b[1;34m(op, x, y)\u001b[0m\n\u001b[0;32m     55\u001b[0m         \u001b[0mresult\u001b[0m \u001b[1;33m=\u001b[0m \u001b[0mlibops\u001b[0m\u001b[1;33m.\u001b[0m\u001b[0mvec_compare\u001b[0m\u001b[1;33m(\u001b[0m\u001b[0mx\u001b[0m\u001b[1;33m.\u001b[0m\u001b[0mravel\u001b[0m\u001b[1;33m(\u001b[0m\u001b[1;33m)\u001b[0m\u001b[1;33m,\u001b[0m \u001b[0my\u001b[0m\u001b[1;33m,\u001b[0m \u001b[0mop\u001b[0m\u001b[1;33m)\u001b[0m\u001b[1;33m\u001b[0m\u001b[1;33m\u001b[0m\u001b[0m\n\u001b[0;32m     56\u001b[0m     \u001b[1;32melse\u001b[0m\u001b[1;33m:\u001b[0m\u001b[1;33m\u001b[0m\u001b[1;33m\u001b[0m\u001b[0m\n\u001b[1;32m---> 57\u001b[1;33m         \u001b[0mresult\u001b[0m \u001b[1;33m=\u001b[0m \u001b[0mlibops\u001b[0m\u001b[1;33m.\u001b[0m\u001b[0mscalar_compare\u001b[0m\u001b[1;33m(\u001b[0m\u001b[0mx\u001b[0m\u001b[1;33m.\u001b[0m\u001b[0mravel\u001b[0m\u001b[1;33m(\u001b[0m\u001b[1;33m)\u001b[0m\u001b[1;33m,\u001b[0m \u001b[0my\u001b[0m\u001b[1;33m,\u001b[0m \u001b[0mop\u001b[0m\u001b[1;33m)\u001b[0m\u001b[1;33m\u001b[0m\u001b[1;33m\u001b[0m\u001b[0m\n\u001b[0m\u001b[0;32m     58\u001b[0m     \u001b[1;32mreturn\u001b[0m \u001b[0mresult\u001b[0m\u001b[1;33m.\u001b[0m\u001b[0mreshape\u001b[0m\u001b[1;33m(\u001b[0m\u001b[0mx\u001b[0m\u001b[1;33m.\u001b[0m\u001b[0mshape\u001b[0m\u001b[1;33m)\u001b[0m\u001b[1;33m\u001b[0m\u001b[1;33m\u001b[0m\u001b[0m\n\u001b[0;32m     59\u001b[0m \u001b[1;33m\u001b[0m\u001b[0m\n",
      "\u001b[1;32mpandas\\_libs\\ops.pyx\u001b[0m in \u001b[0;36mpandas._libs.ops.scalar_compare\u001b[1;34m()\u001b[0m\n",
      "\u001b[1;31mTypeError\u001b[0m: '<=' not supported between instances of 'str' and 'float'"
     ]
    }
   ],
   "source": [
    "# O3의 평균이상 1, 평균이하 1\n",
    "\n",
    "df1 = df_raw[df_raw.O3_mean <= df_mean_list[0]]['PM10']\n",
    "df2 = df_raw[df_raw.O3_mean > df_mean_list[0]]['PM10']\n",
    "\n",
    "# df_raw[\"O3_mean\"] = np.where(df_raw[\"O3_mean\"] == \"평균이상\", 1, 0)\n",
    "df_O3 = pd.concat([df1, df2], axis = 1, ignore_index = True)\n",
    "df_O3"
   ]
  },
  {
   "cell_type": "markdown",
   "metadata": {},
   "source": [
    "#### NO2의 차이검정"
   ]
  },
  {
   "cell_type": "code",
   "execution_count": null,
   "metadata": {},
   "outputs": [],
   "source": []
  },
  {
   "cell_type": "markdown",
   "metadata": {},
   "source": [
    "#### SO2의 차이검정"
   ]
  },
  {
   "cell_type": "code",
   "execution_count": null,
   "metadata": {},
   "outputs": [],
   "source": []
  },
  {
   "cell_type": "markdown",
   "metadata": {},
   "source": [
    "#### CO의 차이검정"
   ]
  },
  {
   "cell_type": "code",
   "execution_count": null,
   "metadata": {},
   "outputs": [],
   "source": []
  },
  {
   "cell_type": "markdown",
   "metadata": {},
   "source": [
    "### 비가 오는 경우 vs 비가 오지 않는 경우\n",
    "- 비가 오는 경우의 PM10과 비가 오지않는 경우의 PM10 의 차이 검정"
   ]
  },
  {
   "cell_type": "code",
   "execution_count": 51,
   "metadata": {},
   "outputs": [
    {
     "name": "stdout",
     "output_type": "stream",
     "text": [
      "statistic =0.9625291228294373, p-value = 3.7925456126686186e-06\n",
      "statistic =0.8876467347145081, p-value = 9.800134392889959e-08\n"
     ]
    }
   ],
   "source": [
    "# df_raw에서 RAIN이 '비가 오지 않는 날'일 경우의 PM10\n",
    "\n",
    "df1 = df_raw[df_raw.RAIN == \"비가 오지 않은 날\"]['PM10']\n",
    "df2 = df_raw[df_raw.RAIN == \"비가 온 날\"]['PM10']\n",
    "\n",
    "df1 = df1.dropna()\n",
    "df2 = df2.dropna()\n",
    "\n",
    "\n",
    "statistic, p = stats.shapiro(df1)\n",
    "print(\"statistic ={}, p-value = {}\".format(statistic, p))\n",
    "\n",
    "statistic, p = stats.shapiro(df2)\n",
    "print(\"statistic ={}, p-value = {}\".format(statistic, p))"
   ]
  },
  {
   "cell_type": "markdown",
   "metadata": {},
   "source": [
    " - 비가 온 날과 오지 않은 날은 정규성을 만족하지 않는다. 따라서 t test 불가함.   \n",
    "     비 같은 경우에는 미세먼지 저감에 효과가 있는것으로 알려져있으나, 관련 자료에 의하면 강수량이 시간당 10mm이상은 되어야 효과가 있다고 한다. 이번에 폭우로 문제가 되었던 서울 폭우량은 시간당 36mm였다. 하지만 이러한 강우량은 100년에 한번 올까말까 한 양으로서, 비가 미세먼지 증가나 감소에 효과적인 역할을 한다고 볼 수 없다고 판단, 모델링 시 해당 변수를 삭제하기로 한다. "
   ]
  },
  {
   "cell_type": "markdown",
   "metadata": {},
   "source": [
    "### 눈이 오는 경우 vs 눈이 오지 않는 경우\n",
    "- 눈가 오는 경우의 PM10과 눈가 오지않는 경우의 PM10 의 차이 검정"
   ]
  },
  {
   "cell_type": "code",
   "execution_count": 52,
   "metadata": {
    "scrolled": true
   },
   "outputs": [
    {
     "data": {
      "text/html": [
       "<div>\n",
       "<style scoped>\n",
       "    .dataframe tbody tr th:only-of-type {\n",
       "        vertical-align: middle;\n",
       "    }\n",
       "\n",
       "    .dataframe tbody tr th {\n",
       "        vertical-align: top;\n",
       "    }\n",
       "\n",
       "    .dataframe thead th {\n",
       "        text-align: right;\n",
       "    }\n",
       "</style>\n",
       "<table border=\"1\" class=\"dataframe\">\n",
       "  <thead>\n",
       "    <tr style=\"text-align: right;\">\n",
       "      <th></th>\n",
       "      <th>snow</th>\n",
       "      <th>no_snow</th>\n",
       "    </tr>\n",
       "  </thead>\n",
       "  <tbody>\n",
       "    <tr>\n",
       "      <th>0</th>\n",
       "      <td>29.0</td>\n",
       "      <td>NaN</td>\n",
       "    </tr>\n",
       "    <tr>\n",
       "      <th>1</th>\n",
       "      <td>26.0</td>\n",
       "      <td>NaN</td>\n",
       "    </tr>\n",
       "    <tr>\n",
       "      <th>2</th>\n",
       "      <td>30.0</td>\n",
       "      <td>NaN</td>\n",
       "    </tr>\n",
       "    <tr>\n",
       "      <th>3</th>\n",
       "      <td>28.0</td>\n",
       "      <td>NaN</td>\n",
       "    </tr>\n",
       "    <tr>\n",
       "      <th>4</th>\n",
       "      <td>29.0</td>\n",
       "      <td>NaN</td>\n",
       "    </tr>\n",
       "    <tr>\n",
       "      <th>...</th>\n",
       "      <td>...</td>\n",
       "      <td>...</td>\n",
       "    </tr>\n",
       "    <tr>\n",
       "      <th>361</th>\n",
       "      <td>19.0</td>\n",
       "      <td>NaN</td>\n",
       "    </tr>\n",
       "    <tr>\n",
       "      <th>362</th>\n",
       "      <td>22.0</td>\n",
       "      <td>NaN</td>\n",
       "    </tr>\n",
       "    <tr>\n",
       "      <th>363</th>\n",
       "      <td>27.0</td>\n",
       "      <td>NaN</td>\n",
       "    </tr>\n",
       "    <tr>\n",
       "      <th>364</th>\n",
       "      <td>36.0</td>\n",
       "      <td>NaN</td>\n",
       "    </tr>\n",
       "    <tr>\n",
       "      <th>365</th>\n",
       "      <td>6.0</td>\n",
       "      <td>NaN</td>\n",
       "    </tr>\n",
       "  </tbody>\n",
       "</table>\n",
       "<p>365 rows × 2 columns</p>\n",
       "</div>"
      ],
      "text/plain": [
       "     snow  no_snow\n",
       "0    29.0      NaN\n",
       "1    26.0      NaN\n",
       "2    30.0      NaN\n",
       "3    28.0      NaN\n",
       "4    29.0      NaN\n",
       "..    ...      ...\n",
       "361  19.0      NaN\n",
       "362  22.0      NaN\n",
       "363  27.0      NaN\n",
       "364  36.0      NaN\n",
       "365   6.0      NaN\n",
       "\n",
       "[365 rows x 2 columns]"
      ]
     },
     "execution_count": 52,
     "metadata": {},
     "output_type": "execute_result"
    }
   ],
   "source": [
    "# df_raw에서 snow가 '눈이 오지 않는 날'일 경우의 PM10\n",
    "\n",
    "df3 = df_raw[df_raw.SNOW == \"눈이 오지 않은 날\"]['PM10']\n",
    "df4 = df_raw[df_raw.SNOW == \"눈이 온 날\"]['PM10']\n",
    "\n",
    "df3 = df3.dropna()\n",
    "df4 = df4.dropna()\n",
    "\n",
    "df_snow = pd.concat([df3, df4], axis = 1, ignore_index = True)\n",
    "df_snow.columns = ['snow', 'no_snow']\n",
    "df_snow.isnull().sum()\n",
    "df_snow"
   ]
  },
  {
   "cell_type": "code",
   "execution_count": 53,
   "metadata": {
    "scrolled": true
   },
   "outputs": [
    {
     "name": "stdout",
     "output_type": "stream",
     "text": [
      "statistic =0.9501688480377197, p-value = 1.1793275245253199e-09\n",
      "statistic =0.7293481826782227, p-value = 0.01241486705839634\n"
     ]
    }
   ],
   "source": [
    "statistic, p = stats.shapiro(df3)\n",
    "print(\"statistic ={}, p-value = {}\".format(statistic, p))\n",
    "\n",
    "statistic, p = stats.shapiro(df4)\n",
    "print(\"statistic ={}, p-value = {}\".format(statistic, p))\n"
   ]
  },
  {
   "cell_type": "markdown",
   "metadata": {},
   "source": [
    "- 눈이 온 날과 오지 않은 날은 정규성을 만족하지 않는다. 따라서 t-test 불가함. \n",
    "    눈이 온 날은 일년의 데이터 중 딱 6일이다. 너무 적은 데이터를 가지고 있으므로 유의미한 분석이 불가하다고 판단, 모델링 시 삭제 하기로 한다. "
   ]
  },
  {
   "cell_type": "markdown",
   "metadata": {},
   "source": [
    "# 6. 모델링 및 평가"
   ]
  },
  {
   "cell_type": "markdown",
   "metadata": {},
   "source": [
    "#### 모델링 기본"
   ]
  },
  {
   "cell_type": "code",
   "execution_count": 54,
   "metadata": {
    "scrolled": false
   },
   "outputs": [
    {
     "data": {
      "text/plain": [
       "Index(['MeasDate', 'PM10', 'O3', 'NO2', 'CO', 'SO2', 'TEMP', 'WIND',\n",
       "       'WIND_DIR', 'HUMIDITY', 'ATM_PRESS', 'CLOUD', 'Month',\n",
       "       'RAIN_비가 오지 않은 날', 'RAIN_비가 온 날', 'SNOW_눈이 오지 않은 날', 'SNOW_눈이 온 날',\n",
       "       'Season_가을', 'Season_겨울', 'Season_봄', 'Season_여름', 'O3_mean_평균이상',\n",
       "       'O3_mean_평균이하', 'NO2_mean_평균이상', 'NO2_mean_평균이하', 'CO_mean_평균이상',\n",
       "       'CO_mean_평균이하', 'SO2_mean_평균이상', 'SO2_mean_평균이하', 'WIND_DIR_4_E',\n",
       "       'WIND_DIR_4_N', 'WIND_DIR_4_S', 'WIND_DIR_4_W'],\n",
       "      dtype='object')"
      ]
     },
     "execution_count": 54,
     "metadata": {},
     "output_type": "execute_result"
    }
   ],
   "source": [
    "# 범주형 변수에 대해서 더미변수 생성\n",
    "\n",
    "df = pd.get_dummies(df_raw)\n",
    "df.columns"
   ]
  },
  {
   "cell_type": "code",
   "execution_count": 55,
   "metadata": {},
   "outputs": [
    {
     "data": {
      "text/html": [
       "<div>\n",
       "<style scoped>\n",
       "    .dataframe tbody tr th:only-of-type {\n",
       "        vertical-align: middle;\n",
       "    }\n",
       "\n",
       "    .dataframe tbody tr th {\n",
       "        vertical-align: top;\n",
       "    }\n",
       "\n",
       "    .dataframe thead th {\n",
       "        text-align: right;\n",
       "    }\n",
       "</style>\n",
       "<table border=\"1\" class=\"dataframe\">\n",
       "  <thead>\n",
       "    <tr style=\"text-align: right;\">\n",
       "      <th></th>\n",
       "      <th>PM10</th>\n",
       "      <th>O3</th>\n",
       "      <th>NO2</th>\n",
       "      <th>CO</th>\n",
       "      <th>SO2</th>\n",
       "      <th>TEMP</th>\n",
       "      <th>WIND</th>\n",
       "      <th>HUMIDITY</th>\n",
       "      <th>ATM_PRESS</th>\n",
       "      <th>CLOUD</th>\n",
       "      <th>Season_가을</th>\n",
       "      <th>Season_겨울</th>\n",
       "      <th>Season_봄</th>\n",
       "      <th>Season_여름</th>\n",
       "      <th>WIND_DIR_4_E</th>\n",
       "      <th>WIND_DIR_4_N</th>\n",
       "      <th>WIND_DIR_4_S</th>\n",
       "      <th>WIND_DIR_4_W</th>\n",
       "    </tr>\n",
       "  </thead>\n",
       "  <tbody>\n",
       "    <tr>\n",
       "      <th>0</th>\n",
       "      <td>29.0</td>\n",
       "      <td>0.054</td>\n",
       "      <td>0.021</td>\n",
       "      <td>0.5</td>\n",
       "      <td>0.003</td>\n",
       "      <td>24.03</td>\n",
       "      <td>2.30</td>\n",
       "      <td>63.2</td>\n",
       "      <td>995.1</td>\n",
       "      <td>5.70</td>\n",
       "      <td>0</td>\n",
       "      <td>0</td>\n",
       "      <td>0</td>\n",
       "      <td>1</td>\n",
       "      <td>0</td>\n",
       "      <td>0</td>\n",
       "      <td>0</td>\n",
       "      <td>1</td>\n",
       "    </tr>\n",
       "    <tr>\n",
       "      <th>1</th>\n",
       "      <td>26.0</td>\n",
       "      <td>0.053</td>\n",
       "      <td>0.020</td>\n",
       "      <td>0.5</td>\n",
       "      <td>0.003</td>\n",
       "      <td>24.29</td>\n",
       "      <td>2.26</td>\n",
       "      <td>63.2</td>\n",
       "      <td>998.6</td>\n",
       "      <td>3.83</td>\n",
       "      <td>0</td>\n",
       "      <td>0</td>\n",
       "      <td>0</td>\n",
       "      <td>1</td>\n",
       "      <td>0</td>\n",
       "      <td>0</td>\n",
       "      <td>0</td>\n",
       "      <td>1</td>\n",
       "    </tr>\n",
       "    <tr>\n",
       "      <th>2</th>\n",
       "      <td>30.0</td>\n",
       "      <td>0.042</td>\n",
       "      <td>0.023</td>\n",
       "      <td>0.4</td>\n",
       "      <td>0.003</td>\n",
       "      <td>24.18</td>\n",
       "      <td>1.79</td>\n",
       "      <td>65.3</td>\n",
       "      <td>998.3</td>\n",
       "      <td>6.29</td>\n",
       "      <td>0</td>\n",
       "      <td>0</td>\n",
       "      <td>0</td>\n",
       "      <td>1</td>\n",
       "      <td>0</td>\n",
       "      <td>0</td>\n",
       "      <td>0</td>\n",
       "      <td>1</td>\n",
       "    </tr>\n",
       "    <tr>\n",
       "      <th>3</th>\n",
       "      <td>28.0</td>\n",
       "      <td>0.034</td>\n",
       "      <td>0.026</td>\n",
       "      <td>0.4</td>\n",
       "      <td>0.003</td>\n",
       "      <td>25.35</td>\n",
       "      <td>2.04</td>\n",
       "      <td>58.6</td>\n",
       "      <td>996.6</td>\n",
       "      <td>2.54</td>\n",
       "      <td>0</td>\n",
       "      <td>0</td>\n",
       "      <td>0</td>\n",
       "      <td>1</td>\n",
       "      <td>0</td>\n",
       "      <td>0</td>\n",
       "      <td>0</td>\n",
       "      <td>1</td>\n",
       "    </tr>\n",
       "    <tr>\n",
       "      <th>4</th>\n",
       "      <td>29.0</td>\n",
       "      <td>0.045</td>\n",
       "      <td>0.035</td>\n",
       "      <td>0.5</td>\n",
       "      <td>0.003</td>\n",
       "      <td>27.30</td>\n",
       "      <td>1.45</td>\n",
       "      <td>45.5</td>\n",
       "      <td>993.5</td>\n",
       "      <td>3.92</td>\n",
       "      <td>0</td>\n",
       "      <td>0</td>\n",
       "      <td>0</td>\n",
       "      <td>1</td>\n",
       "      <td>0</td>\n",
       "      <td>0</td>\n",
       "      <td>1</td>\n",
       "      <td>0</td>\n",
       "    </tr>\n",
       "  </tbody>\n",
       "</table>\n",
       "</div>"
      ],
      "text/plain": [
       "   PM10     O3    NO2   CO    SO2   TEMP  WIND  HUMIDITY  ATM_PRESS  CLOUD  \\\n",
       "0  29.0  0.054  0.021  0.5  0.003  24.03  2.30      63.2      995.1   5.70   \n",
       "1  26.0  0.053  0.020  0.5  0.003  24.29  2.26      63.2      998.6   3.83   \n",
       "2  30.0  0.042  0.023  0.4  0.003  24.18  1.79      65.3      998.3   6.29   \n",
       "3  28.0  0.034  0.026  0.4  0.003  25.35  2.04      58.6      996.6   2.54   \n",
       "4  29.0  0.045  0.035  0.5  0.003  27.30  1.45      45.5      993.5   3.92   \n",
       "\n",
       "   Season_가을  Season_겨울  Season_봄  Season_여름  WIND_DIR_4_E  WIND_DIR_4_N  \\\n",
       "0          0          0         0          1             0             0   \n",
       "1          0          0         0          1             0             0   \n",
       "2          0          0         0          1             0             0   \n",
       "3          0          0         0          1             0             0   \n",
       "4          0          0         0          1             0             0   \n",
       "\n",
       "   WIND_DIR_4_S  WIND_DIR_4_W  \n",
       "0             0             1  \n",
       "1             0             1  \n",
       "2             0             1  \n",
       "3             0             1  \n",
       "4             1             0  "
      ]
     },
     "execution_count": 55,
     "metadata": {},
     "output_type": "execute_result"
    }
   ],
   "source": [
    "#모델링에 필요없는 데이터 칼럼 제거\n",
    "df = df.drop(columns = ['MeasDate','Month','WIND_DIR', 'RAIN_비가 오지 않은 날', 'RAIN_비가 온 날', 'SNOW_눈이 오지 않은 날', 'SNOW_눈이 온 날','O3_mean_평균이상',\n",
    "       'O3_mean_평균이하', 'NO2_mean_평균이상', 'NO2_mean_평균이하', 'CO_mean_평균이상',\n",
    "       'CO_mean_평균이하', 'SO2_mean_평균이상', 'SO2_mean_평균이하'], axis = 1)\n",
    "df.head()"
   ]
  },
  {
   "cell_type": "markdown",
   "metadata": {},
   "source": [
    "#### 데이터 스케일링"
   ]
  },
  {
   "cell_type": "code",
   "execution_count": 57,
   "metadata": {
    "scrolled": true
   },
   "outputs": [
    {
     "data": {
      "text/html": [
       "<div>\n",
       "<style scoped>\n",
       "    .dataframe tbody tr th:only-of-type {\n",
       "        vertical-align: middle;\n",
       "    }\n",
       "\n",
       "    .dataframe tbody tr th {\n",
       "        vertical-align: top;\n",
       "    }\n",
       "\n",
       "    .dataframe thead th {\n",
       "        text-align: right;\n",
       "    }\n",
       "</style>\n",
       "<table border=\"1\" class=\"dataframe\">\n",
       "  <thead>\n",
       "    <tr style=\"text-align: right;\">\n",
       "      <th></th>\n",
       "      <th>PM10</th>\n",
       "      <th>O3</th>\n",
       "      <th>NO2</th>\n",
       "      <th>CO</th>\n",
       "      <th>SO2</th>\n",
       "      <th>TEMP</th>\n",
       "      <th>WIND</th>\n",
       "      <th>HUMIDITY</th>\n",
       "      <th>ATM_PRESS</th>\n",
       "      <th>CLOUD</th>\n",
       "      <th>Season_가을</th>\n",
       "      <th>Season_겨울</th>\n",
       "      <th>Season_봄</th>\n",
       "      <th>Season_여름</th>\n",
       "      <th>WIND_DIR_4_E</th>\n",
       "      <th>WIND_DIR_4_N</th>\n",
       "      <th>WIND_DIR_4_S</th>\n",
       "      <th>WIND_DIR_4_W</th>\n",
       "    </tr>\n",
       "  </thead>\n",
       "  <tbody>\n",
       "    <tr>\n",
       "      <th>0</th>\n",
       "      <td>-0.277826</td>\n",
       "      <td>2.558984</td>\n",
       "      <td>-0.566824</td>\n",
       "      <td>0.093862</td>\n",
       "      <td>-0.052053</td>\n",
       "      <td>1.035373</td>\n",
       "      <td>0.105769</td>\n",
       "      <td>0.204900</td>\n",
       "      <td>-1.325967</td>\n",
       "      <td>0.216196</td>\n",
       "      <td>-0.576296</td>\n",
       "      <td>-0.576296</td>\n",
       "      <td>-0.576296</td>\n",
       "      <td>1.722612</td>\n",
       "      <td>-0.456738</td>\n",
       "      <td>-0.149696</td>\n",
       "      <td>-0.734904</td>\n",
       "      <td>1.094895</td>\n",
       "    </tr>\n",
       "    <tr>\n",
       "      <th>1</th>\n",
       "      <td>-0.466314</td>\n",
       "      <td>2.474806</td>\n",
       "      <td>-0.664322</td>\n",
       "      <td>0.093862</td>\n",
       "      <td>-0.052053</td>\n",
       "      <td>1.061826</td>\n",
       "      <td>0.050401</td>\n",
       "      <td>0.204900</td>\n",
       "      <td>-0.894922</td>\n",
       "      <td>-0.410992</td>\n",
       "      <td>-0.576296</td>\n",
       "      <td>-0.576296</td>\n",
       "      <td>-0.576296</td>\n",
       "      <td>1.722612</td>\n",
       "      <td>-0.456738</td>\n",
       "      <td>-0.149696</td>\n",
       "      <td>-0.734904</td>\n",
       "      <td>1.094895</td>\n",
       "    </tr>\n",
       "    <tr>\n",
       "      <th>2</th>\n",
       "      <td>-0.214997</td>\n",
       "      <td>1.548858</td>\n",
       "      <td>-0.371828</td>\n",
       "      <td>-0.529038</td>\n",
       "      <td>-0.052053</td>\n",
       "      <td>1.050634</td>\n",
       "      <td>-0.600182</td>\n",
       "      <td>0.349878</td>\n",
       "      <td>-0.931868</td>\n",
       "      <td>0.414079</td>\n",
       "      <td>-0.576296</td>\n",
       "      <td>-0.576296</td>\n",
       "      <td>-0.576296</td>\n",
       "      <td>1.722612</td>\n",
       "      <td>-0.456738</td>\n",
       "      <td>-0.149696</td>\n",
       "      <td>-0.734904</td>\n",
       "      <td>1.094895</td>\n",
       "    </tr>\n",
       "    <tr>\n",
       "      <th>3</th>\n",
       "      <td>-0.340655</td>\n",
       "      <td>0.875442</td>\n",
       "      <td>-0.079334</td>\n",
       "      <td>-0.529038</td>\n",
       "      <td>-0.052053</td>\n",
       "      <td>1.169676</td>\n",
       "      <td>-0.254127</td>\n",
       "      <td>-0.112673</td>\n",
       "      <td>-1.141233</td>\n",
       "      <td>-0.843651</td>\n",
       "      <td>-0.576296</td>\n",
       "      <td>-0.576296</td>\n",
       "      <td>-0.576296</td>\n",
       "      <td>1.722612</td>\n",
       "      <td>-0.456738</td>\n",
       "      <td>-0.149696</td>\n",
       "      <td>-0.734904</td>\n",
       "      <td>1.094895</td>\n",
       "    </tr>\n",
       "    <tr>\n",
       "      <th>4</th>\n",
       "      <td>-0.277826</td>\n",
       "      <td>1.801390</td>\n",
       "      <td>0.798148</td>\n",
       "      <td>0.093862</td>\n",
       "      <td>-0.052053</td>\n",
       "      <td>1.368080</td>\n",
       "      <td>-1.070816</td>\n",
       "      <td>-1.017064</td>\n",
       "      <td>-1.523017</td>\n",
       "      <td>-0.380806</td>\n",
       "      <td>-0.576296</td>\n",
       "      <td>-0.576296</td>\n",
       "      <td>-0.576296</td>\n",
       "      <td>1.722612</td>\n",
       "      <td>-0.456738</td>\n",
       "      <td>-0.149696</td>\n",
       "      <td>1.360721</td>\n",
       "      <td>-0.913330</td>\n",
       "    </tr>\n",
       "  </tbody>\n",
       "</table>\n",
       "</div>"
      ],
      "text/plain": [
       "       PM10        O3       NO2        CO       SO2      TEMP      WIND  \\\n",
       "0 -0.277826  2.558984 -0.566824  0.093862 -0.052053  1.035373  0.105769   \n",
       "1 -0.466314  2.474806 -0.664322  0.093862 -0.052053  1.061826  0.050401   \n",
       "2 -0.214997  1.548858 -0.371828 -0.529038 -0.052053  1.050634 -0.600182   \n",
       "3 -0.340655  0.875442 -0.079334 -0.529038 -0.052053  1.169676 -0.254127   \n",
       "4 -0.277826  1.801390  0.798148  0.093862 -0.052053  1.368080 -1.070816   \n",
       "\n",
       "   HUMIDITY  ATM_PRESS     CLOUD  Season_가을  Season_겨울  Season_봄  Season_여름  \\\n",
       "0  0.204900  -1.325967  0.216196  -0.576296  -0.576296 -0.576296   1.722612   \n",
       "1  0.204900  -0.894922 -0.410992  -0.576296  -0.576296 -0.576296   1.722612   \n",
       "2  0.349878  -0.931868  0.414079  -0.576296  -0.576296 -0.576296   1.722612   \n",
       "3 -0.112673  -1.141233 -0.843651  -0.576296  -0.576296 -0.576296   1.722612   \n",
       "4 -1.017064  -1.523017 -0.380806  -0.576296  -0.576296 -0.576296   1.722612   \n",
       "\n",
       "   WIND_DIR_4_E  WIND_DIR_4_N  WIND_DIR_4_S  WIND_DIR_4_W  \n",
       "0     -0.456738     -0.149696     -0.734904      1.094895  \n",
       "1     -0.456738     -0.149696     -0.734904      1.094895  \n",
       "2     -0.456738     -0.149696     -0.734904      1.094895  \n",
       "3     -0.456738     -0.149696     -0.734904      1.094895  \n",
       "4     -0.456738     -0.149696      1.360721     -0.913330  "
      ]
     },
     "execution_count": 57,
     "metadata": {},
     "output_type": "execute_result"
    }
   ],
   "source": [
    "#스탠다드 스케일러\n",
    "\n",
    "scaler = StandardScaler()\n",
    "df_scaled = pd.DataFrame(scaler.fit_transform(df), columns = df.columns)\n",
    "df_scaled.head()"
   ]
  },
  {
   "cell_type": "markdown",
   "metadata": {},
   "source": [
    "#### 설명변수와 독립변수"
   ]
  },
  {
   "cell_type": "code",
   "execution_count": 61,
   "metadata": {},
   "outputs": [],
   "source": [
    "# 종속변수와 독립변수 분리\n",
    "df_y = df[\"PM10\"]\n",
    "df_x = df.drop(columns = [\"PM10\"], inplace = False)\n",
    "df_scaled_y = df_scaled[\"PM10\"]\n",
    "df_scaled_x = df_scaled.drop(columns = [\"PM10\"], inplace = False)"
   ]
  },
  {
   "cell_type": "code",
   "execution_count": 64,
   "metadata": {},
   "outputs": [
    {
     "data": {
      "text/html": [
       "<div>\n",
       "<style scoped>\n",
       "    .dataframe tbody tr th:only-of-type {\n",
       "        vertical-align: middle;\n",
       "    }\n",
       "\n",
       "    .dataframe tbody tr th {\n",
       "        vertical-align: top;\n",
       "    }\n",
       "\n",
       "    .dataframe thead th {\n",
       "        text-align: right;\n",
       "    }\n",
       "</style>\n",
       "<table border=\"1\" class=\"dataframe\">\n",
       "  <thead>\n",
       "    <tr style=\"text-align: right;\">\n",
       "      <th></th>\n",
       "      <th>PM10</th>\n",
       "      <th>O3</th>\n",
       "      <th>NO2</th>\n",
       "      <th>CO</th>\n",
       "      <th>SO2</th>\n",
       "      <th>TEMP</th>\n",
       "      <th>WIND</th>\n",
       "      <th>HUMIDITY</th>\n",
       "      <th>ATM_PRESS</th>\n",
       "      <th>CLOUD</th>\n",
       "      <th>Season_가을</th>\n",
       "      <th>Season_겨울</th>\n",
       "      <th>Season_봄</th>\n",
       "      <th>Season_여름</th>\n",
       "      <th>WIND_DIR_4_E</th>\n",
       "      <th>WIND_DIR_4_N</th>\n",
       "      <th>WIND_DIR_4_S</th>\n",
       "      <th>WIND_DIR_4_W</th>\n",
       "    </tr>\n",
       "  </thead>\n",
       "  <tbody>\n",
       "    <tr>\n",
       "      <th>PM10</th>\n",
       "      <td>1.000000</td>\n",
       "      <td>-0.051763</td>\n",
       "      <td>0.395969</td>\n",
       "      <td>0.629420</td>\n",
       "      <td>0.428685</td>\n",
       "      <td>-0.309786</td>\n",
       "      <td>-0.100323</td>\n",
       "      <td>-0.149803</td>\n",
       "      <td>0.253023</td>\n",
       "      <td>-0.172230</td>\n",
       "      <td>-0.203082</td>\n",
       "      <td>0.258076</td>\n",
       "      <td>0.149849</td>\n",
       "      <td>-0.204098</td>\n",
       "      <td>-0.120972</td>\n",
       "      <td>-0.176791</td>\n",
       "      <td>0.085852</td>\n",
       "      <td>0.061519</td>\n",
       "    </tr>\n",
       "    <tr>\n",
       "      <th>O3</th>\n",
       "      <td>-0.051763</td>\n",
       "      <td>1.000000</td>\n",
       "      <td>-0.591658</td>\n",
       "      <td>-0.497763</td>\n",
       "      <td>-0.234127</td>\n",
       "      <td>0.516257</td>\n",
       "      <td>0.165216</td>\n",
       "      <td>-0.037699</td>\n",
       "      <td>-0.534372</td>\n",
       "      <td>-0.119307</td>\n",
       "      <td>-0.251937</td>\n",
       "      <td>-0.459308</td>\n",
       "      <td>0.241168</td>\n",
       "      <td>0.468370</td>\n",
       "      <td>-0.240934</td>\n",
       "      <td>-0.021737</td>\n",
       "      <td>-0.058866</td>\n",
       "      <td>0.245650</td>\n",
       "    </tr>\n",
       "    <tr>\n",
       "      <th>NO2</th>\n",
       "      <td>0.395969</td>\n",
       "      <td>-0.591658</td>\n",
       "      <td>1.000000</td>\n",
       "      <td>0.752197</td>\n",
       "      <td>0.563432</td>\n",
       "      <td>-0.237406</td>\n",
       "      <td>-0.536649</td>\n",
       "      <td>-0.065514</td>\n",
       "      <td>0.420292</td>\n",
       "      <td>0.016722</td>\n",
       "      <td>0.233984</td>\n",
       "      <td>0.263004</td>\n",
       "      <td>-0.245773</td>\n",
       "      <td>-0.250303</td>\n",
       "      <td>0.230244</td>\n",
       "      <td>-0.092149</td>\n",
       "      <td>0.213750</td>\n",
       "      <td>-0.352476</td>\n",
       "    </tr>\n",
       "    <tr>\n",
       "      <th>CO</th>\n",
       "      <td>0.629420</td>\n",
       "      <td>-0.497763</td>\n",
       "      <td>0.752197</td>\n",
       "      <td>1.000000</td>\n",
       "      <td>0.588514</td>\n",
       "      <td>-0.547358</td>\n",
       "      <td>-0.266187</td>\n",
       "      <td>-0.099831</td>\n",
       "      <td>0.518304</td>\n",
       "      <td>-0.083855</td>\n",
       "      <td>-0.005080</td>\n",
       "      <td>0.519575</td>\n",
       "      <td>-0.135257</td>\n",
       "      <td>-0.377862</td>\n",
       "      <td>0.173831</td>\n",
       "      <td>-0.149129</td>\n",
       "      <td>0.083285</td>\n",
       "      <td>-0.167885</td>\n",
       "    </tr>\n",
       "    <tr>\n",
       "      <th>SO2</th>\n",
       "      <td>0.428685</td>\n",
       "      <td>-0.234127</td>\n",
       "      <td>0.563432</td>\n",
       "      <td>0.588514</td>\n",
       "      <td>1.000000</td>\n",
       "      <td>-0.273629</td>\n",
       "      <td>-0.252864</td>\n",
       "      <td>-0.302278</td>\n",
       "      <td>0.333995</td>\n",
       "      <td>-0.191234</td>\n",
       "      <td>0.060243</td>\n",
       "      <td>0.250752</td>\n",
       "      <td>-0.150319</td>\n",
       "      <td>-0.160093</td>\n",
       "      <td>-0.000818</td>\n",
       "      <td>-0.126298</td>\n",
       "      <td>0.098101</td>\n",
       "      <td>-0.056253</td>\n",
       "    </tr>\n",
       "    <tr>\n",
       "      <th>TEMP</th>\n",
       "      <td>-0.309786</td>\n",
       "      <td>0.516257</td>\n",
       "      <td>-0.237406</td>\n",
       "      <td>-0.547358</td>\n",
       "      <td>-0.273629</td>\n",
       "      <td>1.000000</td>\n",
       "      <td>-0.216042</td>\n",
       "      <td>0.404147</td>\n",
       "      <td>-0.792079</td>\n",
       "      <td>0.341553</td>\n",
       "      <td>0.099910</td>\n",
       "      <td>-0.703718</td>\n",
       "      <td>-0.096468</td>\n",
       "      <td>0.697734</td>\n",
       "      <td>-0.028639</td>\n",
       "      <td>0.069584</td>\n",
       "      <td>0.099362</td>\n",
       "      <td>-0.093944</td>\n",
       "    </tr>\n",
       "    <tr>\n",
       "      <th>WIND</th>\n",
       "      <td>-0.100323</td>\n",
       "      <td>0.165216</td>\n",
       "      <td>-0.536649</td>\n",
       "      <td>-0.266187</td>\n",
       "      <td>-0.252864</td>\n",
       "      <td>-0.216042</td>\n",
       "      <td>1.000000</td>\n",
       "      <td>-0.084299</td>\n",
       "      <td>-0.053769</td>\n",
       "      <td>0.016841</td>\n",
       "      <td>-0.054408</td>\n",
       "      <td>-0.015574</td>\n",
       "      <td>0.320958</td>\n",
       "      <td>-0.250065</td>\n",
       "      <td>-0.036690</td>\n",
       "      <td>0.140161</td>\n",
       "      <td>-0.287850</td>\n",
       "      <td>0.262478</td>\n",
       "    </tr>\n",
       "    <tr>\n",
       "      <th>HUMIDITY</th>\n",
       "      <td>-0.149803</td>\n",
       "      <td>-0.037699</td>\n",
       "      <td>-0.065514</td>\n",
       "      <td>-0.099831</td>\n",
       "      <td>-0.302278</td>\n",
       "      <td>0.404147</td>\n",
       "      <td>-0.084299</td>\n",
       "      <td>1.000000</td>\n",
       "      <td>-0.510358</td>\n",
       "      <td>0.627970</td>\n",
       "      <td>0.036193</td>\n",
       "      <td>-0.128372</td>\n",
       "      <td>-0.235138</td>\n",
       "      <td>0.326129</td>\n",
       "      <td>0.017959</td>\n",
       "      <td>0.067619</td>\n",
       "      <td>0.087796</td>\n",
       "      <td>-0.117645</td>\n",
       "    </tr>\n",
       "    <tr>\n",
       "      <th>ATM_PRESS</th>\n",
       "      <td>0.253023</td>\n",
       "      <td>-0.534372</td>\n",
       "      <td>0.420292</td>\n",
       "      <td>0.518304</td>\n",
       "      <td>0.333995</td>\n",
       "      <td>-0.792079</td>\n",
       "      <td>-0.053769</td>\n",
       "      <td>-0.510358</td>\n",
       "      <td>1.000000</td>\n",
       "      <td>-0.429744</td>\n",
       "      <td>0.189011</td>\n",
       "      <td>0.570556</td>\n",
       "      <td>-0.084201</td>\n",
       "      <td>-0.672915</td>\n",
       "      <td>-0.014548</td>\n",
       "      <td>-0.009754</td>\n",
       "      <td>-0.073411</td>\n",
       "      <td>0.084259</td>\n",
       "    </tr>\n",
       "    <tr>\n",
       "      <th>CLOUD</th>\n",
       "      <td>-0.172230</td>\n",
       "      <td>-0.119307</td>\n",
       "      <td>0.016722</td>\n",
       "      <td>-0.083855</td>\n",
       "      <td>-0.191234</td>\n",
       "      <td>0.341553</td>\n",
       "      <td>0.016841</td>\n",
       "      <td>0.627970</td>\n",
       "      <td>-0.429744</td>\n",
       "      <td>1.000000</td>\n",
       "      <td>0.002929</td>\n",
       "      <td>-0.082712</td>\n",
       "      <td>-0.161174</td>\n",
       "      <td>0.240082</td>\n",
       "      <td>0.211301</td>\n",
       "      <td>0.070961</td>\n",
       "      <td>0.105235</td>\n",
       "      <td>-0.282071</td>\n",
       "    </tr>\n",
       "    <tr>\n",
       "      <th>Season_가을</th>\n",
       "      <td>-0.203082</td>\n",
       "      <td>-0.251937</td>\n",
       "      <td>0.233984</td>\n",
       "      <td>-0.005080</td>\n",
       "      <td>0.060243</td>\n",
       "      <td>0.099910</td>\n",
       "      <td>-0.054408</td>\n",
       "      <td>0.036193</td>\n",
       "      <td>0.189011</td>\n",
       "      <td>0.002929</td>\n",
       "      <td>1.000000</td>\n",
       "      <td>-0.332117</td>\n",
       "      <td>-0.332117</td>\n",
       "      <td>-0.334548</td>\n",
       "      <td>-0.078878</td>\n",
       "      <td>0.216503</td>\n",
       "      <td>-0.118279</td>\n",
       "      <td>0.109548</td>\n",
       "    </tr>\n",
       "    <tr>\n",
       "      <th>Season_겨울</th>\n",
       "      <td>0.258076</td>\n",
       "      <td>-0.459308</td>\n",
       "      <td>0.263004</td>\n",
       "      <td>0.519575</td>\n",
       "      <td>0.250752</td>\n",
       "      <td>-0.703718</td>\n",
       "      <td>-0.015574</td>\n",
       "      <td>-0.128372</td>\n",
       "      <td>0.570556</td>\n",
       "      <td>-0.082712</td>\n",
       "      <td>-0.332117</td>\n",
       "      <td>1.000000</td>\n",
       "      <td>-0.332117</td>\n",
       "      <td>-0.334548</td>\n",
       "      <td>0.155735</td>\n",
       "      <td>-0.043016</td>\n",
       "      <td>-0.065194</td>\n",
       "      <td>-0.043067</td>\n",
       "    </tr>\n",
       "    <tr>\n",
       "      <th>Season_봄</th>\n",
       "      <td>0.149849</td>\n",
       "      <td>0.241168</td>\n",
       "      <td>-0.245773</td>\n",
       "      <td>-0.135257</td>\n",
       "      <td>-0.150319</td>\n",
       "      <td>-0.096468</td>\n",
       "      <td>0.320958</td>\n",
       "      <td>-0.235138</td>\n",
       "      <td>-0.084201</td>\n",
       "      <td>-0.161174</td>\n",
       "      <td>-0.332117</td>\n",
       "      <td>-0.332117</td>\n",
       "      <td>1.000000</td>\n",
       "      <td>-0.334548</td>\n",
       "      <td>-0.145910</td>\n",
       "      <td>-0.086269</td>\n",
       "      <td>0.094064</td>\n",
       "      <td>0.045959</td>\n",
       "    </tr>\n",
       "    <tr>\n",
       "      <th>Season_여름</th>\n",
       "      <td>-0.204098</td>\n",
       "      <td>0.468370</td>\n",
       "      <td>-0.250303</td>\n",
       "      <td>-0.377862</td>\n",
       "      <td>-0.160093</td>\n",
       "      <td>0.697734</td>\n",
       "      <td>-0.250065</td>\n",
       "      <td>0.326129</td>\n",
       "      <td>-0.672915</td>\n",
       "      <td>0.240082</td>\n",
       "      <td>-0.334548</td>\n",
       "      <td>-0.334548</td>\n",
       "      <td>-0.334548</td>\n",
       "      <td>1.000000</td>\n",
       "      <td>0.068802</td>\n",
       "      <td>-0.086901</td>\n",
       "      <td>0.089085</td>\n",
       "      <td>-0.112032</td>\n",
       "    </tr>\n",
       "    <tr>\n",
       "      <th>WIND_DIR_4_E</th>\n",
       "      <td>-0.120972</td>\n",
       "      <td>-0.240934</td>\n",
       "      <td>0.230244</td>\n",
       "      <td>0.173831</td>\n",
       "      <td>-0.000818</td>\n",
       "      <td>-0.028639</td>\n",
       "      <td>-0.036690</td>\n",
       "      <td>0.017959</td>\n",
       "      <td>-0.014548</td>\n",
       "      <td>0.211301</td>\n",
       "      <td>-0.078878</td>\n",
       "      <td>0.155735</td>\n",
       "      <td>-0.145910</td>\n",
       "      <td>0.068802</td>\n",
       "      <td>1.000000</td>\n",
       "      <td>-0.068372</td>\n",
       "      <td>-0.335658</td>\n",
       "      <td>-0.417152</td>\n",
       "    </tr>\n",
       "    <tr>\n",
       "      <th>WIND_DIR_4_N</th>\n",
       "      <td>-0.176791</td>\n",
       "      <td>-0.021737</td>\n",
       "      <td>-0.092149</td>\n",
       "      <td>-0.149129</td>\n",
       "      <td>-0.126298</td>\n",
       "      <td>0.069584</td>\n",
       "      <td>0.140161</td>\n",
       "      <td>0.067619</td>\n",
       "      <td>-0.009754</td>\n",
       "      <td>0.070961</td>\n",
       "      <td>0.216503</td>\n",
       "      <td>-0.043016</td>\n",
       "      <td>-0.086269</td>\n",
       "      <td>-0.086901</td>\n",
       "      <td>-0.068372</td>\n",
       "      <td>1.000000</td>\n",
       "      <td>-0.110012</td>\n",
       "      <td>-0.136722</td>\n",
       "    </tr>\n",
       "    <tr>\n",
       "      <th>WIND_DIR_4_S</th>\n",
       "      <td>0.085852</td>\n",
       "      <td>-0.058866</td>\n",
       "      <td>0.213750</td>\n",
       "      <td>0.083285</td>\n",
       "      <td>0.098101</td>\n",
       "      <td>0.099362</td>\n",
       "      <td>-0.287850</td>\n",
       "      <td>0.087796</td>\n",
       "      <td>-0.073411</td>\n",
       "      <td>0.105235</td>\n",
       "      <td>-0.118279</td>\n",
       "      <td>-0.065194</td>\n",
       "      <td>0.094064</td>\n",
       "      <td>0.089085</td>\n",
       "      <td>-0.335658</td>\n",
       "      <td>-0.110012</td>\n",
       "      <td>1.000000</td>\n",
       "      <td>-0.671210</td>\n",
       "    </tr>\n",
       "    <tr>\n",
       "      <th>WIND_DIR_4_W</th>\n",
       "      <td>0.061519</td>\n",
       "      <td>0.245650</td>\n",
       "      <td>-0.352476</td>\n",
       "      <td>-0.167885</td>\n",
       "      <td>-0.056253</td>\n",
       "      <td>-0.093944</td>\n",
       "      <td>0.262478</td>\n",
       "      <td>-0.117645</td>\n",
       "      <td>0.084259</td>\n",
       "      <td>-0.282071</td>\n",
       "      <td>0.109548</td>\n",
       "      <td>-0.043067</td>\n",
       "      <td>0.045959</td>\n",
       "      <td>-0.112032</td>\n",
       "      <td>-0.417152</td>\n",
       "      <td>-0.136722</td>\n",
       "      <td>-0.671210</td>\n",
       "      <td>1.000000</td>\n",
       "    </tr>\n",
       "  </tbody>\n",
       "</table>\n",
       "</div>"
      ],
      "text/plain": [
       "                  PM10        O3       NO2        CO       SO2      TEMP  \\\n",
       "PM10          1.000000 -0.051763  0.395969  0.629420  0.428685 -0.309786   \n",
       "O3           -0.051763  1.000000 -0.591658 -0.497763 -0.234127  0.516257   \n",
       "NO2           0.395969 -0.591658  1.000000  0.752197  0.563432 -0.237406   \n",
       "CO            0.629420 -0.497763  0.752197  1.000000  0.588514 -0.547358   \n",
       "SO2           0.428685 -0.234127  0.563432  0.588514  1.000000 -0.273629   \n",
       "TEMP         -0.309786  0.516257 -0.237406 -0.547358 -0.273629  1.000000   \n",
       "WIND         -0.100323  0.165216 -0.536649 -0.266187 -0.252864 -0.216042   \n",
       "HUMIDITY     -0.149803 -0.037699 -0.065514 -0.099831 -0.302278  0.404147   \n",
       "ATM_PRESS     0.253023 -0.534372  0.420292  0.518304  0.333995 -0.792079   \n",
       "CLOUD        -0.172230 -0.119307  0.016722 -0.083855 -0.191234  0.341553   \n",
       "Season_가을    -0.203082 -0.251937  0.233984 -0.005080  0.060243  0.099910   \n",
       "Season_겨울     0.258076 -0.459308  0.263004  0.519575  0.250752 -0.703718   \n",
       "Season_봄      0.149849  0.241168 -0.245773 -0.135257 -0.150319 -0.096468   \n",
       "Season_여름    -0.204098  0.468370 -0.250303 -0.377862 -0.160093  0.697734   \n",
       "WIND_DIR_4_E -0.120972 -0.240934  0.230244  0.173831 -0.000818 -0.028639   \n",
       "WIND_DIR_4_N -0.176791 -0.021737 -0.092149 -0.149129 -0.126298  0.069584   \n",
       "WIND_DIR_4_S  0.085852 -0.058866  0.213750  0.083285  0.098101  0.099362   \n",
       "WIND_DIR_4_W  0.061519  0.245650 -0.352476 -0.167885 -0.056253 -0.093944   \n",
       "\n",
       "                  WIND  HUMIDITY  ATM_PRESS     CLOUD  Season_가을  Season_겨울  \\\n",
       "PM10         -0.100323 -0.149803   0.253023 -0.172230  -0.203082   0.258076   \n",
       "O3            0.165216 -0.037699  -0.534372 -0.119307  -0.251937  -0.459308   \n",
       "NO2          -0.536649 -0.065514   0.420292  0.016722   0.233984   0.263004   \n",
       "CO           -0.266187 -0.099831   0.518304 -0.083855  -0.005080   0.519575   \n",
       "SO2          -0.252864 -0.302278   0.333995 -0.191234   0.060243   0.250752   \n",
       "TEMP         -0.216042  0.404147  -0.792079  0.341553   0.099910  -0.703718   \n",
       "WIND          1.000000 -0.084299  -0.053769  0.016841  -0.054408  -0.015574   \n",
       "HUMIDITY     -0.084299  1.000000  -0.510358  0.627970   0.036193  -0.128372   \n",
       "ATM_PRESS    -0.053769 -0.510358   1.000000 -0.429744   0.189011   0.570556   \n",
       "CLOUD         0.016841  0.627970  -0.429744  1.000000   0.002929  -0.082712   \n",
       "Season_가을    -0.054408  0.036193   0.189011  0.002929   1.000000  -0.332117   \n",
       "Season_겨울    -0.015574 -0.128372   0.570556 -0.082712  -0.332117   1.000000   \n",
       "Season_봄      0.320958 -0.235138  -0.084201 -0.161174  -0.332117  -0.332117   \n",
       "Season_여름    -0.250065  0.326129  -0.672915  0.240082  -0.334548  -0.334548   \n",
       "WIND_DIR_4_E -0.036690  0.017959  -0.014548  0.211301  -0.078878   0.155735   \n",
       "WIND_DIR_4_N  0.140161  0.067619  -0.009754  0.070961   0.216503  -0.043016   \n",
       "WIND_DIR_4_S -0.287850  0.087796  -0.073411  0.105235  -0.118279  -0.065194   \n",
       "WIND_DIR_4_W  0.262478 -0.117645   0.084259 -0.282071   0.109548  -0.043067   \n",
       "\n",
       "              Season_봄  Season_여름  WIND_DIR_4_E  WIND_DIR_4_N  WIND_DIR_4_S  \\\n",
       "PM10          0.149849  -0.204098     -0.120972     -0.176791      0.085852   \n",
       "O3            0.241168   0.468370     -0.240934     -0.021737     -0.058866   \n",
       "NO2          -0.245773  -0.250303      0.230244     -0.092149      0.213750   \n",
       "CO           -0.135257  -0.377862      0.173831     -0.149129      0.083285   \n",
       "SO2          -0.150319  -0.160093     -0.000818     -0.126298      0.098101   \n",
       "TEMP         -0.096468   0.697734     -0.028639      0.069584      0.099362   \n",
       "WIND          0.320958  -0.250065     -0.036690      0.140161     -0.287850   \n",
       "HUMIDITY     -0.235138   0.326129      0.017959      0.067619      0.087796   \n",
       "ATM_PRESS    -0.084201  -0.672915     -0.014548     -0.009754     -0.073411   \n",
       "CLOUD        -0.161174   0.240082      0.211301      0.070961      0.105235   \n",
       "Season_가을    -0.332117  -0.334548     -0.078878      0.216503     -0.118279   \n",
       "Season_겨울    -0.332117  -0.334548      0.155735     -0.043016     -0.065194   \n",
       "Season_봄      1.000000  -0.334548     -0.145910     -0.086269      0.094064   \n",
       "Season_여름    -0.334548   1.000000      0.068802     -0.086901      0.089085   \n",
       "WIND_DIR_4_E -0.145910   0.068802      1.000000     -0.068372     -0.335658   \n",
       "WIND_DIR_4_N -0.086269  -0.086901     -0.068372      1.000000     -0.110012   \n",
       "WIND_DIR_4_S  0.094064   0.089085     -0.335658     -0.110012      1.000000   \n",
       "WIND_DIR_4_W  0.045959  -0.112032     -0.417152     -0.136722     -0.671210   \n",
       "\n",
       "              WIND_DIR_4_W  \n",
       "PM10              0.061519  \n",
       "O3                0.245650  \n",
       "NO2              -0.352476  \n",
       "CO               -0.167885  \n",
       "SO2              -0.056253  \n",
       "TEMP             -0.093944  \n",
       "WIND              0.262478  \n",
       "HUMIDITY         -0.117645  \n",
       "ATM_PRESS         0.084259  \n",
       "CLOUD            -0.282071  \n",
       "Season_가을         0.109548  \n",
       "Season_겨울        -0.043067  \n",
       "Season_봄          0.045959  \n",
       "Season_여름        -0.112032  \n",
       "WIND_DIR_4_E     -0.417152  \n",
       "WIND_DIR_4_N     -0.136722  \n",
       "WIND_DIR_4_S     -0.671210  \n",
       "WIND_DIR_4_W      1.000000  "
      ]
     },
     "execution_count": 64,
     "metadata": {},
     "output_type": "execute_result"
    }
   ],
   "source": [
    "# 변수 간의 경향성 파악 및 다중공선성 확인\n",
    "# 다중 공선성이 있는 변수들이 보임 (EX. NO2, CO)\n",
    "df_scaled.corr()"
   ]
  },
  {
   "cell_type": "markdown",
   "metadata": {},
   "source": [
    "---\n",
    "\n",
    "## 6-1. 다중회귀분석 모델"
   ]
  },
  {
   "cell_type": "code",
   "execution_count": 65,
   "metadata": {},
   "outputs": [],
   "source": [
    "from statsmodels.stats.outliers_influence import variance_inflation_factor\n",
    "from sklearn.model_selection import train_test_split\n",
    "from sklearn.linear_model import LinearRegression\n",
    "from sklearn.preprocessing import StandardScaler\n",
    "\n",
    "from sklearn.feature_selection import RFE\n",
    "from statsmodels.tools.eval_measures import rmse\n",
    "from sklearn.metrics import r2_score"
   ]
  },
  {
   "cell_type": "code",
   "execution_count": 66,
   "metadata": {},
   "outputs": [
    {
     "name": "stdout",
     "output_type": "stream",
     "text": [
      "train data size : (255, 18)\n",
      "test data size : (110, 18)\n"
     ]
    }
   ],
   "source": [
    "df_scaled_train, df_scaled_test = train_test_split(df_scaled, test_size = 0.3, random_state = 1234)\n",
    "print(\"train data size : {}\".format(df_scaled_train.shape))\n",
    "print(\"test data size : {}\".format(df_scaled_test.shape))"
   ]
  },
  {
   "cell_type": "markdown",
   "metadata": {},
   "source": [
    "#### 회귀모델 설정"
   ]
  },
  {
   "cell_type": "code",
   "execution_count": 67,
   "metadata": {
    "scrolled": false
   },
   "outputs": [
    {
     "name": "stdout",
     "output_type": "stream",
     "text": [
      "                            OLS Regression Results                            \n",
      "==============================================================================\n",
      "Dep. Variable:                   PM10   R-squared:                       0.571\n",
      "Model:                            OLS   Adj. R-squared:                  0.554\n",
      "Method:                 Least Squares   F-statistic:                     32.50\n",
      "Date:                Mon, 15 Aug 2022   Prob (F-statistic):           1.50e-39\n",
      "Time:                        23:08:49   Log-Likelihood:                -252.08\n",
      "No. Observations:                 255   AIC:                             526.2\n",
      "Df Residuals:                     244   BIC:                             565.1\n",
      "Df Model:                          10                                         \n",
      "Covariance Type:            nonrobust                                         \n",
      "================================================================================\n",
      "                   coef    std err          t      P>|t|      [0.025      0.975]\n",
      "--------------------------------------------------------------------------------\n",
      "Intercept       -0.0150      0.042     -0.358      0.721      -0.097       0.067\n",
      "O3               0.3225      0.066      4.913      0.000       0.193       0.452\n",
      "NO2              0.2152      0.096      2.251      0.025       0.027       0.404\n",
      "CO               0.7328      0.086      8.476      0.000       0.562       0.903\n",
      "TEMP             0.0250      0.068      0.370      0.712      -0.108       0.158\n",
      "WIND             0.1234      0.059      2.102      0.037       0.008       0.239\n",
      "Season_가을       -0.1141      0.055     -2.067      0.040      -0.223      -0.005\n",
      "Season_봄         0.1101      0.048      2.301      0.022       0.016       0.204\n",
      "WIND_DIR_4_E    -0.0816      0.119     -0.684      0.495      -0.316       0.153\n",
      "WIND_DIR_4_S     0.1512      0.146      1.038      0.300      -0.136       0.438\n",
      "WIND_DIR_4_W     0.2775      0.147      1.883      0.061      -0.013       0.568\n",
      "==============================================================================\n",
      "Omnibus:                      105.554   Durbin-Watson:                   2.032\n",
      "Prob(Omnibus):                  0.000   Jarque-Bera (JB):              489.882\n",
      "Skew:                           1.641   Prob(JB):                    4.20e-107\n",
      "Kurtosis:                       8.945   Cond. No.                         9.86\n",
      "==============================================================================\n",
      "\n",
      "Notes:\n",
      "[1] Standard Errors assume that the covariance matrix of the errors is correctly specified.\n"
     ]
    }
   ],
   "source": [
    "reg_model = smf.ols(formula = \"PM10 ~ O3 + NO2 + CO + TEMP + WIND + Season_가을 + Season_봄 + WIND_DIR_4_E  + WIND_DIR_4_S + WIND_DIR_4_W\", data = df_scaled_train)\n",
    "\n",
    "reg_result = reg_model.fit()\n",
    "\n",
    "print(reg_result.summary())"
   ]
  },
  {
   "cell_type": "markdown",
   "metadata": {},
   "source": [
    "- 분산분석 결과 p값이 유의수준 0.05보다 작고, 더빈왓슨 값이 2에 가까운 값으로 독립성을 보인다고도 할 수 있을 것 같다. 몇몇 변수의 p값이 0.05보다 작으므로 유의할 수도 있다고 판단, 추가로 변수간의 다중공선성 및 잔차의 기본전제를 만족하는지 확인을 해봐야할 것 같다. "
   ]
  },
  {
   "cell_type": "markdown",
   "metadata": {},
   "source": [
    "#### 잔차의 기본전제 확인"
   ]
  },
  {
   "cell_type": "code",
   "execution_count": 68,
   "metadata": {
    "scrolled": false
   },
   "outputs": [
    {
     "data": {
      "text/plain": [
       "<matplotlib.lines.Line2D at 0x1674d6f49a0>"
      ]
     },
     "execution_count": 68,
     "metadata": {},
     "output_type": "execute_result"
    },
    {
     "data": {
      "image/png": "[encoded data removed]",
      "text/plain": [
       "<Figure size 432x288 with 1 Axes>"
      ]
     },
     "metadata": {
      "needs_background": "light"
     },
     "output_type": "display_data"
    }
   ],
   "source": [
    "#등분산성 검정\n",
    "\n",
    "plt.scatter(reg_result.fittedvalues, reg_result.resid)\n",
    "plt.xlabel(\"fitted value\"); plt.ylabel(\"residual\")\n",
    "plt.axhline(y=0, linestyle = \"--\")"
   ]
  },
  {
   "cell_type": "markdown",
   "metadata": {},
   "source": [
    "- 잔차가 y=0을 기준으로 위쪽으로 더 튀어있는 값들이 보인다. 따라서 등분산되어 있지 않다는 것을 그래프로 확인 할 수 있다. "
   ]
  },
  {
   "cell_type": "code",
   "execution_count": 69,
   "metadata": {
    "scrolled": false
   },
   "outputs": [
    {
     "data": {
      "image/png": "[encoded data removed]",
      "text/plain": [
       "<Figure size 432x288 with 1 Axes>"
      ]
     },
     "execution_count": 69,
     "metadata": {},
     "output_type": "execute_result"
    },
    {
     "data": {
      "image/png": "[encoded data removed]",
      "text/plain": [
       "<Figure size 432x288 with 1 Axes>"
      ]
     },
     "metadata": {
      "needs_background": "light"
     },
     "output_type": "display_data"
    }
   ],
   "source": [
    "# 정규성 검정 \n",
    "qqplot(reg_result.resid, line = 'q')"
   ]
  },
  {
   "cell_type": "markdown",
   "metadata": {},
   "source": [
    "- 정규분포 직선을 중심으로, 위 쪽으로 많이 튀어있는 값들이 있기에 정규분포를 따른다고 할 수 없다. "
   ]
  },
  {
   "cell_type": "code",
   "execution_count": 70,
   "metadata": {},
   "outputs": [
    {
     "data": {
      "text/plain": [
       "<matplotlib.legend.Legend at 0x1674d848280>"
      ]
     },
     "execution_count": 70,
     "metadata": {},
     "output_type": "execute_result"
    },
    {
     "data": {
      "image/png": "[encoded data removed]",
      "text/plain": [
       "<Figure size 432x288 with 1 Axes>"
      ]
     },
     "metadata": {
      "needs_background": "light"
     },
     "output_type": "display_data"
    }
   ],
   "source": [
    "# 독립성 검정\n",
    "\n",
    "plt.scatter(df_scaled_train.index, reg_result.resid)\n",
    "plt.xlabel(\"Data\"); plt.ylabel(\"Residual\")\n",
    "plt.axhline(y=0, linestyle = \"-\", label = 'CL')\n",
    "plt.axhline(y=3*np.std(reg_result.resid), linestyle = \"--\", label = 'UCL')\n",
    "plt.axhline(y=-3*np.std(reg_result.resid), linestyle = \"dashed\", color = 'red',label = 'LCL')\n",
    "plt.legend()\n"
   ]
  },
  {
   "cell_type": "markdown",
   "metadata": {},
   "source": [
    "- 독립성 역시 상한선을 넘어서 까지 데이터가 튀어있는 모습을 보여, 만족하지 않는다고 할 수 있다. "
   ]
  },
  {
   "cell_type": "markdown",
   "metadata": {},
   "source": [
    "### 결론\n",
    "\n",
    "- 다중선형회귀분석은 잔차의 기본 전제를 만족하지 못하기 때문에 유의미한 모델이라고 할 수 없다. 따라서 다른 모델을 사용하는 것으로 한다. "
   ]
  },
  {
   "cell_type": "markdown",
   "metadata": {},
   "source": [
    "---\n",
    "\n",
    "## 6-2. 의사결정나무 모델"
   ]
  },
  {
   "cell_type": "code",
   "execution_count": 71,
   "metadata": {},
   "outputs": [
    {
     "name": "stdout",
     "output_type": "stream",
     "text": [
      "train data X size : (255, 17)\n",
      "train data Y size : (255,)\n",
      "test data X size : (110, 17)\n",
      "test data Y size : (110,)\n"
     ]
    }
   ],
   "source": [
    "# 데이터 분할\n",
    "\n",
    "df_train_x, df_test_x, df_train_y, df_test_y = train_test_split(df_x, df_y, test_size = 0.3, random_state = 1234)\n",
    "\n",
    "print(\"train data X size : {}\".format(df_train_x.shape))\n",
    "print(\"train data Y size : {}\".format(df_train_y.shape))\n",
    "print(\"test data X size : {}\".format(df_test_x.shape))\n",
    "print(\"test data Y size : {}\".format(df_test_y.shape))"
   ]
  },
  {
   "cell_type": "markdown",
   "metadata": {},
   "source": [
    "#### 기본 모델 만들기"
   ]
  },
  {
   "cell_type": "code",
   "execution_count": 72,
   "metadata": {},
   "outputs": [
    {
     "name": "stdout",
     "output_type": "stream",
     "text": [
      "Score on training set: 1.000\n",
      "Score on test set: 0.059\n"
     ]
    }
   ],
   "source": [
    "# 기본 모델 만들기\n",
    "\n",
    "tree_uncustomized = DecisionTreeRegressor(random_state = 1234)\n",
    "tree_uncustomized.fit(df_train_x, df_train_y)\n",
    "print(\"Score on training set: {:.3f}\".format(tree_uncustomized.score(df_train_x, df_train_y)))\n",
    "print(\"Score on test set: {:.3f}\".format(tree_uncustomized.score(df_test_x, df_test_y)))"
   ]
  },
  {
   "cell_type": "markdown",
   "metadata": {},
   "source": [
    "- train data에 과적합, test데이터에 너무 낮은 성능을 보인다. 따라서 하이퍼 파라미터의 조정이 필수적이라고 할 수 있다. "
   ]
  },
  {
   "cell_type": "markdown",
   "metadata": {},
   "source": [
    "#### 리프노드 수 조정"
   ]
  },
  {
   "cell_type": "code",
   "execution_count": 74,
   "metadata": {
    "scrolled": false
   },
   "outputs": [
    {
     "data": {
      "text/html": [
       "<div>\n",
       "<style scoped>\n",
       "    .dataframe tbody tr th:only-of-type {\n",
       "        vertical-align: middle;\n",
       "    }\n",
       "\n",
       "    .dataframe tbody tr th {\n",
       "        vertical-align: top;\n",
       "    }\n",
       "\n",
       "    .dataframe thead th {\n",
       "        text-align: right;\n",
       "    }\n",
       "</style>\n",
       "<table border=\"1\" class=\"dataframe\">\n",
       "  <thead>\n",
       "    <tr style=\"text-align: right;\">\n",
       "      <th></th>\n",
       "      <th>MinSampleLeaf</th>\n",
       "      <th>TrainScore</th>\n",
       "      <th>TestScore</th>\n",
       "    </tr>\n",
       "  </thead>\n",
       "  <tbody>\n",
       "    <tr>\n",
       "      <th>0</th>\n",
       "      <td>1</td>\n",
       "      <td>1.000</td>\n",
       "      <td>0.059</td>\n",
       "    </tr>\n",
       "    <tr>\n",
       "      <th>1</th>\n",
       "      <td>2</td>\n",
       "      <td>0.940</td>\n",
       "      <td>0.194</td>\n",
       "    </tr>\n",
       "    <tr>\n",
       "      <th>2</th>\n",
       "      <td>3</td>\n",
       "      <td>0.859</td>\n",
       "      <td>0.434</td>\n",
       "    </tr>\n",
       "    <tr>\n",
       "      <th>3</th>\n",
       "      <td>4</td>\n",
       "      <td>0.807</td>\n",
       "      <td>0.385</td>\n",
       "    </tr>\n",
       "    <tr>\n",
       "      <th>4</th>\n",
       "      <td>5</td>\n",
       "      <td>0.755</td>\n",
       "      <td>0.431</td>\n",
       "    </tr>\n",
       "    <tr>\n",
       "      <th>5</th>\n",
       "      <td>6</td>\n",
       "      <td>0.732</td>\n",
       "      <td>0.391</td>\n",
       "    </tr>\n",
       "    <tr>\n",
       "      <th>6</th>\n",
       "      <td>7</td>\n",
       "      <td>0.704</td>\n",
       "      <td>0.405</td>\n",
       "    </tr>\n",
       "    <tr>\n",
       "      <th>7</th>\n",
       "      <td>8</td>\n",
       "      <td>0.675</td>\n",
       "      <td>0.375</td>\n",
       "    </tr>\n",
       "    <tr>\n",
       "      <th>8</th>\n",
       "      <td>9</td>\n",
       "      <td>0.656</td>\n",
       "      <td>0.389</td>\n",
       "    </tr>\n",
       "    <tr>\n",
       "      <th>9</th>\n",
       "      <td>10</td>\n",
       "      <td>0.640</td>\n",
       "      <td>0.407</td>\n",
       "    </tr>\n",
       "    <tr>\n",
       "      <th>10</th>\n",
       "      <td>11</td>\n",
       "      <td>0.632</td>\n",
       "      <td>0.427</td>\n",
       "    </tr>\n",
       "    <tr>\n",
       "      <th>11</th>\n",
       "      <td>12</td>\n",
       "      <td>0.624</td>\n",
       "      <td>0.449</td>\n",
       "    </tr>\n",
       "    <tr>\n",
       "      <th>12</th>\n",
       "      <td>13</td>\n",
       "      <td>0.608</td>\n",
       "      <td>0.480</td>\n",
       "    </tr>\n",
       "    <tr>\n",
       "      <th>13</th>\n",
       "      <td>14</td>\n",
       "      <td>0.595</td>\n",
       "      <td>0.467</td>\n",
       "    </tr>\n",
       "    <tr>\n",
       "      <th>14</th>\n",
       "      <td>15</td>\n",
       "      <td>0.536</td>\n",
       "      <td>0.403</td>\n",
       "    </tr>\n",
       "    <tr>\n",
       "      <th>15</th>\n",
       "      <td>16</td>\n",
       "      <td>0.523</td>\n",
       "      <td>0.315</td>\n",
       "    </tr>\n",
       "    <tr>\n",
       "      <th>16</th>\n",
       "      <td>17</td>\n",
       "      <td>0.518</td>\n",
       "      <td>0.336</td>\n",
       "    </tr>\n",
       "    <tr>\n",
       "      <th>17</th>\n",
       "      <td>18</td>\n",
       "      <td>0.504</td>\n",
       "      <td>0.336</td>\n",
       "    </tr>\n",
       "    <tr>\n",
       "      <th>18</th>\n",
       "      <td>19</td>\n",
       "      <td>0.503</td>\n",
       "      <td>0.307</td>\n",
       "    </tr>\n",
       "  </tbody>\n",
       "</table>\n",
       "</div>"
      ],
      "text/plain": [
       "    MinSampleLeaf  TrainScore  TestScore\n",
       "0               1       1.000      0.059\n",
       "1               2       0.940      0.194\n",
       "2               3       0.859      0.434\n",
       "3               4       0.807      0.385\n",
       "4               5       0.755      0.431\n",
       "5               6       0.732      0.391\n",
       "6               7       0.704      0.405\n",
       "7               8       0.675      0.375\n",
       "8               9       0.656      0.389\n",
       "9              10       0.640      0.407\n",
       "10             11       0.632      0.427\n",
       "11             12       0.624      0.449\n",
       "12             13       0.608      0.480\n",
       "13             14       0.595      0.467\n",
       "14             15       0.536      0.403\n",
       "15             16       0.523      0.315\n",
       "16             17       0.518      0.336\n",
       "17             18       0.504      0.336\n",
       "18             19       0.503      0.307"
      ]
     },
     "execution_count": 74,
     "metadata": {},
     "output_type": "execute_result"
    }
   ],
   "source": [
    "train_score = []; test_score = []\n",
    "para_leaf = [n_leaf * 1 for n_leaf in range(1,20)]\n",
    "for v_min_samples_leaf in para_leaf:\n",
    "    tree = DecisionTreeRegressor(random_state=1234, min_samples_leaf=v_min_samples_leaf)\n",
    "    tree.fit(df_train_x, df_train_y)\n",
    "    train_score.append(tree.score(df_train_x, df_train_y))\n",
    "    test_score.append(tree.score(df_test_x, df_test_y))\n",
    "    \n",
    "df_score_leaf = pd.DataFrame()\n",
    "df_score_leaf[\"MinSampleLeaf\"] = para_leaf\n",
    "df_score_leaf[\"TrainScore\"] = train_score\n",
    "df_score_leaf[\"TestScore\"] = test_score\n",
    "df_score_leaf.round(3)"
   ]
  },
  {
   "cell_type": "code",
   "execution_count": 75,
   "metadata": {
    "scrolled": true
   },
   "outputs": [
    {
     "data": {
      "text/plain": [
       "<matplotlib.legend.Legend at 0x1674d8ec610>"
      ]
     },
     "execution_count": 75,
     "metadata": {},
     "output_type": "execute_result"
    },
    {
     "data": {
      "image/png": "[encoded data removed]",
      "text/plain": [
       "<Figure size 432x288 with 1 Axes>"
      ]
     },
     "metadata": {
      "needs_background": "light"
     },
     "output_type": "display_data"
    }
   ],
   "source": [
    "plt.plot(para_leaf, train_score, linestyle = \"-\", label = \"Train Score\")\n",
    "plt.plot(para_leaf, test_score, linestyle = \"--\", label = \"Test Score\")\n",
    "plt.legend()"
   ]
  },
  {
   "cell_type": "markdown",
   "metadata": {},
   "source": [
    "- 과적합방지 및 train과 test간의 간격이 가장 최소가 되는 14가 최적의 리프노드수라고 판단."
   ]
  },
  {
   "cell_type": "markdown",
   "metadata": {},
   "source": [
    "#### 스플릿노드 수 조정"
   ]
  },
  {
   "cell_type": "code",
   "execution_count": 76,
   "metadata": {},
   "outputs": [
    {
     "data": {
      "text/html": [
       "<div>\n",
       "<style scoped>\n",
       "    .dataframe tbody tr th:only-of-type {\n",
       "        vertical-align: middle;\n",
       "    }\n",
       "\n",
       "    .dataframe tbody tr th {\n",
       "        vertical-align: top;\n",
       "    }\n",
       "\n",
       "    .dataframe thead th {\n",
       "        text-align: right;\n",
       "    }\n",
       "</style>\n",
       "<table border=\"1\" class=\"dataframe\">\n",
       "  <thead>\n",
       "    <tr style=\"text-align: right;\">\n",
       "      <th></th>\n",
       "      <th>MinSampleSplit</th>\n",
       "      <th>TrainScore</th>\n",
       "      <th>TestScore</th>\n",
       "    </tr>\n",
       "  </thead>\n",
       "  <tbody>\n",
       "    <tr>\n",
       "      <th>0</th>\n",
       "      <td>4</td>\n",
       "      <td>0.595</td>\n",
       "      <td>0.467</td>\n",
       "    </tr>\n",
       "    <tr>\n",
       "      <th>1</th>\n",
       "      <td>6</td>\n",
       "      <td>0.595</td>\n",
       "      <td>0.467</td>\n",
       "    </tr>\n",
       "    <tr>\n",
       "      <th>2</th>\n",
       "      <td>8</td>\n",
       "      <td>0.595</td>\n",
       "      <td>0.467</td>\n",
       "    </tr>\n",
       "    <tr>\n",
       "      <th>3</th>\n",
       "      <td>10</td>\n",
       "      <td>0.595</td>\n",
       "      <td>0.467</td>\n",
       "    </tr>\n",
       "    <tr>\n",
       "      <th>4</th>\n",
       "      <td>12</td>\n",
       "      <td>0.595</td>\n",
       "      <td>0.467</td>\n",
       "    </tr>\n",
       "    <tr>\n",
       "      <th>5</th>\n",
       "      <td>14</td>\n",
       "      <td>0.595</td>\n",
       "      <td>0.467</td>\n",
       "    </tr>\n",
       "    <tr>\n",
       "      <th>6</th>\n",
       "      <td>16</td>\n",
       "      <td>0.595</td>\n",
       "      <td>0.467</td>\n",
       "    </tr>\n",
       "    <tr>\n",
       "      <th>7</th>\n",
       "      <td>18</td>\n",
       "      <td>0.595</td>\n",
       "      <td>0.467</td>\n",
       "    </tr>\n",
       "    <tr>\n",
       "      <th>8</th>\n",
       "      <td>20</td>\n",
       "      <td>0.595</td>\n",
       "      <td>0.467</td>\n",
       "    </tr>\n",
       "    <tr>\n",
       "      <th>9</th>\n",
       "      <td>22</td>\n",
       "      <td>0.595</td>\n",
       "      <td>0.467</td>\n",
       "    </tr>\n",
       "    <tr>\n",
       "      <th>10</th>\n",
       "      <td>24</td>\n",
       "      <td>0.595</td>\n",
       "      <td>0.467</td>\n",
       "    </tr>\n",
       "    <tr>\n",
       "      <th>11</th>\n",
       "      <td>26</td>\n",
       "      <td>0.595</td>\n",
       "      <td>0.467</td>\n",
       "    </tr>\n",
       "    <tr>\n",
       "      <th>12</th>\n",
       "      <td>28</td>\n",
       "      <td>0.595</td>\n",
       "      <td>0.467</td>\n",
       "    </tr>\n",
       "    <tr>\n",
       "      <th>13</th>\n",
       "      <td>30</td>\n",
       "      <td>0.562</td>\n",
       "      <td>0.450</td>\n",
       "    </tr>\n",
       "    <tr>\n",
       "      <th>14</th>\n",
       "      <td>32</td>\n",
       "      <td>0.549</td>\n",
       "      <td>0.425</td>\n",
       "    </tr>\n",
       "    <tr>\n",
       "      <th>15</th>\n",
       "      <td>34</td>\n",
       "      <td>0.549</td>\n",
       "      <td>0.425</td>\n",
       "    </tr>\n",
       "    <tr>\n",
       "      <th>16</th>\n",
       "      <td>36</td>\n",
       "      <td>0.542</td>\n",
       "      <td>0.419</td>\n",
       "    </tr>\n",
       "    <tr>\n",
       "      <th>17</th>\n",
       "      <td>38</td>\n",
       "      <td>0.542</td>\n",
       "      <td>0.419</td>\n",
       "    </tr>\n",
       "  </tbody>\n",
       "</table>\n",
       "</div>"
      ],
      "text/plain": [
       "    MinSampleSplit  TrainScore  TestScore\n",
       "0                4       0.595      0.467\n",
       "1                6       0.595      0.467\n",
       "2                8       0.595      0.467\n",
       "3               10       0.595      0.467\n",
       "4               12       0.595      0.467\n",
       "5               14       0.595      0.467\n",
       "6               16       0.595      0.467\n",
       "7               18       0.595      0.467\n",
       "8               20       0.595      0.467\n",
       "9               22       0.595      0.467\n",
       "10              24       0.595      0.467\n",
       "11              26       0.595      0.467\n",
       "12              28       0.595      0.467\n",
       "13              30       0.562      0.450\n",
       "14              32       0.549      0.425\n",
       "15              34       0.549      0.425\n",
       "16              36       0.542      0.419\n",
       "17              38       0.542      0.419"
      ]
     },
     "execution_count": 76,
     "metadata": {},
     "output_type": "execute_result"
    }
   ],
   "source": [
    "train_score = []; test_score = []\n",
    "para_split = [n_split * 2 for n_split in range(2,20)]\n",
    "for v_min_samples_split in para_split:\n",
    "    tree = DecisionTreeRegressor(random_state=1234, min_samples_leaf=14, min_samples_split=v_min_samples_split)\n",
    "    tree.fit(df_train_x, df_train_y)\n",
    "    train_score.append(tree.score(df_train_x, df_train_y))\n",
    "    test_score.append(tree.score(df_test_x, df_test_y))\n",
    "    \n",
    "df_score_split = pd.DataFrame()\n",
    "df_score_split[\"MinSampleSplit\"] = para_split\n",
    "df_score_split[\"TrainScore\"] = train_score\n",
    "df_score_split[\"TestScore\"] = test_score\n",
    "df_score_split.round(3)"
   ]
  },
  {
   "cell_type": "code",
   "execution_count": 77,
   "metadata": {},
   "outputs": [
    {
     "data": {
      "text/plain": [
       "<matplotlib.legend.Legend at 0x1674d944e20>"
      ]
     },
     "execution_count": 77,
     "metadata": {},
     "output_type": "execute_result"
    },
    {
     "data": {
      "image/png": "[encoded data removed]",
      "text/plain": [
       "<Figure size 432x288 with 1 Axes>"
      ]
     },
     "metadata": {
      "needs_background": "light"
     },
     "output_type": "display_data"
    }
   ],
   "source": [
    "plt.plot(para_split, train_score, linestyle = \"-\", label = \"Train Score\")\n",
    "plt.plot(para_split, test_score, linestyle = \"--\", label = \"Test Score\")\n",
    "plt.legend()"
   ]
  },
  {
   "cell_type": "markdown",
   "metadata": {},
   "source": [
    "#### 최대 깊이 조절"
   ]
  },
  {
   "cell_type": "code",
   "execution_count": 78,
   "metadata": {},
   "outputs": [
    {
     "data": {
      "text/html": [
       "<div>\n",
       "<style scoped>\n",
       "    .dataframe tbody tr th:only-of-type {\n",
       "        vertical-align: middle;\n",
       "    }\n",
       "\n",
       "    .dataframe tbody tr th {\n",
       "        vertical-align: top;\n",
       "    }\n",
       "\n",
       "    .dataframe thead th {\n",
       "        text-align: right;\n",
       "    }\n",
       "</style>\n",
       "<table border=\"1\" class=\"dataframe\">\n",
       "  <thead>\n",
       "    <tr style=\"text-align: right;\">\n",
       "      <th></th>\n",
       "      <th>Depth</th>\n",
       "      <th>TrainScore</th>\n",
       "      <th>TestScore</th>\n",
       "    </tr>\n",
       "  </thead>\n",
       "  <tbody>\n",
       "    <tr>\n",
       "      <th>0</th>\n",
       "      <td>1</td>\n",
       "      <td>0.257</td>\n",
       "      <td>0.221</td>\n",
       "    </tr>\n",
       "    <tr>\n",
       "      <th>1</th>\n",
       "      <td>2</td>\n",
       "      <td>0.355</td>\n",
       "      <td>0.311</td>\n",
       "    </tr>\n",
       "    <tr>\n",
       "      <th>2</th>\n",
       "      <td>3</td>\n",
       "      <td>0.469</td>\n",
       "      <td>0.376</td>\n",
       "    </tr>\n",
       "    <tr>\n",
       "      <th>3</th>\n",
       "      <td>4</td>\n",
       "      <td>0.543</td>\n",
       "      <td>0.449</td>\n",
       "    </tr>\n",
       "    <tr>\n",
       "      <th>4</th>\n",
       "      <td>5</td>\n",
       "      <td>0.595</td>\n",
       "      <td>0.467</td>\n",
       "    </tr>\n",
       "    <tr>\n",
       "      <th>5</th>\n",
       "      <td>6</td>\n",
       "      <td>0.595</td>\n",
       "      <td>0.467</td>\n",
       "    </tr>\n",
       "    <tr>\n",
       "      <th>6</th>\n",
       "      <td>7</td>\n",
       "      <td>0.595</td>\n",
       "      <td>0.467</td>\n",
       "    </tr>\n",
       "    <tr>\n",
       "      <th>7</th>\n",
       "      <td>8</td>\n",
       "      <td>0.595</td>\n",
       "      <td>0.467</td>\n",
       "    </tr>\n",
       "    <tr>\n",
       "      <th>8</th>\n",
       "      <td>9</td>\n",
       "      <td>0.595</td>\n",
       "      <td>0.467</td>\n",
       "    </tr>\n",
       "    <tr>\n",
       "      <th>9</th>\n",
       "      <td>10</td>\n",
       "      <td>0.595</td>\n",
       "      <td>0.467</td>\n",
       "    </tr>\n",
       "  </tbody>\n",
       "</table>\n",
       "</div>"
      ],
      "text/plain": [
       "   Depth  TrainScore  TestScore\n",
       "0      1       0.257      0.221\n",
       "1      2       0.355      0.311\n",
       "2      3       0.469      0.376\n",
       "3      4       0.543      0.449\n",
       "4      5       0.595      0.467\n",
       "5      6       0.595      0.467\n",
       "6      7       0.595      0.467\n",
       "7      8       0.595      0.467\n",
       "8      9       0.595      0.467\n",
       "9     10       0.595      0.467"
      ]
     },
     "execution_count": 78,
     "metadata": {},
     "output_type": "execute_result"
    }
   ],
   "source": [
    "train_score = []; test_score=[]\n",
    "para_depth = [depth for depth in range(1,11)]\n",
    "\n",
    "for v_max_depth in para_depth:\n",
    "    tree = DecisionTreeRegressor(random_state=1234,min_samples_leaf=14, min_samples_split=26, max_depth=v_max_depth)\n",
    "    \n",
    "    tree.fit(df_train_x, df_train_y)\n",
    "    train_score.append(tree.score(df_train_x, df_train_y))\n",
    "    test_score.append(tree.score(df_test_x, df_test_y))\n",
    "    \n",
    "df_score_depth = pd.DataFrame()\n",
    "df_score_depth[\"Depth\"]=para_depth\n",
    "df_score_depth[\"TrainScore\"]=train_score\n",
    "df_score_depth[\"TestScore\"]=test_score\n",
    "\n",
    "df_score_depth.round(3)"
   ]
  },
  {
   "cell_type": "code",
   "execution_count": 79,
   "metadata": {},
   "outputs": [
    {
     "data": {
      "text/plain": [
       "<matplotlib.legend.Legend at 0x1674c05d220>"
      ]
     },
     "execution_count": 79,
     "metadata": {},
     "output_type": "execute_result"
    },
    {
     "data": {
      "image/png": "[encoded data removed]",
      "text/plain": [
       "<Figure size 432x288 with 1 Axes>"
      ]
     },
     "metadata": {
      "needs_background": "light"
     },
     "output_type": "display_data"
    }
   ],
   "source": [
    "df_score_depth.round(3)\n",
    "plt.plot(para_depth, train_score, linestyle=\"-\",label=\"Train Score\")\n",
    "plt.plot(para_depth, test_score, linestyle=\"--\",label=\"Test Score\")\n",
    "plt.legend()"
   ]
  },
  {
   "cell_type": "markdown",
   "metadata": {},
   "source": [
    "#### 최종모델"
   ]
  },
  {
   "cell_type": "code",
   "execution_count": 80,
   "metadata": {
    "scrolled": true
   },
   "outputs": [
    {
     "name": "stdout",
     "output_type": "stream",
     "text": [
      "Score on training set: 0.595\n",
      "Score on test set: 0.467\n"
     ]
    }
   ],
   "source": [
    "# 최종모델\n",
    "tree_final = DecisionTreeRegressor(min_samples_leaf=14, min_samples_split=26, max_depth=5,random_state=1234)\n",
    "tree_final.fit(df_train_x, df_train_y)\n",
    "\n",
    "\n",
    "print(\"Score on training set: {:.3f}\".format(tree_final.score(df_train_x, df_train_y)))\n",
    "print(\"Score on test set: {:.3f}\".format(tree_final.score(df_test_x, df_test_y)))"
   ]
  },
  {
   "cell_type": "markdown",
   "metadata": {},
   "source": [
    "- 초기모델에 비해 많이 학습된 모습을 보이는 것을 알 수 있다. train data도 과적합에서 벗어났고, test데이터도 어느정도의 학습률을 보인다. 하지만 예측성능이 0.46정도로, 50%를 채 넘지 못함으로 유의미한 모델이라고 보기 어렵다. 따라서 다른 모델을 사용한다. "
   ]
  },
  {
   "cell_type": "markdown",
   "metadata": {},
   "source": [
    "#### 변수 중요도"
   ]
  },
  {
   "cell_type": "code",
   "execution_count": 81,
   "metadata": {
    "scrolled": false
   },
   "outputs": [
    {
     "data": {
      "text/html": [
       "<div>\n",
       "<style scoped>\n",
       "    .dataframe tbody tr th:only-of-type {\n",
       "        vertical-align: middle;\n",
       "    }\n",
       "\n",
       "    .dataframe tbody tr th {\n",
       "        vertical-align: top;\n",
       "    }\n",
       "\n",
       "    .dataframe thead th {\n",
       "        text-align: right;\n",
       "    }\n",
       "</style>\n",
       "<table border=\"1\" class=\"dataframe\">\n",
       "  <thead>\n",
       "    <tr style=\"text-align: right;\">\n",
       "      <th></th>\n",
       "      <th>Feature</th>\n",
       "      <th>Importance</th>\n",
       "    </tr>\n",
       "  </thead>\n",
       "  <tbody>\n",
       "    <tr>\n",
       "      <th>2</th>\n",
       "      <td>CO</td>\n",
       "      <td>0.569</td>\n",
       "    </tr>\n",
       "    <tr>\n",
       "      <th>0</th>\n",
       "      <td>O3</td>\n",
       "      <td>0.170</td>\n",
       "    </tr>\n",
       "    <tr>\n",
       "      <th>8</th>\n",
       "      <td>CLOUD</td>\n",
       "      <td>0.084</td>\n",
       "    </tr>\n",
       "    <tr>\n",
       "      <th>11</th>\n",
       "      <td>Season_봄</td>\n",
       "      <td>0.083</td>\n",
       "    </tr>\n",
       "    <tr>\n",
       "      <th>5</th>\n",
       "      <td>WIND</td>\n",
       "      <td>0.073</td>\n",
       "    </tr>\n",
       "    <tr>\n",
       "      <th>6</th>\n",
       "      <td>HUMIDITY</td>\n",
       "      <td>0.011</td>\n",
       "    </tr>\n",
       "    <tr>\n",
       "      <th>4</th>\n",
       "      <td>TEMP</td>\n",
       "      <td>0.010</td>\n",
       "    </tr>\n",
       "    <tr>\n",
       "      <th>3</th>\n",
       "      <td>SO2</td>\n",
       "      <td>0.000</td>\n",
       "    </tr>\n",
       "    <tr>\n",
       "      <th>7</th>\n",
       "      <td>ATM_PRESS</td>\n",
       "      <td>0.000</td>\n",
       "    </tr>\n",
       "    <tr>\n",
       "      <th>1</th>\n",
       "      <td>NO2</td>\n",
       "      <td>0.000</td>\n",
       "    </tr>\n",
       "    <tr>\n",
       "      <th>9</th>\n",
       "      <td>Season_가을</td>\n",
       "      <td>0.000</td>\n",
       "    </tr>\n",
       "    <tr>\n",
       "      <th>10</th>\n",
       "      <td>Season_겨울</td>\n",
       "      <td>0.000</td>\n",
       "    </tr>\n",
       "    <tr>\n",
       "      <th>12</th>\n",
       "      <td>Season_여름</td>\n",
       "      <td>0.000</td>\n",
       "    </tr>\n",
       "    <tr>\n",
       "      <th>13</th>\n",
       "      <td>WIND_DIR_4_E</td>\n",
       "      <td>0.000</td>\n",
       "    </tr>\n",
       "    <tr>\n",
       "      <th>14</th>\n",
       "      <td>WIND_DIR_4_N</td>\n",
       "      <td>0.000</td>\n",
       "    </tr>\n",
       "    <tr>\n",
       "      <th>15</th>\n",
       "      <td>WIND_DIR_4_S</td>\n",
       "      <td>0.000</td>\n",
       "    </tr>\n",
       "    <tr>\n",
       "      <th>16</th>\n",
       "      <td>WIND_DIR_4_W</td>\n",
       "      <td>0.000</td>\n",
       "    </tr>\n",
       "  </tbody>\n",
       "</table>\n",
       "</div>"
      ],
      "text/plain": [
       "         Feature  Importance\n",
       "2             CO       0.569\n",
       "0             O3       0.170\n",
       "8          CLOUD       0.084\n",
       "11      Season_봄       0.083\n",
       "5           WIND       0.073\n",
       "6       HUMIDITY       0.011\n",
       "4           TEMP       0.010\n",
       "3            SO2       0.000\n",
       "7      ATM_PRESS       0.000\n",
       "1            NO2       0.000\n",
       "9      Season_가을       0.000\n",
       "10     Season_겨울       0.000\n",
       "12     Season_여름       0.000\n",
       "13  WIND_DIR_4_E       0.000\n",
       "14  WIND_DIR_4_N       0.000\n",
       "15  WIND_DIR_4_S       0.000\n",
       "16  WIND_DIR_4_W       0.000"
      ]
     },
     "execution_count": 81,
     "metadata": {},
     "output_type": "execute_result"
    }
   ],
   "source": [
    "# 설명변수의 중요도\n",
    "df_importance = pd.DataFrame()\n",
    "df_importance[\"Feature\"]=df_x.columns\n",
    "df_importance[\"Importance\"]=tree_final.feature_importances_\n",
    "df_importance.sort_values(\"Importance\",ascending=False, inplace=True)\n",
    "df_importance.round(3)"
   ]
  },
  {
   "cell_type": "code",
   "execution_count": 82,
   "metadata": {},
   "outputs": [
    {
     "data": {
      "text/plain": [
       "Text(0, 0.5, '변수 ')"
      ]
     },
     "execution_count": 82,
     "metadata": {},
     "output_type": "execute_result"
    },
    {
     "data": {
      "image/png": "[encoded data removed]",
      "text/plain": [
       "<Figure size 432x288 with 1 Axes>"
      ]
     },
     "metadata": {
      "needs_background": "light"
     },
     "output_type": "display_data"
    }
   ],
   "source": [
    "# 설명변수 중요도 그래프\n",
    "\n",
    "df_importance.sort_values(\"Importance\",ascending=True, inplace=True)\n",
    "coordinates = range(len(df_importance))\n",
    "plt.barh(y = coordinates, width =df_importance[\"Importance\"])\n",
    "plt.yticks(coordinates, df_importance[\"Feature\"])\n",
    "plt.xlabel(\"변수 중요도\")\n",
    "plt.ylabel(\"변수 \")"
   ]
  },
  {
   "cell_type": "markdown",
   "metadata": {},
   "source": [
    "## 결론\n",
    "\n",
    "- 상관계수가 가장 높게 나왔던 CO가 역시나 변수 중요도에서도 가장 높은 점수를 가진다. 그 다음으로는 O3가 중요도 가 높게 나왔는데, 이 두가지 인자는 대기오염인자로서 미세먼지 발생에 유의미한 영향을 미친다고 할 수 있을것이다. \n",
    "- 하지만 해당 의사결정나무 모델의 정확도는 낮기때문에 다른 변수들까지도 유의미한 인자인지는 신뢰성이 조금 떨어지기 때문에, 다른 모델로 좀 더 탐구해보기로 한다. "
   ]
  },
  {
   "cell_type": "markdown",
   "metadata": {},
   "source": [
    "---\n",
    "\n",
    "## 6-3. 랜덤포레스트"
   ]
  },
  {
   "cell_type": "markdown",
   "metadata": {},
   "source": [
    "#### 초기모델 생성"
   ]
  },
  {
   "cell_type": "code",
   "execution_count": 83,
   "metadata": {},
   "outputs": [
    {
     "name": "stdout",
     "output_type": "stream",
     "text": [
      "Score on training set: 0.924\n",
      "Score on test set: 0.515\n"
     ]
    }
   ],
   "source": [
    "#초기모델 생성\n",
    "\n",
    "rf_uncustomized = RandomForestRegressor(random_state=1234)\n",
    "rf_uncustomized.fit(df_train_x, df_train_y)\n",
    "print(\"Score on training set: {:.3f}\".format(rf_uncustomized.score(df_train_x, df_train_y)))\n",
    "print(\"Score on test set: {:.3f}\".format(rf_uncustomized.score(df_test_x, df_test_y)))"
   ]
  },
  {
   "cell_type": "markdown",
   "metadata": {},
   "source": [
    "- 의사결정나무보다는 초기모델에 대해서 더 좋은 성능을 보이는 것을 확인 할 수 있으나 역시 train data에 대해서 과적합 경향을 보이고있다. "
   ]
  },
  {
   "cell_type": "code",
   "execution_count": 84,
   "metadata": {},
   "outputs": [
    {
     "name": "stdout",
     "output_type": "stream",
     "text": [
      "train data X size : (255, 17)\n",
      "train data Y size : (255,)\n",
      "test data X size : (110, 17)\n",
      "test data Y size : (110,)\n"
     ]
    }
   ],
   "source": [
    "df_scaled_train_x, df_scaled_test_x, df_scaled_train_y, df_scaled_test_y = train_test_split(df_scaled_x, df_scaled_y, test_size = 0.3, random_state = 1234)\n",
    "print(\"train data X size : {}\".format(df_scaled_train_x.shape))\n",
    "print(\"train data Y size : {}\".format(df_scaled_train_y.shape))\n",
    "print(\"test data X size : {}\".format(df_scaled_test_x.shape))\n",
    "print(\"test data Y size : {}\".format(df_scaled_test_y.shape))"
   ]
  },
  {
   "cell_type": "markdown",
   "metadata": {},
   "source": [
    "#### 트리 수 조정"
   ]
  },
  {
   "cell_type": "code",
   "execution_count": 85,
   "metadata": {},
   "outputs": [
    {
     "data": {
      "text/html": [
       "<div>\n",
       "<style scoped>\n",
       "    .dataframe tbody tr th:only-of-type {\n",
       "        vertical-align: middle;\n",
       "    }\n",
       "\n",
       "    .dataframe tbody tr th {\n",
       "        vertical-align: top;\n",
       "    }\n",
       "\n",
       "    .dataframe thead th {\n",
       "        text-align: right;\n",
       "    }\n",
       "</style>\n",
       "<table border=\"1\" class=\"dataframe\">\n",
       "  <thead>\n",
       "    <tr style=\"text-align: right;\">\n",
       "      <th></th>\n",
       "      <th>n_estimators</th>\n",
       "      <th>TrainScore</th>\n",
       "      <th>TestScore</th>\n",
       "    </tr>\n",
       "  </thead>\n",
       "  <tbody>\n",
       "    <tr>\n",
       "      <th>0</th>\n",
       "      <td>10</td>\n",
       "      <td>0.889</td>\n",
       "      <td>0.490</td>\n",
       "    </tr>\n",
       "    <tr>\n",
       "      <th>1</th>\n",
       "      <td>20</td>\n",
       "      <td>0.902</td>\n",
       "      <td>0.517</td>\n",
       "    </tr>\n",
       "    <tr>\n",
       "      <th>2</th>\n",
       "      <td>30</td>\n",
       "      <td>0.910</td>\n",
       "      <td>0.506</td>\n",
       "    </tr>\n",
       "    <tr>\n",
       "      <th>3</th>\n",
       "      <td>40</td>\n",
       "      <td>0.912</td>\n",
       "      <td>0.502</td>\n",
       "    </tr>\n",
       "    <tr>\n",
       "      <th>4</th>\n",
       "      <td>50</td>\n",
       "      <td>0.918</td>\n",
       "      <td>0.501</td>\n",
       "    </tr>\n",
       "    <tr>\n",
       "      <th>5</th>\n",
       "      <td>60</td>\n",
       "      <td>0.923</td>\n",
       "      <td>0.504</td>\n",
       "    </tr>\n",
       "    <tr>\n",
       "      <th>6</th>\n",
       "      <td>70</td>\n",
       "      <td>0.926</td>\n",
       "      <td>0.503</td>\n",
       "    </tr>\n",
       "    <tr>\n",
       "      <th>7</th>\n",
       "      <td>80</td>\n",
       "      <td>0.925</td>\n",
       "      <td>0.518</td>\n",
       "    </tr>\n",
       "    <tr>\n",
       "      <th>8</th>\n",
       "      <td>90</td>\n",
       "      <td>0.925</td>\n",
       "      <td>0.517</td>\n",
       "    </tr>\n",
       "    <tr>\n",
       "      <th>9</th>\n",
       "      <td>100</td>\n",
       "      <td>0.925</td>\n",
       "      <td>0.517</td>\n",
       "    </tr>\n",
       "    <tr>\n",
       "      <th>10</th>\n",
       "      <td>110</td>\n",
       "      <td>0.925</td>\n",
       "      <td>0.512</td>\n",
       "    </tr>\n",
       "    <tr>\n",
       "      <th>11</th>\n",
       "      <td>120</td>\n",
       "      <td>0.926</td>\n",
       "      <td>0.512</td>\n",
       "    </tr>\n",
       "    <tr>\n",
       "      <th>12</th>\n",
       "      <td>130</td>\n",
       "      <td>0.926</td>\n",
       "      <td>0.516</td>\n",
       "    </tr>\n",
       "    <tr>\n",
       "      <th>13</th>\n",
       "      <td>140</td>\n",
       "      <td>0.924</td>\n",
       "      <td>0.526</td>\n",
       "    </tr>\n",
       "    <tr>\n",
       "      <th>14</th>\n",
       "      <td>150</td>\n",
       "      <td>0.925</td>\n",
       "      <td>0.526</td>\n",
       "    </tr>\n",
       "    <tr>\n",
       "      <th>15</th>\n",
       "      <td>160</td>\n",
       "      <td>0.927</td>\n",
       "      <td>0.527</td>\n",
       "    </tr>\n",
       "    <tr>\n",
       "      <th>16</th>\n",
       "      <td>170</td>\n",
       "      <td>0.926</td>\n",
       "      <td>0.526</td>\n",
       "    </tr>\n",
       "    <tr>\n",
       "      <th>17</th>\n",
       "      <td>180</td>\n",
       "      <td>0.926</td>\n",
       "      <td>0.524</td>\n",
       "    </tr>\n",
       "    <tr>\n",
       "      <th>18</th>\n",
       "      <td>190</td>\n",
       "      <td>0.926</td>\n",
       "      <td>0.524</td>\n",
       "    </tr>\n",
       "    <tr>\n",
       "      <th>19</th>\n",
       "      <td>200</td>\n",
       "      <td>0.927</td>\n",
       "      <td>0.520</td>\n",
       "    </tr>\n",
       "  </tbody>\n",
       "</table>\n",
       "</div>"
      ],
      "text/plain": [
       "    n_estimators  TrainScore  TestScore\n",
       "0             10       0.889      0.490\n",
       "1             20       0.902      0.517\n",
       "2             30       0.910      0.506\n",
       "3             40       0.912      0.502\n",
       "4             50       0.918      0.501\n",
       "5             60       0.923      0.504\n",
       "6             70       0.926      0.503\n",
       "7             80       0.925      0.518\n",
       "8             90       0.925      0.517\n",
       "9            100       0.925      0.517\n",
       "10           110       0.925      0.512\n",
       "11           120       0.926      0.512\n",
       "12           130       0.926      0.516\n",
       "13           140       0.924      0.526\n",
       "14           150       0.925      0.526\n",
       "15           160       0.927      0.527\n",
       "16           170       0.926      0.526\n",
       "17           180       0.926      0.524\n",
       "18           190       0.926      0.524\n",
       "19           200       0.927      0.520"
      ]
     },
     "execution_count": 85,
     "metadata": {},
     "output_type": "execute_result"
    }
   ],
   "source": [
    "train_score=[]\n",
    "test_score=[]\n",
    "para_n_tree = [n_tree * 10 for n_tree in range(1, 21)]\n",
    "\n",
    "for v_n_estimators in para_n_tree:\n",
    "    rf = RandomForestRegressor(n_estimators = v_n_estimators, random_state = 1234)\n",
    "    rf.fit(df_scaled_train_x, df_scaled_train_y)\n",
    "    train_score.append(rf.score(df_scaled_train_x, df_scaled_train_y))\n",
    "    test_score.append(rf.score(df_scaled_test_x, df_scaled_test_y))\n",
    "    \n",
    "df_score_n = pd.DataFrame()\n",
    "df_score_n[\"n_estimators\"] = para_n_tree\n",
    "df_score_n[\"TrainScore\"] = train_score\n",
    "df_score_n[\"TestScore\"] = test_score\n",
    "df_score_n.round(3)"
   ]
  },
  {
   "cell_type": "code",
   "execution_count": 86,
   "metadata": {},
   "outputs": [
    {
     "data": {
      "text/plain": [
       "<matplotlib.legend.Legend at 0x1674da92970>"
      ]
     },
     "execution_count": 86,
     "metadata": {},
     "output_type": "execute_result"
    },
    {
     "data": {
      "image/png": "[encoded data removed]",
      "text/plain": [
       "<Figure size 432x288 with 1 Axes>"
      ]
     },
     "metadata": {
      "needs_background": "light"
     },
     "output_type": "display_data"
    }
   ],
   "source": [
    "plt.plot(para_n_tree, train_score, linestyle = \"-\", label = \"Train Score\")\n",
    "plt.plot(para_n_tree, test_score, linestyle = \"--\", label = \"Test Score\")\n",
    "plt.ylabel(\"score\"); plt.xlabel(\"n_estimators\")\n",
    "plt.legend()"
   ]
  },
  {
   "cell_type": "markdown",
   "metadata": {},
   "source": [
    "#### 리프노드 조정"
   ]
  },
  {
   "cell_type": "code",
   "execution_count": 87,
   "metadata": {},
   "outputs": [
    {
     "data": {
      "text/html": [
       "<div>\n",
       "<style scoped>\n",
       "    .dataframe tbody tr th:only-of-type {\n",
       "        vertical-align: middle;\n",
       "    }\n",
       "\n",
       "    .dataframe tbody tr th {\n",
       "        vertical-align: top;\n",
       "    }\n",
       "\n",
       "    .dataframe thead th {\n",
       "        text-align: right;\n",
       "    }\n",
       "</style>\n",
       "<table border=\"1\" class=\"dataframe\">\n",
       "  <thead>\n",
       "    <tr style=\"text-align: right;\">\n",
       "      <th></th>\n",
       "      <th>MinSamplesLeaf</th>\n",
       "      <th>TrainScore</th>\n",
       "      <th>TestScore</th>\n",
       "    </tr>\n",
       "  </thead>\n",
       "  <tbody>\n",
       "    <tr>\n",
       "      <th>0</th>\n",
       "      <td>1</td>\n",
       "      <td>0.907</td>\n",
       "      <td>0.506</td>\n",
       "    </tr>\n",
       "    <tr>\n",
       "      <th>1</th>\n",
       "      <td>2</td>\n",
       "      <td>0.855</td>\n",
       "      <td>0.527</td>\n",
       "    </tr>\n",
       "    <tr>\n",
       "      <th>2</th>\n",
       "      <td>3</td>\n",
       "      <td>0.809</td>\n",
       "      <td>0.540</td>\n",
       "    </tr>\n",
       "    <tr>\n",
       "      <th>3</th>\n",
       "      <td>4</td>\n",
       "      <td>0.772</td>\n",
       "      <td>0.519</td>\n",
       "    </tr>\n",
       "    <tr>\n",
       "      <th>4</th>\n",
       "      <td>5</td>\n",
       "      <td>0.739</td>\n",
       "      <td>0.527</td>\n",
       "    </tr>\n",
       "    <tr>\n",
       "      <th>5</th>\n",
       "      <td>6</td>\n",
       "      <td>0.710</td>\n",
       "      <td>0.514</td>\n",
       "    </tr>\n",
       "    <tr>\n",
       "      <th>6</th>\n",
       "      <td>7</td>\n",
       "      <td>0.689</td>\n",
       "      <td>0.497</td>\n",
       "    </tr>\n",
       "    <tr>\n",
       "      <th>7</th>\n",
       "      <td>8</td>\n",
       "      <td>0.670</td>\n",
       "      <td>0.480</td>\n",
       "    </tr>\n",
       "    <tr>\n",
       "      <th>8</th>\n",
       "      <td>9</td>\n",
       "      <td>0.647</td>\n",
       "      <td>0.476</td>\n",
       "    </tr>\n",
       "    <tr>\n",
       "      <th>9</th>\n",
       "      <td>10</td>\n",
       "      <td>0.634</td>\n",
       "      <td>0.456</td>\n",
       "    </tr>\n",
       "    <tr>\n",
       "      <th>10</th>\n",
       "      <td>11</td>\n",
       "      <td>0.617</td>\n",
       "      <td>0.458</td>\n",
       "    </tr>\n",
       "    <tr>\n",
       "      <th>11</th>\n",
       "      <td>12</td>\n",
       "      <td>0.602</td>\n",
       "      <td>0.444</td>\n",
       "    </tr>\n",
       "    <tr>\n",
       "      <th>12</th>\n",
       "      <td>13</td>\n",
       "      <td>0.585</td>\n",
       "      <td>0.426</td>\n",
       "    </tr>\n",
       "    <tr>\n",
       "      <th>13</th>\n",
       "      <td>14</td>\n",
       "      <td>0.568</td>\n",
       "      <td>0.414</td>\n",
       "    </tr>\n",
       "    <tr>\n",
       "      <th>14</th>\n",
       "      <td>15</td>\n",
       "      <td>0.559</td>\n",
       "      <td>0.411</td>\n",
       "    </tr>\n",
       "    <tr>\n",
       "      <th>15</th>\n",
       "      <td>16</td>\n",
       "      <td>0.544</td>\n",
       "      <td>0.400</td>\n",
       "    </tr>\n",
       "    <tr>\n",
       "      <th>16</th>\n",
       "      <td>17</td>\n",
       "      <td>0.531</td>\n",
       "      <td>0.403</td>\n",
       "    </tr>\n",
       "    <tr>\n",
       "      <th>17</th>\n",
       "      <td>18</td>\n",
       "      <td>0.523</td>\n",
       "      <td>0.402</td>\n",
       "    </tr>\n",
       "    <tr>\n",
       "      <th>18</th>\n",
       "      <td>19</td>\n",
       "      <td>0.520</td>\n",
       "      <td>0.403</td>\n",
       "    </tr>\n",
       "    <tr>\n",
       "      <th>19</th>\n",
       "      <td>20</td>\n",
       "      <td>0.513</td>\n",
       "      <td>0.394</td>\n",
       "    </tr>\n",
       "  </tbody>\n",
       "</table>\n",
       "</div>"
      ],
      "text/plain": [
       "    MinSamplesLeaf  TrainScore  TestScore\n",
       "0                1       0.907      0.506\n",
       "1                2       0.855      0.527\n",
       "2                3       0.809      0.540\n",
       "3                4       0.772      0.519\n",
       "4                5       0.739      0.527\n",
       "5                6       0.710      0.514\n",
       "6                7       0.689      0.497\n",
       "7                8       0.670      0.480\n",
       "8                9       0.647      0.476\n",
       "9               10       0.634      0.456\n",
       "10              11       0.617      0.458\n",
       "11              12       0.602      0.444\n",
       "12              13       0.585      0.426\n",
       "13              14       0.568      0.414\n",
       "14              15       0.559      0.411\n",
       "15              16       0.544      0.400\n",
       "16              17       0.531      0.403\n",
       "17              18       0.523      0.402\n",
       "18              19       0.520      0.403\n",
       "19              20       0.513      0.394"
      ]
     },
     "execution_count": 87,
     "metadata": {},
     "output_type": "execute_result"
    }
   ],
   "source": [
    "train_score = []\n",
    "test_score = []\n",
    "para_leaf = [n_leaf * 1 for n_leaf in range(1, 21)]\n",
    "\n",
    "for v_min_samples_leaf in para_leaf:\n",
    "    rf = RandomForestRegressor(random_state=1234, n_estimators = 25, min_samples_leaf = v_min_samples_leaf)\n",
    "    rf.fit(df_scaled_train_x, df_scaled_train_y)\n",
    "    train_score.append(rf.score(df_scaled_train_x, df_scaled_train_y))\n",
    "    test_score.append(rf.score(df_scaled_test_x, df_scaled_test_y))\n",
    "\n",
    "df_score_leaf = pd.DataFrame()\n",
    "df_score_leaf[\"MinSamplesLeaf\"] = para_leaf\n",
    "df_score_leaf[\"TrainScore\"] = train_score\n",
    "df_score_leaf[\"TestScore\"] = test_score\n",
    "df_score_leaf.round(3)"
   ]
  },
  {
   "cell_type": "code",
   "execution_count": 88,
   "metadata": {},
   "outputs": [
    {
     "data": {
      "text/plain": [
       "<matplotlib.legend.Legend at 0x1674daf2610>"
      ]
     },
     "execution_count": 88,
     "metadata": {},
     "output_type": "execute_result"
    },
    {
     "data": {
      "image/png": "[encoded data removed]",
      "text/plain": [
       "<Figure size 432x288 with 1 Axes>"
      ]
     },
     "metadata": {
      "needs_background": "light"
     },
     "output_type": "display_data"
    }
   ],
   "source": [
    "plt.plot(para_leaf, train_score, linestyle = \"-\", label = \"Train Score\")\n",
    "plt.plot(para_leaf, test_score, linestyle = \"--\", label = \"Test Score\")\n",
    "plt.ylabel(\"score\"); plt.xlabel(\"min samples leaf\")\n",
    "plt.legend()"
   ]
  },
  {
   "cell_type": "markdown",
   "metadata": {},
   "source": [
    "#### 스플릿노드 조정"
   ]
  },
  {
   "cell_type": "code",
   "execution_count": 89,
   "metadata": {},
   "outputs": [
    {
     "data": {
      "text/html": [
       "<div>\n",
       "<style scoped>\n",
       "    .dataframe tbody tr th:only-of-type {\n",
       "        vertical-align: middle;\n",
       "    }\n",
       "\n",
       "    .dataframe tbody tr th {\n",
       "        vertical-align: top;\n",
       "    }\n",
       "\n",
       "    .dataframe thead th {\n",
       "        text-align: right;\n",
       "    }\n",
       "</style>\n",
       "<table border=\"1\" class=\"dataframe\">\n",
       "  <thead>\n",
       "    <tr style=\"text-align: right;\">\n",
       "      <th></th>\n",
       "      <th>MinSamplessplit</th>\n",
       "      <th>TrainScore</th>\n",
       "      <th>TestScore</th>\n",
       "    </tr>\n",
       "  </thead>\n",
       "  <tbody>\n",
       "    <tr>\n",
       "      <th>0</th>\n",
       "      <td>6</td>\n",
       "      <td>0.809</td>\n",
       "      <td>0.540</td>\n",
       "    </tr>\n",
       "    <tr>\n",
       "      <th>1</th>\n",
       "      <td>9</td>\n",
       "      <td>0.780</td>\n",
       "      <td>0.528</td>\n",
       "    </tr>\n",
       "    <tr>\n",
       "      <th>2</th>\n",
       "      <td>12</td>\n",
       "      <td>0.749</td>\n",
       "      <td>0.512</td>\n",
       "    </tr>\n",
       "    <tr>\n",
       "      <th>3</th>\n",
       "      <td>15</td>\n",
       "      <td>0.720</td>\n",
       "      <td>0.499</td>\n",
       "    </tr>\n",
       "    <tr>\n",
       "      <th>4</th>\n",
       "      <td>18</td>\n",
       "      <td>0.700</td>\n",
       "      <td>0.492</td>\n",
       "    </tr>\n",
       "    <tr>\n",
       "      <th>5</th>\n",
       "      <td>21</td>\n",
       "      <td>0.684</td>\n",
       "      <td>0.486</td>\n",
       "    </tr>\n",
       "    <tr>\n",
       "      <th>6</th>\n",
       "      <td>24</td>\n",
       "      <td>0.656</td>\n",
       "      <td>0.482</td>\n",
       "    </tr>\n",
       "    <tr>\n",
       "      <th>7</th>\n",
       "      <td>27</td>\n",
       "      <td>0.640</td>\n",
       "      <td>0.473</td>\n",
       "    </tr>\n",
       "    <tr>\n",
       "      <th>8</th>\n",
       "      <td>30</td>\n",
       "      <td>0.619</td>\n",
       "      <td>0.456</td>\n",
       "    </tr>\n",
       "    <tr>\n",
       "      <th>9</th>\n",
       "      <td>33</td>\n",
       "      <td>0.603</td>\n",
       "      <td>0.451</td>\n",
       "    </tr>\n",
       "    <tr>\n",
       "      <th>10</th>\n",
       "      <td>36</td>\n",
       "      <td>0.589</td>\n",
       "      <td>0.446</td>\n",
       "    </tr>\n",
       "    <tr>\n",
       "      <th>11</th>\n",
       "      <td>39</td>\n",
       "      <td>0.584</td>\n",
       "      <td>0.443</td>\n",
       "    </tr>\n",
       "    <tr>\n",
       "      <th>12</th>\n",
       "      <td>42</td>\n",
       "      <td>0.568</td>\n",
       "      <td>0.436</td>\n",
       "    </tr>\n",
       "    <tr>\n",
       "      <th>13</th>\n",
       "      <td>45</td>\n",
       "      <td>0.561</td>\n",
       "      <td>0.431</td>\n",
       "    </tr>\n",
       "    <tr>\n",
       "      <th>14</th>\n",
       "      <td>48</td>\n",
       "      <td>0.547</td>\n",
       "      <td>0.427</td>\n",
       "    </tr>\n",
       "    <tr>\n",
       "      <th>15</th>\n",
       "      <td>51</td>\n",
       "      <td>0.532</td>\n",
       "      <td>0.419</td>\n",
       "    </tr>\n",
       "    <tr>\n",
       "      <th>16</th>\n",
       "      <td>54</td>\n",
       "      <td>0.523</td>\n",
       "      <td>0.420</td>\n",
       "    </tr>\n",
       "    <tr>\n",
       "      <th>17</th>\n",
       "      <td>57</td>\n",
       "      <td>0.517</td>\n",
       "      <td>0.418</td>\n",
       "    </tr>\n",
       "    <tr>\n",
       "      <th>18</th>\n",
       "      <td>60</td>\n",
       "      <td>0.509</td>\n",
       "      <td>0.404</td>\n",
       "    </tr>\n",
       "  </tbody>\n",
       "</table>\n",
       "</div>"
      ],
      "text/plain": [
       "    MinSamplessplit  TrainScore  TestScore\n",
       "0                 6       0.809      0.540\n",
       "1                 9       0.780      0.528\n",
       "2                12       0.749      0.512\n",
       "3                15       0.720      0.499\n",
       "4                18       0.700      0.492\n",
       "5                21       0.684      0.486\n",
       "6                24       0.656      0.482\n",
       "7                27       0.640      0.473\n",
       "8                30       0.619      0.456\n",
       "9                33       0.603      0.451\n",
       "10               36       0.589      0.446\n",
       "11               39       0.584      0.443\n",
       "12               42       0.568      0.436\n",
       "13               45       0.561      0.431\n",
       "14               48       0.547      0.427\n",
       "15               51       0.532      0.419\n",
       "16               54       0.523      0.420\n",
       "17               57       0.517      0.418\n",
       "18               60       0.509      0.404"
      ]
     },
     "execution_count": 89,
     "metadata": {},
     "output_type": "execute_result"
    }
   ],
   "source": [
    "train_score = []; test_score=[]\n",
    "para_split = [n_split*3 for n_split in range(2,21)]\n",
    "\n",
    "for v_min_samples_split in para_split:\n",
    "    rf = RandomForestRegressor(random_state=1234, n_estimators = 25, min_samples_leaf=3, min_samples_split = v_min_samples_split )\n",
    "    \n",
    "    rf.fit(df_scaled_train_x, df_scaled_train_y)\n",
    "    train_score.append(rf.score(df_scaled_train_x, df_scaled_train_y))\n",
    "    test_score.append(rf.score(df_scaled_test_x, df_scaled_test_y))\n",
    "    \n",
    "df_score_split = pd.DataFrame()\n",
    "df_score_split[\"MinSamplessplit\"]=para_split\n",
    "df_score_split[\"TrainScore\"]=train_score\n",
    "df_score_split[\"TestScore\"]=test_score\n",
    "df_score_split.round(3)"
   ]
  },
  {
   "cell_type": "code",
   "execution_count": 90,
   "metadata": {
    "scrolled": true
   },
   "outputs": [
    {
     "data": {
      "text/plain": [
       "<matplotlib.legend.Legend at 0x1674db61490>"
      ]
     },
     "execution_count": 90,
     "metadata": {},
     "output_type": "execute_result"
    },
    {
     "data": {
      "image/png": "[encoded data removed]",
      "text/plain": [
       "<Figure size 432x288 with 1 Axes>"
      ]
     },
     "metadata": {
      "needs_background": "light"
     },
     "output_type": "display_data"
    }
   ],
   "source": [
    "plt.plot(para_split, train_score, linestyle = \"-\", label = \"Train Score\")\n",
    "plt.plot(para_split, test_score, linestyle = \"--\", label = \"Test Score\")\n",
    "plt.ylabel(\"score\"); plt.xlabel(\"min samples split\")\n",
    "plt.legend()"
   ]
  },
  {
   "cell_type": "markdown",
   "metadata": {},
   "source": [
    "#### 최대 깊이 조정"
   ]
  },
  {
   "cell_type": "code",
   "execution_count": 91,
   "metadata": {},
   "outputs": [
    {
     "data": {
      "text/html": [
       "<div>\n",
       "<style scoped>\n",
       "    .dataframe tbody tr th:only-of-type {\n",
       "        vertical-align: middle;\n",
       "    }\n",
       "\n",
       "    .dataframe tbody tr th {\n",
       "        vertical-align: top;\n",
       "    }\n",
       "\n",
       "    .dataframe thead th {\n",
       "        text-align: right;\n",
       "    }\n",
       "</style>\n",
       "<table border=\"1\" class=\"dataframe\">\n",
       "  <thead>\n",
       "    <tr style=\"text-align: right;\">\n",
       "      <th></th>\n",
       "      <th>Depth</th>\n",
       "      <th>TrainScore</th>\n",
       "      <th>TestScore</th>\n",
       "    </tr>\n",
       "  </thead>\n",
       "  <tbody>\n",
       "    <tr>\n",
       "      <th>0</th>\n",
       "      <td>1</td>\n",
       "      <td>0.290</td>\n",
       "      <td>0.277</td>\n",
       "    </tr>\n",
       "    <tr>\n",
       "      <th>1</th>\n",
       "      <td>2</td>\n",
       "      <td>0.439</td>\n",
       "      <td>0.380</td>\n",
       "    </tr>\n",
       "    <tr>\n",
       "      <th>2</th>\n",
       "      <td>3</td>\n",
       "      <td>0.576</td>\n",
       "      <td>0.464</td>\n",
       "    </tr>\n",
       "    <tr>\n",
       "      <th>3</th>\n",
       "      <td>4</td>\n",
       "      <td>0.666</td>\n",
       "      <td>0.509</td>\n",
       "    </tr>\n",
       "    <tr>\n",
       "      <th>4</th>\n",
       "      <td>5</td>\n",
       "      <td>0.735</td>\n",
       "      <td>0.520</td>\n",
       "    </tr>\n",
       "    <tr>\n",
       "      <th>5</th>\n",
       "      <td>6</td>\n",
       "      <td>0.773</td>\n",
       "      <td>0.529</td>\n",
       "    </tr>\n",
       "    <tr>\n",
       "      <th>6</th>\n",
       "      <td>7</td>\n",
       "      <td>0.794</td>\n",
       "      <td>0.533</td>\n",
       "    </tr>\n",
       "    <tr>\n",
       "      <th>7</th>\n",
       "      <td>8</td>\n",
       "      <td>0.803</td>\n",
       "      <td>0.538</td>\n",
       "    </tr>\n",
       "    <tr>\n",
       "      <th>8</th>\n",
       "      <td>9</td>\n",
       "      <td>0.807</td>\n",
       "      <td>0.540</td>\n",
       "    </tr>\n",
       "    <tr>\n",
       "      <th>9</th>\n",
       "      <td>10</td>\n",
       "      <td>0.808</td>\n",
       "      <td>0.540</td>\n",
       "    </tr>\n",
       "    <tr>\n",
       "      <th>10</th>\n",
       "      <td>11</td>\n",
       "      <td>0.809</td>\n",
       "      <td>0.540</td>\n",
       "    </tr>\n",
       "    <tr>\n",
       "      <th>11</th>\n",
       "      <td>12</td>\n",
       "      <td>0.809</td>\n",
       "      <td>0.540</td>\n",
       "    </tr>\n",
       "    <tr>\n",
       "      <th>12</th>\n",
       "      <td>13</td>\n",
       "      <td>0.809</td>\n",
       "      <td>0.540</td>\n",
       "    </tr>\n",
       "    <tr>\n",
       "      <th>13</th>\n",
       "      <td>14</td>\n",
       "      <td>0.809</td>\n",
       "      <td>0.540</td>\n",
       "    </tr>\n",
       "    <tr>\n",
       "      <th>14</th>\n",
       "      <td>15</td>\n",
       "      <td>0.809</td>\n",
       "      <td>0.540</td>\n",
       "    </tr>\n",
       "    <tr>\n",
       "      <th>15</th>\n",
       "      <td>16</td>\n",
       "      <td>0.809</td>\n",
       "      <td>0.540</td>\n",
       "    </tr>\n",
       "    <tr>\n",
       "      <th>16</th>\n",
       "      <td>17</td>\n",
       "      <td>0.809</td>\n",
       "      <td>0.540</td>\n",
       "    </tr>\n",
       "    <tr>\n",
       "      <th>17</th>\n",
       "      <td>18</td>\n",
       "      <td>0.809</td>\n",
       "      <td>0.540</td>\n",
       "    </tr>\n",
       "    <tr>\n",
       "      <th>18</th>\n",
       "      <td>19</td>\n",
       "      <td>0.809</td>\n",
       "      <td>0.540</td>\n",
       "    </tr>\n",
       "    <tr>\n",
       "      <th>19</th>\n",
       "      <td>20</td>\n",
       "      <td>0.809</td>\n",
       "      <td>0.540</td>\n",
       "    </tr>\n",
       "  </tbody>\n",
       "</table>\n",
       "</div>"
      ],
      "text/plain": [
       "    Depth  TrainScore  TestScore\n",
       "0       1       0.290      0.277\n",
       "1       2       0.439      0.380\n",
       "2       3       0.576      0.464\n",
       "3       4       0.666      0.509\n",
       "4       5       0.735      0.520\n",
       "5       6       0.773      0.529\n",
       "6       7       0.794      0.533\n",
       "7       8       0.803      0.538\n",
       "8       9       0.807      0.540\n",
       "9      10       0.808      0.540\n",
       "10     11       0.809      0.540\n",
       "11     12       0.809      0.540\n",
       "12     13       0.809      0.540\n",
       "13     14       0.809      0.540\n",
       "14     15       0.809      0.540\n",
       "15     16       0.809      0.540\n",
       "16     17       0.809      0.540\n",
       "17     18       0.809      0.540\n",
       "18     19       0.809      0.540\n",
       "19     20       0.809      0.540"
      ]
     },
     "execution_count": 91,
     "metadata": {},
     "output_type": "execute_result"
    }
   ],
   "source": [
    "train_score = []; test_score = []\n",
    "para_depth = [depth for depth in range(1,21)]\n",
    "\n",
    "for v_max_depth in para_depth:\n",
    "    rf = RandomForestRegressor(random_state=1234, n_estimators = 25, min_samples_leaf = 3, min_samples_split = 5, max_depth = v_max_depth)\n",
    "    rf.fit(df_scaled_train_x, df_scaled_train_y)\n",
    "    train_score.append(rf.score(df_scaled_train_x, df_scaled_train_y))\n",
    "    test_score.append(rf.score(df_scaled_test_x, df_scaled_test_y))\n",
    "    \n",
    "df_score_depth = pd.DataFrame()\n",
    "df_score_depth[\"Depth\"] = para_depth\n",
    "df_score_depth[\"TrainScore\"] = train_score\n",
    "df_score_depth[\"TestScore\"] = test_score\n",
    "df_score_depth.round(3)"
   ]
  },
  {
   "cell_type": "code",
   "execution_count": 92,
   "metadata": {},
   "outputs": [
    {
     "data": {
      "text/plain": [
       "<matplotlib.legend.Legend at 0x1674f85ae20>"
      ]
     },
     "execution_count": 92,
     "metadata": {},
     "output_type": "execute_result"
    },
    {
     "data": {
      "image/png": "[encoded data removed]",
      "text/plain": [
       "<Figure size 432x288 with 1 Axes>"
      ]
     },
     "metadata": {
      "needs_background": "light"
     },
     "output_type": "display_data"
    }
   ],
   "source": [
    "plt.plot(para_depth, train_score, linestyle = \"-\", label = \"Train Score\")\n",
    "plt.plot(para_depth, test_score, linestyle = \"--\", label = \"Test Score\")\n",
    "plt.ylabel(\"score\"); plt.xlabel(\"max depth\")\n",
    "plt.legend()"
   ]
  },
  {
   "cell_type": "markdown",
   "metadata": {},
   "source": [
    "#### 최종모델 "
   ]
  },
  {
   "cell_type": "code",
   "execution_count": 93,
   "metadata": {},
   "outputs": [
    {
     "name": "stdout",
     "output_type": "stream",
     "text": [
      "Score on training set: 0.773\n",
      "Score on test set: 0.529\n"
     ]
    }
   ],
   "source": [
    "#최종모델\n",
    "\n",
    "rf_final = RandomForestRegressor(random_state=1234, n_estimators = 25, min_samples_leaf = 3, min_samples_split = 5, max_depth = 6)\n",
    "rf_final.fit(df_scaled_train_x, df_scaled_train_y)\n",
    "print(\"Score on training set: {:.3f}\".format(rf_final.score(df_scaled_train_x, df_scaled_train_y)))\n",
    "print(\"Score on test set: {:.3f}\".format(rf_final.score(df_scaled_test_x, df_scaled_test_y)))"
   ]
  },
  {
   "cell_type": "markdown",
   "metadata": {},
   "source": [
    "- 초기모델에 비해 과적합이 많이 낮아지고, test score가 많이 상승한 것을 확인 할 수 있다. 이전 모델인 디시전트리보다 나은 모델 정확도를 보이고 있다. "
   ]
  },
  {
   "cell_type": "markdown",
   "metadata": {},
   "source": [
    "#### 변수 중요도"
   ]
  },
  {
   "cell_type": "code",
   "execution_count": 94,
   "metadata": {},
   "outputs": [
    {
     "data": {
      "text/html": [
       "<div>\n",
       "<style scoped>\n",
       "    .dataframe tbody tr th:only-of-type {\n",
       "        vertical-align: middle;\n",
       "    }\n",
       "\n",
       "    .dataframe tbody tr th {\n",
       "        vertical-align: top;\n",
       "    }\n",
       "\n",
       "    .dataframe thead th {\n",
       "        text-align: right;\n",
       "    }\n",
       "</style>\n",
       "<table border=\"1\" class=\"dataframe\">\n",
       "  <thead>\n",
       "    <tr style=\"text-align: right;\">\n",
       "      <th></th>\n",
       "      <th>Feature</th>\n",
       "      <th>Importance</th>\n",
       "    </tr>\n",
       "  </thead>\n",
       "  <tbody>\n",
       "    <tr>\n",
       "      <th>2</th>\n",
       "      <td>CO</td>\n",
       "      <td>0.417</td>\n",
       "    </tr>\n",
       "    <tr>\n",
       "      <th>0</th>\n",
       "      <td>O3</td>\n",
       "      <td>0.144</td>\n",
       "    </tr>\n",
       "    <tr>\n",
       "      <th>8</th>\n",
       "      <td>CLOUD</td>\n",
       "      <td>0.094</td>\n",
       "    </tr>\n",
       "    <tr>\n",
       "      <th>5</th>\n",
       "      <td>WIND</td>\n",
       "      <td>0.090</td>\n",
       "    </tr>\n",
       "    <tr>\n",
       "      <th>1</th>\n",
       "      <td>NO2</td>\n",
       "      <td>0.047</td>\n",
       "    </tr>\n",
       "    <tr>\n",
       "      <th>6</th>\n",
       "      <td>HUMIDITY</td>\n",
       "      <td>0.047</td>\n",
       "    </tr>\n",
       "    <tr>\n",
       "      <th>4</th>\n",
       "      <td>TEMP</td>\n",
       "      <td>0.040</td>\n",
       "    </tr>\n",
       "    <tr>\n",
       "      <th>7</th>\n",
       "      <td>ATM_PRESS</td>\n",
       "      <td>0.040</td>\n",
       "    </tr>\n",
       "    <tr>\n",
       "      <th>11</th>\n",
       "      <td>Season_봄</td>\n",
       "      <td>0.024</td>\n",
       "    </tr>\n",
       "    <tr>\n",
       "      <th>9</th>\n",
       "      <td>Season_가을</td>\n",
       "      <td>0.020</td>\n",
       "    </tr>\n",
       "    <tr>\n",
       "      <th>13</th>\n",
       "      <td>WIND_DIR_4_E</td>\n",
       "      <td>0.014</td>\n",
       "    </tr>\n",
       "    <tr>\n",
       "      <th>3</th>\n",
       "      <td>SO2</td>\n",
       "      <td>0.009</td>\n",
       "    </tr>\n",
       "    <tr>\n",
       "      <th>16</th>\n",
       "      <td>WIND_DIR_4_W</td>\n",
       "      <td>0.008</td>\n",
       "    </tr>\n",
       "    <tr>\n",
       "      <th>15</th>\n",
       "      <td>WIND_DIR_4_S</td>\n",
       "      <td>0.003</td>\n",
       "    </tr>\n",
       "    <tr>\n",
       "      <th>10</th>\n",
       "      <td>Season_겨울</td>\n",
       "      <td>0.002</td>\n",
       "    </tr>\n",
       "    <tr>\n",
       "      <th>12</th>\n",
       "      <td>Season_여름</td>\n",
       "      <td>0.000</td>\n",
       "    </tr>\n",
       "    <tr>\n",
       "      <th>14</th>\n",
       "      <td>WIND_DIR_4_N</td>\n",
       "      <td>0.000</td>\n",
       "    </tr>\n",
       "  </tbody>\n",
       "</table>\n",
       "</div>"
      ],
      "text/plain": [
       "         Feature  Importance\n",
       "2             CO       0.417\n",
       "0             O3       0.144\n",
       "8          CLOUD       0.094\n",
       "5           WIND       0.090\n",
       "1            NO2       0.047\n",
       "6       HUMIDITY       0.047\n",
       "4           TEMP       0.040\n",
       "7      ATM_PRESS       0.040\n",
       "11      Season_봄       0.024\n",
       "9      Season_가을       0.020\n",
       "13  WIND_DIR_4_E       0.014\n",
       "3            SO2       0.009\n",
       "16  WIND_DIR_4_W       0.008\n",
       "15  WIND_DIR_4_S       0.003\n",
       "10     Season_겨울       0.002\n",
       "12     Season_여름       0.000\n",
       "14  WIND_DIR_4_N       0.000"
      ]
     },
     "execution_count": 94,
     "metadata": {},
     "output_type": "execute_result"
    }
   ],
   "source": [
    "# 설명변수의 중요도\n",
    "df_importance = pd.DataFrame()\n",
    "df_importance[\"Feature\"]=df_scaled_train_x.columns\n",
    "df_importance[\"Importance\"]=rf_final.feature_importances_\n",
    "df_importance.sort_values(\"Importance\",ascending=False, inplace=True)\n",
    "df_importance.round(3)"
   ]
  },
  {
   "cell_type": "code",
   "execution_count": 95,
   "metadata": {},
   "outputs": [
    {
     "data": {
      "text/plain": [
       "Text(0, 0.5, '변수')"
      ]
     },
     "execution_count": 95,
     "metadata": {},
     "output_type": "execute_result"
    },
    {
     "data": {
      "image/png": "[encoded data removed]",
      "text/plain": [
       "<Figure size 432x288 with 1 Axes>"
      ]
     },
     "metadata": {
      "needs_background": "light"
     },
     "output_type": "display_data"
    }
   ],
   "source": [
    "#그래프로 확인\n",
    "\n",
    "df_importance.sort_values(\"Importance\", ascending = True, inplace = True)\n",
    "coordinates = range(len(df_importance))\n",
    "plt.barh(y=coordinates, width = df_importance[\"Importance\"])\n",
    "plt.yticks(coordinates, df_importance[\"Feature\"])\n",
    "plt.xlabel(\"변수 중요도\")\n",
    "plt.ylabel(\"변수\")"
   ]
  },
  {
   "cell_type": "markdown",
   "metadata": {},
   "source": [
    "### 결론\n",
    "\n",
    "- 이전의 의사결정나무 모델과 같이 가장 중요도가 높은 변수는 CO와 O3였다. 그 다음은 구름의 양과 바람의 세기 또한 중요변수로 확인할 수 있었다. "
   ]
  },
  {
   "cell_type": "markdown",
   "metadata": {},
   "source": [
    "---\n",
    "\n",
    "## 6-4.그래디언트 부스팅"
   ]
  },
  {
   "cell_type": "markdown",
   "metadata": {},
   "source": [
    "#### 기본모델 생성"
   ]
  },
  {
   "cell_type": "code",
   "execution_count": 96,
   "metadata": {},
   "outputs": [
    {
     "name": "stdout",
     "output_type": "stream",
     "text": [
      "train data X size : (255, 17)\n",
      "train data Y size : (255,)\n",
      "test data X size : (110, 17)\n",
      "test data Y size : (110,)\n"
     ]
    }
   ],
   "source": [
    "df_scaled_train_x, df_scaled_test_x, df_scaled_train_y, df_scaled_test_y = train_test_split(df_scaled_x, df_scaled_y, test_size = 0.3, random_state = 1234)\n",
    "print(\"train data X size : {}\".format(df_scaled_train_x.shape))\n",
    "print(\"train data Y size : {}\".format(df_scaled_train_y.shape))\n",
    "print(\"test data X size : {}\".format(df_scaled_test_x.shape))\n",
    "print(\"test data Y size : {}\".format(df_scaled_test_y.shape))"
   ]
  },
  {
   "cell_type": "code",
   "execution_count": 97,
   "metadata": {},
   "outputs": [
    {
     "name": "stdout",
     "output_type": "stream",
     "text": [
      "Score on training set: 0.929\n",
      "Score on test set: 0.510\n"
     ]
    }
   ],
   "source": [
    "# 그래디언트 부스팅 기본 옵션으로 모델 생성\n",
    "gb_uncustomized = GradientBoostingRegressor(random_state=1234)\n",
    "gb_uncustomized.fit(df_scaled_train_x, df_scaled_train_y)\n",
    "\n",
    "print('Score on training set: {:.3f}'.format(gb_uncustomized.score(df_scaled_train_x, df_scaled_train_y)))\n",
    "print('Score on test set: {:.3f}'.format(gb_uncustomized.score(df_scaled_test_x, df_scaled_test_y)))"
   ]
  },
  {
   "cell_type": "markdown",
   "metadata": {},
   "source": [
    "#### 트리수 변경"
   ]
  },
  {
   "cell_type": "code",
   "execution_count": 98,
   "metadata": {},
   "outputs": [
    {
     "data": {
      "text/html": [
       "<div>\n",
       "<style scoped>\n",
       "    .dataframe tbody tr th:only-of-type {\n",
       "        vertical-align: middle;\n",
       "    }\n",
       "\n",
       "    .dataframe tbody tr th {\n",
       "        vertical-align: top;\n",
       "    }\n",
       "\n",
       "    .dataframe thead th {\n",
       "        text-align: right;\n",
       "    }\n",
       "</style>\n",
       "<table border=\"1\" class=\"dataframe\">\n",
       "  <thead>\n",
       "    <tr style=\"text-align: right;\">\n",
       "      <th></th>\n",
       "      <th>Estimators</th>\n",
       "      <th>TrainScore</th>\n",
       "      <th>TestScore</th>\n",
       "    </tr>\n",
       "  </thead>\n",
       "  <tbody>\n",
       "    <tr>\n",
       "      <th>0</th>\n",
       "      <td>10</td>\n",
       "      <td>0.526</td>\n",
       "      <td>0.427</td>\n",
       "    </tr>\n",
       "    <tr>\n",
       "      <th>1</th>\n",
       "      <td>20</td>\n",
       "      <td>0.683</td>\n",
       "      <td>0.511</td>\n",
       "    </tr>\n",
       "    <tr>\n",
       "      <th>2</th>\n",
       "      <td>30</td>\n",
       "      <td>0.764</td>\n",
       "      <td>0.548</td>\n",
       "    </tr>\n",
       "    <tr>\n",
       "      <th>3</th>\n",
       "      <td>40</td>\n",
       "      <td>0.813</td>\n",
       "      <td>0.556</td>\n",
       "    </tr>\n",
       "    <tr>\n",
       "      <th>4</th>\n",
       "      <td>50</td>\n",
       "      <td>0.846</td>\n",
       "      <td>0.549</td>\n",
       "    </tr>\n",
       "    <tr>\n",
       "      <th>5</th>\n",
       "      <td>60</td>\n",
       "      <td>0.875</td>\n",
       "      <td>0.535</td>\n",
       "    </tr>\n",
       "    <tr>\n",
       "      <th>6</th>\n",
       "      <td>70</td>\n",
       "      <td>0.892</td>\n",
       "      <td>0.530</td>\n",
       "    </tr>\n",
       "    <tr>\n",
       "      <th>7</th>\n",
       "      <td>80</td>\n",
       "      <td>0.903</td>\n",
       "      <td>0.524</td>\n",
       "    </tr>\n",
       "    <tr>\n",
       "      <th>8</th>\n",
       "      <td>90</td>\n",
       "      <td>0.916</td>\n",
       "      <td>0.521</td>\n",
       "    </tr>\n",
       "    <tr>\n",
       "      <th>9</th>\n",
       "      <td>100</td>\n",
       "      <td>0.929</td>\n",
       "      <td>0.510</td>\n",
       "    </tr>\n",
       "  </tbody>\n",
       "</table>\n",
       "</div>"
      ],
      "text/plain": [
       "   Estimators  TrainScore  TestScore\n",
       "0          10       0.526      0.427\n",
       "1          20       0.683      0.511\n",
       "2          30       0.764      0.548\n",
       "3          40       0.813      0.556\n",
       "4          50       0.846      0.549\n",
       "5          60       0.875      0.535\n",
       "6          70       0.892      0.530\n",
       "7          80       0.903      0.524\n",
       "8          90       0.916      0.521\n",
       "9         100       0.929      0.510"
      ]
     },
     "execution_count": 98,
     "metadata": {},
     "output_type": "execute_result"
    }
   ],
   "source": [
    "# n_estimators: 트리 수 변경에 따른 모델 생성\n",
    "\n",
    "#train 및 test 설명력 결과 저장\n",
    "train_score = []; test_score = []\n",
    "# min_samples_leaf: 잎사귀 최소 자료 수\n",
    "para_n_tree = [n_tree * 10 for n_tree in range(1, 11)]  # * 참조: para_leaf: [10,20,30,...,100]\n",
    "\n",
    "for v_n_estimators in para_n_tree:\n",
    "    gb = GradientBoostingRegressor(random_state=1234, n_estimators=v_n_estimators)\n",
    "    gb.fit(df_scaled_train_x, df_scaled_train_y)\n",
    "    train_score.append(gb.score(df_scaled_train_x, df_scaled_train_y))\n",
    "    test_score.append(gb.score(df_scaled_test_x, df_scaled_test_y))\n",
    "    \n",
    "# 결과 저장\n",
    "df_score_n = pd.DataFrame()\n",
    "df_score_n['Estimators'] = para_n_tree\n",
    "df_score_n['TrainScore'] = train_score\n",
    "df_score_n['TestScore'] = test_score\n",
    "df_score_n.round(3)"
   ]
  },
  {
   "cell_type": "code",
   "execution_count": 99,
   "metadata": {},
   "outputs": [
    {
     "data": {
      "text/plain": [
       "<matplotlib.legend.Legend at 0x1674f96fa60>"
      ]
     },
     "execution_count": 99,
     "metadata": {},
     "output_type": "execute_result"
    },
    {
     "data": {
      "image/png": "[encoded data removed]",
      "text/plain": [
       "<Figure size 432x288 with 1 Axes>"
      ]
     },
     "metadata": {
      "needs_background": "light"
     },
     "output_type": "display_data"
    }
   ],
   "source": [
    "# 모델 설명력 그래프 확인\n",
    "plt.plot(para_n_tree, train_score, linestyle='-', label = 'Train Score')\n",
    "plt.plot(para_n_tree, test_score, linestyle='--', label = 'Test Score')\n",
    "plt.ylabel('score'); plt.xlabel('n_estimators')\n",
    "plt.legend()"
   ]
  },
  {
   "cell_type": "markdown",
   "metadata": {},
   "source": [
    "#### 리프노드 수 조절"
   ]
  },
  {
   "cell_type": "code",
   "execution_count": 100,
   "metadata": {},
   "outputs": [
    {
     "data": {
      "text/html": [
       "<div>\n",
       "<style scoped>\n",
       "    .dataframe tbody tr th:only-of-type {\n",
       "        vertical-align: middle;\n",
       "    }\n",
       "\n",
       "    .dataframe tbody tr th {\n",
       "        vertical-align: top;\n",
       "    }\n",
       "\n",
       "    .dataframe thead th {\n",
       "        text-align: right;\n",
       "    }\n",
       "</style>\n",
       "<table border=\"1\" class=\"dataframe\">\n",
       "  <thead>\n",
       "    <tr style=\"text-align: right;\">\n",
       "      <th></th>\n",
       "      <th>MinSamplesLeaf</th>\n",
       "      <th>TrainScore</th>\n",
       "      <th>TestScore</th>\n",
       "    </tr>\n",
       "  </thead>\n",
       "  <tbody>\n",
       "    <tr>\n",
       "      <th>0</th>\n",
       "      <td>1</td>\n",
       "      <td>0.809</td>\n",
       "      <td>0.54</td>\n",
       "    </tr>\n",
       "    <tr>\n",
       "      <th>1</th>\n",
       "      <td>2</td>\n",
       "      <td>0.809</td>\n",
       "      <td>0.54</td>\n",
       "    </tr>\n",
       "    <tr>\n",
       "      <th>2</th>\n",
       "      <td>3</td>\n",
       "      <td>0.809</td>\n",
       "      <td>0.54</td>\n",
       "    </tr>\n",
       "    <tr>\n",
       "      <th>3</th>\n",
       "      <td>4</td>\n",
       "      <td>0.809</td>\n",
       "      <td>0.54</td>\n",
       "    </tr>\n",
       "    <tr>\n",
       "      <th>4</th>\n",
       "      <td>5</td>\n",
       "      <td>0.809</td>\n",
       "      <td>0.54</td>\n",
       "    </tr>\n",
       "    <tr>\n",
       "      <th>5</th>\n",
       "      <td>6</td>\n",
       "      <td>0.809</td>\n",
       "      <td>0.54</td>\n",
       "    </tr>\n",
       "    <tr>\n",
       "      <th>6</th>\n",
       "      <td>7</td>\n",
       "      <td>0.809</td>\n",
       "      <td>0.54</td>\n",
       "    </tr>\n",
       "    <tr>\n",
       "      <th>7</th>\n",
       "      <td>8</td>\n",
       "      <td>0.809</td>\n",
       "      <td>0.54</td>\n",
       "    </tr>\n",
       "    <tr>\n",
       "      <th>8</th>\n",
       "      <td>9</td>\n",
       "      <td>0.809</td>\n",
       "      <td>0.54</td>\n",
       "    </tr>\n",
       "    <tr>\n",
       "      <th>9</th>\n",
       "      <td>10</td>\n",
       "      <td>0.809</td>\n",
       "      <td>0.54</td>\n",
       "    </tr>\n",
       "    <tr>\n",
       "      <th>10</th>\n",
       "      <td>11</td>\n",
       "      <td>0.809</td>\n",
       "      <td>0.54</td>\n",
       "    </tr>\n",
       "    <tr>\n",
       "      <th>11</th>\n",
       "      <td>12</td>\n",
       "      <td>0.809</td>\n",
       "      <td>0.54</td>\n",
       "    </tr>\n",
       "    <tr>\n",
       "      <th>12</th>\n",
       "      <td>13</td>\n",
       "      <td>0.809</td>\n",
       "      <td>0.54</td>\n",
       "    </tr>\n",
       "    <tr>\n",
       "      <th>13</th>\n",
       "      <td>14</td>\n",
       "      <td>0.809</td>\n",
       "      <td>0.54</td>\n",
       "    </tr>\n",
       "    <tr>\n",
       "      <th>14</th>\n",
       "      <td>15</td>\n",
       "      <td>0.809</td>\n",
       "      <td>0.54</td>\n",
       "    </tr>\n",
       "    <tr>\n",
       "      <th>15</th>\n",
       "      <td>16</td>\n",
       "      <td>0.809</td>\n",
       "      <td>0.54</td>\n",
       "    </tr>\n",
       "    <tr>\n",
       "      <th>16</th>\n",
       "      <td>17</td>\n",
       "      <td>0.809</td>\n",
       "      <td>0.54</td>\n",
       "    </tr>\n",
       "    <tr>\n",
       "      <th>17</th>\n",
       "      <td>18</td>\n",
       "      <td>0.809</td>\n",
       "      <td>0.54</td>\n",
       "    </tr>\n",
       "    <tr>\n",
       "      <th>18</th>\n",
       "      <td>19</td>\n",
       "      <td>0.809</td>\n",
       "      <td>0.54</td>\n",
       "    </tr>\n",
       "    <tr>\n",
       "      <th>19</th>\n",
       "      <td>20</td>\n",
       "      <td>0.809</td>\n",
       "      <td>0.54</td>\n",
       "    </tr>\n",
       "  </tbody>\n",
       "</table>\n",
       "</div>"
      ],
      "text/plain": [
       "    MinSamplesLeaf  TrainScore  TestScore\n",
       "0                1       0.809       0.54\n",
       "1                2       0.809       0.54\n",
       "2                3       0.809       0.54\n",
       "3                4       0.809       0.54\n",
       "4                5       0.809       0.54\n",
       "5                6       0.809       0.54\n",
       "6                7       0.809       0.54\n",
       "7                8       0.809       0.54\n",
       "8                9       0.809       0.54\n",
       "9               10       0.809       0.54\n",
       "10              11       0.809       0.54\n",
       "11              12       0.809       0.54\n",
       "12              13       0.809       0.54\n",
       "13              14       0.809       0.54\n",
       "14              15       0.809       0.54\n",
       "15              16       0.809       0.54\n",
       "16              17       0.809       0.54\n",
       "17              18       0.809       0.54\n",
       "18              19       0.809       0.54\n",
       "19              20       0.809       0.54"
      ]
     },
     "execution_count": 100,
     "metadata": {},
     "output_type": "execute_result"
    }
   ],
   "source": [
    "# min_samples_leaf:잎사귀 노드의 최소 자료 수 변경에 따른 모델 성능\n",
    "\n",
    "#train 및 test 설명력 결과 저장\n",
    "train_score = []; test_score = []\n",
    "# min_samples_leaf: 잎사귀 최소 자료 수\n",
    "para_leaf = [n_leaf * 1 for n_leaf in range(1, 21)]  # * 참조: para_leaf: [1,2,3,...,20]\n",
    "\n",
    "for v_min_samples_leaf in para_leaf:\n",
    "    gb = GradientBoostingRegressor(random_state=1234, n_estimators=30,\n",
    "                                  min_samples_leaf = v_min_samples_leaf)\n",
    "    gb.fit(df_scaled_train_x, df_scaled_train_y)\n",
    "    train_score.append(rf.score(df_scaled_train_x, df_scaled_train_y))\n",
    "    test_score.append(rf.score(df_scaled_test_x, df_scaled_test_y))\n",
    "    \n",
    "# 결과 저장\n",
    "df_score_leaf = pd.DataFrame()\n",
    "df_score_leaf['MinSamplesLeaf'] = para_leaf\n",
    "df_score_leaf['TrainScore'] = train_score\n",
    "df_score_leaf['TestScore'] = test_score\n",
    "\n",
    "df_score_leaf.round(3)"
   ]
  },
  {
   "cell_type": "code",
   "execution_count": 101,
   "metadata": {},
   "outputs": [
    {
     "data": {
      "text/plain": [
       "<matplotlib.legend.Legend at 0x1674f9e91c0>"
      ]
     },
     "execution_count": 101,
     "metadata": {},
     "output_type": "execute_result"
    },
    {
     "data": {
      "image/png": "[encoded data removed]",
      "text/plain": [
       "<Figure size 432x288 with 1 Axes>"
      ]
     },
     "metadata": {
      "needs_background": "light"
     },
     "output_type": "display_data"
    }
   ],
   "source": [
    "# 모델 설명력 그래프 확인\n",
    "plt.plot(para_leaf, train_score, linestyle='-', label = 'Train Score')\n",
    "plt.plot(para_leaf, test_score, linestyle='--', label = 'Test Score')\n",
    "plt.ylabel('score'); plt.xlabel('min samples leaf')\n",
    "plt.legend()"
   ]
  },
  {
   "cell_type": "markdown",
   "metadata": {},
   "source": [
    "#### 스플릿 노드 수 조절"
   ]
  },
  {
   "cell_type": "code",
   "execution_count": 102,
   "metadata": {},
   "outputs": [
    {
     "data": {
      "text/html": [
       "<div>\n",
       "<style scoped>\n",
       "    .dataframe tbody tr th:only-of-type {\n",
       "        vertical-align: middle;\n",
       "    }\n",
       "\n",
       "    .dataframe tbody tr th {\n",
       "        vertical-align: top;\n",
       "    }\n",
       "\n",
       "    .dataframe thead th {\n",
       "        text-align: right;\n",
       "    }\n",
       "</style>\n",
       "<table border=\"1\" class=\"dataframe\">\n",
       "  <thead>\n",
       "    <tr style=\"text-align: right;\">\n",
       "      <th></th>\n",
       "      <th>MinSamplesSplit</th>\n",
       "      <th>TrainScore</th>\n",
       "      <th>TestScore</th>\n",
       "    </tr>\n",
       "  </thead>\n",
       "  <tbody>\n",
       "    <tr>\n",
       "      <th>0</th>\n",
       "      <td>2</td>\n",
       "      <td>0.720</td>\n",
       "      <td>0.529</td>\n",
       "    </tr>\n",
       "    <tr>\n",
       "      <th>1</th>\n",
       "      <td>4</td>\n",
       "      <td>0.720</td>\n",
       "      <td>0.529</td>\n",
       "    </tr>\n",
       "    <tr>\n",
       "      <th>2</th>\n",
       "      <td>6</td>\n",
       "      <td>0.720</td>\n",
       "      <td>0.529</td>\n",
       "    </tr>\n",
       "    <tr>\n",
       "      <th>3</th>\n",
       "      <td>8</td>\n",
       "      <td>0.720</td>\n",
       "      <td>0.529</td>\n",
       "    </tr>\n",
       "    <tr>\n",
       "      <th>4</th>\n",
       "      <td>10</td>\n",
       "      <td>0.720</td>\n",
       "      <td>0.529</td>\n",
       "    </tr>\n",
       "    <tr>\n",
       "      <th>5</th>\n",
       "      <td>12</td>\n",
       "      <td>0.720</td>\n",
       "      <td>0.529</td>\n",
       "    </tr>\n",
       "    <tr>\n",
       "      <th>6</th>\n",
       "      <td>14</td>\n",
       "      <td>0.720</td>\n",
       "      <td>0.529</td>\n",
       "    </tr>\n",
       "    <tr>\n",
       "      <th>7</th>\n",
       "      <td>16</td>\n",
       "      <td>0.720</td>\n",
       "      <td>0.529</td>\n",
       "    </tr>\n",
       "    <tr>\n",
       "      <th>8</th>\n",
       "      <td>18</td>\n",
       "      <td>0.720</td>\n",
       "      <td>0.529</td>\n",
       "    </tr>\n",
       "    <tr>\n",
       "      <th>9</th>\n",
       "      <td>20</td>\n",
       "      <td>0.720</td>\n",
       "      <td>0.529</td>\n",
       "    </tr>\n",
       "    <tr>\n",
       "      <th>10</th>\n",
       "      <td>22</td>\n",
       "      <td>0.713</td>\n",
       "      <td>0.536</td>\n",
       "    </tr>\n",
       "    <tr>\n",
       "      <th>11</th>\n",
       "      <td>24</td>\n",
       "      <td>0.707</td>\n",
       "      <td>0.541</td>\n",
       "    </tr>\n",
       "    <tr>\n",
       "      <th>12</th>\n",
       "      <td>26</td>\n",
       "      <td>0.704</td>\n",
       "      <td>0.535</td>\n",
       "    </tr>\n",
       "    <tr>\n",
       "      <th>13</th>\n",
       "      <td>28</td>\n",
       "      <td>0.704</td>\n",
       "      <td>0.535</td>\n",
       "    </tr>\n",
       "    <tr>\n",
       "      <th>14</th>\n",
       "      <td>30</td>\n",
       "      <td>0.702</td>\n",
       "      <td>0.538</td>\n",
       "    </tr>\n",
       "    <tr>\n",
       "      <th>15</th>\n",
       "      <td>32</td>\n",
       "      <td>0.702</td>\n",
       "      <td>0.538</td>\n",
       "    </tr>\n",
       "    <tr>\n",
       "      <th>16</th>\n",
       "      <td>34</td>\n",
       "      <td>0.698</td>\n",
       "      <td>0.537</td>\n",
       "    </tr>\n",
       "    <tr>\n",
       "      <th>17</th>\n",
       "      <td>36</td>\n",
       "      <td>0.691</td>\n",
       "      <td>0.537</td>\n",
       "    </tr>\n",
       "    <tr>\n",
       "      <th>18</th>\n",
       "      <td>38</td>\n",
       "      <td>0.691</td>\n",
       "      <td>0.537</td>\n",
       "    </tr>\n",
       "    <tr>\n",
       "      <th>19</th>\n",
       "      <td>40</td>\n",
       "      <td>0.692</td>\n",
       "      <td>0.537</td>\n",
       "    </tr>\n",
       "  </tbody>\n",
       "</table>\n",
       "</div>"
      ],
      "text/plain": [
       "    MinSamplesSplit  TrainScore  TestScore\n",
       "0                 2       0.720      0.529\n",
       "1                 4       0.720      0.529\n",
       "2                 6       0.720      0.529\n",
       "3                 8       0.720      0.529\n",
       "4                10       0.720      0.529\n",
       "5                12       0.720      0.529\n",
       "6                14       0.720      0.529\n",
       "7                16       0.720      0.529\n",
       "8                18       0.720      0.529\n",
       "9                20       0.720      0.529\n",
       "10               22       0.713      0.536\n",
       "11               24       0.707      0.541\n",
       "12               26       0.704      0.535\n",
       "13               28       0.704      0.535\n",
       "14               30       0.702      0.538\n",
       "15               32       0.702      0.538\n",
       "16               34       0.698      0.537\n",
       "17               36       0.691      0.537\n",
       "18               38       0.691      0.537\n",
       "19               40       0.692      0.537"
      ]
     },
     "execution_count": 102,
     "metadata": {},
     "output_type": "execute_result"
    }
   ],
   "source": [
    "# min_samples_split: 분리 노드의 최소 자료 수 변경에 따른 모델 성능\n",
    "\n",
    "#train 및 test 설명력 결과 저장\n",
    "train_score = []; test_score = []\n",
    "# min_samples_leaf: 잎사귀 최소 자료 수\n",
    "para_split = [n_split * 2 for n_split in range(1, 21)]  # * 참조: para_leaf: [1,2,3,...,20]\n",
    "\n",
    "for v_min_samples_split in para_split:\n",
    "    gb = GradientBoostingRegressor(random_state=1234, n_estimators=30, min_samples_leaf = 10,\n",
    "                                  min_samples_split = v_min_samples_split)\n",
    "    gb.fit(df_scaled_train_x, df_scaled_train_y)\n",
    "    train_score.append(gb.score(df_scaled_train_x, df_scaled_train_y))\n",
    "    test_score.append(gb.score(df_scaled_test_x, df_scaled_test_y))\n",
    "    \n",
    "# 결과 저장\n",
    "df_score_split = pd.DataFrame()\n",
    "df_score_split['MinSamplesSplit'] = para_split\n",
    "df_score_split['TrainScore'] = train_score\n",
    "df_score_split['TestScore'] = test_score\n",
    "df_score_split.round(3)"
   ]
  },
  {
   "cell_type": "code",
   "execution_count": 103,
   "metadata": {},
   "outputs": [
    {
     "data": {
      "text/plain": [
       "<matplotlib.legend.Legend at 0x1674fa52970>"
      ]
     },
     "execution_count": 103,
     "metadata": {},
     "output_type": "execute_result"
    },
    {
     "data": {
      "image/png": "[encoded data removed]",
      "text/plain": [
       "<Figure size 432x288 with 1 Axes>"
      ]
     },
     "metadata": {
      "needs_background": "light"
     },
     "output_type": "display_data"
    }
   ],
   "source": [
    "# 모델 설명력 그래프 확인\n",
    "plt.plot(para_split, train_score, linestyle='-', label = 'Train Score')\n",
    "plt.plot(para_split, test_score, linestyle='--', label = 'Test Score')\n",
    "plt.ylabel('score'); plt.xlabel('min samples split')\n",
    "plt.legend()"
   ]
  },
  {
   "cell_type": "markdown",
   "metadata": {},
   "source": [
    "#### 최대 깊이 조절"
   ]
  },
  {
   "cell_type": "code",
   "execution_count": 104,
   "metadata": {},
   "outputs": [
    {
     "data": {
      "text/html": [
       "<div>\n",
       "<style scoped>\n",
       "    .dataframe tbody tr th:only-of-type {\n",
       "        vertical-align: middle;\n",
       "    }\n",
       "\n",
       "    .dataframe tbody tr th {\n",
       "        vertical-align: top;\n",
       "    }\n",
       "\n",
       "    .dataframe thead th {\n",
       "        text-align: right;\n",
       "    }\n",
       "</style>\n",
       "<table border=\"1\" class=\"dataframe\">\n",
       "  <thead>\n",
       "    <tr style=\"text-align: right;\">\n",
       "      <th></th>\n",
       "      <th>depth</th>\n",
       "      <th>TrainScore</th>\n",
       "      <th>TestScore</th>\n",
       "    </tr>\n",
       "  </thead>\n",
       "  <tbody>\n",
       "    <tr>\n",
       "      <th>0</th>\n",
       "      <td>1</td>\n",
       "      <td>0.398</td>\n",
       "      <td>0.375</td>\n",
       "    </tr>\n",
       "    <tr>\n",
       "      <th>1</th>\n",
       "      <td>2</td>\n",
       "      <td>0.599</td>\n",
       "      <td>0.515</td>\n",
       "    </tr>\n",
       "    <tr>\n",
       "      <th>2</th>\n",
       "      <td>3</td>\n",
       "      <td>0.707</td>\n",
       "      <td>0.541</td>\n",
       "    </tr>\n",
       "    <tr>\n",
       "      <th>3</th>\n",
       "      <td>4</td>\n",
       "      <td>0.791</td>\n",
       "      <td>0.507</td>\n",
       "    </tr>\n",
       "    <tr>\n",
       "      <th>4</th>\n",
       "      <td>5</td>\n",
       "      <td>0.830</td>\n",
       "      <td>0.505</td>\n",
       "    </tr>\n",
       "    <tr>\n",
       "      <th>5</th>\n",
       "      <td>6</td>\n",
       "      <td>0.849</td>\n",
       "      <td>0.500</td>\n",
       "    </tr>\n",
       "    <tr>\n",
       "      <th>6</th>\n",
       "      <td>7</td>\n",
       "      <td>0.854</td>\n",
       "      <td>0.507</td>\n",
       "    </tr>\n",
       "    <tr>\n",
       "      <th>7</th>\n",
       "      <td>8</td>\n",
       "      <td>0.861</td>\n",
       "      <td>0.491</td>\n",
       "    </tr>\n",
       "    <tr>\n",
       "      <th>8</th>\n",
       "      <td>9</td>\n",
       "      <td>0.861</td>\n",
       "      <td>0.501</td>\n",
       "    </tr>\n",
       "    <tr>\n",
       "      <th>9</th>\n",
       "      <td>10</td>\n",
       "      <td>0.861</td>\n",
       "      <td>0.501</td>\n",
       "    </tr>\n",
       "    <tr>\n",
       "      <th>10</th>\n",
       "      <td>11</td>\n",
       "      <td>0.861</td>\n",
       "      <td>0.501</td>\n",
       "    </tr>\n",
       "    <tr>\n",
       "      <th>11</th>\n",
       "      <td>12</td>\n",
       "      <td>0.861</td>\n",
       "      <td>0.501</td>\n",
       "    </tr>\n",
       "    <tr>\n",
       "      <th>12</th>\n",
       "      <td>13</td>\n",
       "      <td>0.861</td>\n",
       "      <td>0.501</td>\n",
       "    </tr>\n",
       "    <tr>\n",
       "      <th>13</th>\n",
       "      <td>14</td>\n",
       "      <td>0.861</td>\n",
       "      <td>0.501</td>\n",
       "    </tr>\n",
       "    <tr>\n",
       "      <th>14</th>\n",
       "      <td>15</td>\n",
       "      <td>0.861</td>\n",
       "      <td>0.501</td>\n",
       "    </tr>\n",
       "    <tr>\n",
       "      <th>15</th>\n",
       "      <td>16</td>\n",
       "      <td>0.861</td>\n",
       "      <td>0.501</td>\n",
       "    </tr>\n",
       "    <tr>\n",
       "      <th>16</th>\n",
       "      <td>17</td>\n",
       "      <td>0.861</td>\n",
       "      <td>0.501</td>\n",
       "    </tr>\n",
       "    <tr>\n",
       "      <th>17</th>\n",
       "      <td>18</td>\n",
       "      <td>0.861</td>\n",
       "      <td>0.501</td>\n",
       "    </tr>\n",
       "    <tr>\n",
       "      <th>18</th>\n",
       "      <td>19</td>\n",
       "      <td>0.861</td>\n",
       "      <td>0.501</td>\n",
       "    </tr>\n",
       "    <tr>\n",
       "      <th>19</th>\n",
       "      <td>20</td>\n",
       "      <td>0.861</td>\n",
       "      <td>0.501</td>\n",
       "    </tr>\n",
       "  </tbody>\n",
       "</table>\n",
       "</div>"
      ],
      "text/plain": [
       "    depth  TrainScore  TestScore\n",
       "0       1       0.398      0.375\n",
       "1       2       0.599      0.515\n",
       "2       3       0.707      0.541\n",
       "3       4       0.791      0.507\n",
       "4       5       0.830      0.505\n",
       "5       6       0.849      0.500\n",
       "6       7       0.854      0.507\n",
       "7       8       0.861      0.491\n",
       "8       9       0.861      0.501\n",
       "9      10       0.861      0.501\n",
       "10     11       0.861      0.501\n",
       "11     12       0.861      0.501\n",
       "12     13       0.861      0.501\n",
       "13     14       0.861      0.501\n",
       "14     15       0.861      0.501\n",
       "15     16       0.861      0.501\n",
       "16     17       0.861      0.501\n",
       "17     18       0.861      0.501\n",
       "18     19       0.861      0.501\n",
       "19     20       0.861      0.501"
      ]
     },
     "execution_count": 104,
     "metadata": {},
     "output_type": "execute_result"
    }
   ],
   "source": [
    "# max_depth: 최대 깊이 변경에 따른 모델 성능\n",
    "\n",
    "#train 및 test 설명력 결과 저장\n",
    "train_score = []; test_score = []\n",
    "# min_samples_leaf: 잎사귀 최소 자료 수\n",
    "para_depth = [depth for depth in range(1, 21)]  # * 참조: para_depth: [1,2,3,...,10]\n",
    "\n",
    "for v_max_depth in para_depth:\n",
    "    gb = GradientBoostingRegressor(random_state=1234, n_estimators=30, min_samples_leaf = 10,\n",
    "                                  min_samples_split = 24, max_depth = v_max_depth)\n",
    "    gb.fit(df_scaled_train_x, df_scaled_train_y)\n",
    "    train_score.append(gb.score(df_scaled_train_x, df_scaled_train_y))\n",
    "    test_score.append(gb.score(df_scaled_test_x, df_scaled_test_y))\n",
    "    \n",
    "# 결과 저장\n",
    "df_score_depth = pd.DataFrame()\n",
    "df_score_depth['depth'] = para_depth\n",
    "df_score_depth['TrainScore'] = train_score\n",
    "df_score_depth['TestScore'] = test_score\n",
    "\n",
    "df_score_depth.round(3)"
   ]
  },
  {
   "cell_type": "code",
   "execution_count": 105,
   "metadata": {},
   "outputs": [
    {
     "data": {
      "text/plain": [
       "<matplotlib.legend.Legend at 0x1674fabe880>"
      ]
     },
     "execution_count": 105,
     "metadata": {},
     "output_type": "execute_result"
    },
    {
     "data": {
      "image/png": "[encoded data removed]",
      "text/plain": [
       "<Figure size 432x288 with 1 Axes>"
      ]
     },
     "metadata": {
      "needs_background": "light"
     },
     "output_type": "display_data"
    }
   ],
   "source": [
    "# 모델 설명력 그래프 확인\n",
    "plt.plot(para_depth, train_score, linestyle='-', label = 'Train Score')\n",
    "plt.plot(para_depth, test_score, linestyle='--', label = 'Test Score')\n",
    "plt.ylabel('score'); plt.xlabel('depth')\n",
    "plt.legend()"
   ]
  },
  {
   "cell_type": "markdown",
   "metadata": {},
   "source": [
    "#### 학습률에 따른 변경"
   ]
  },
  {
   "cell_type": "code",
   "execution_count": 106,
   "metadata": {},
   "outputs": [
    {
     "data": {
      "text/html": [
       "<div>\n",
       "<style scoped>\n",
       "    .dataframe tbody tr th:only-of-type {\n",
       "        vertical-align: middle;\n",
       "    }\n",
       "\n",
       "    .dataframe tbody tr th {\n",
       "        vertical-align: top;\n",
       "    }\n",
       "\n",
       "    .dataframe thead th {\n",
       "        text-align: right;\n",
       "    }\n",
       "</style>\n",
       "<table border=\"1\" class=\"dataframe\">\n",
       "  <thead>\n",
       "    <tr style=\"text-align: right;\">\n",
       "      <th></th>\n",
       "      <th>LearningRate</th>\n",
       "      <th>TrainScore</th>\n",
       "      <th>TestScore</th>\n",
       "    </tr>\n",
       "  </thead>\n",
       "  <tbody>\n",
       "    <tr>\n",
       "      <th>0</th>\n",
       "      <td>0.1</td>\n",
       "      <td>0.707</td>\n",
       "      <td>0.541</td>\n",
       "    </tr>\n",
       "    <tr>\n",
       "      <th>1</th>\n",
       "      <td>0.2</td>\n",
       "      <td>0.815</td>\n",
       "      <td>0.517</td>\n",
       "    </tr>\n",
       "    <tr>\n",
       "      <th>2</th>\n",
       "      <td>0.3</td>\n",
       "      <td>0.874</td>\n",
       "      <td>0.512</td>\n",
       "    </tr>\n",
       "    <tr>\n",
       "      <th>3</th>\n",
       "      <td>0.4</td>\n",
       "      <td>0.899</td>\n",
       "      <td>0.510</td>\n",
       "    </tr>\n",
       "    <tr>\n",
       "      <th>4</th>\n",
       "      <td>0.5</td>\n",
       "      <td>0.919</td>\n",
       "      <td>0.482</td>\n",
       "    </tr>\n",
       "    <tr>\n",
       "      <th>5</th>\n",
       "      <td>0.6</td>\n",
       "      <td>0.941</td>\n",
       "      <td>0.436</td>\n",
       "    </tr>\n",
       "    <tr>\n",
       "      <th>6</th>\n",
       "      <td>0.7</td>\n",
       "      <td>0.940</td>\n",
       "      <td>0.442</td>\n",
       "    </tr>\n",
       "    <tr>\n",
       "      <th>7</th>\n",
       "      <td>0.8</td>\n",
       "      <td>0.957</td>\n",
       "      <td>0.367</td>\n",
       "    </tr>\n",
       "    <tr>\n",
       "      <th>8</th>\n",
       "      <td>0.9</td>\n",
       "      <td>0.960</td>\n",
       "      <td>0.365</td>\n",
       "    </tr>\n",
       "  </tbody>\n",
       "</table>\n",
       "</div>"
      ],
      "text/plain": [
       "   LearningRate  TrainScore  TestScore\n",
       "0           0.1       0.707      0.541\n",
       "1           0.2       0.815      0.517\n",
       "2           0.3       0.874      0.512\n",
       "3           0.4       0.899      0.510\n",
       "4           0.5       0.919      0.482\n",
       "5           0.6       0.941      0.436\n",
       "6           0.7       0.940      0.442\n",
       "7           0.8       0.957      0.367\n",
       "8           0.9       0.960      0.365"
      ]
     },
     "execution_count": 106,
     "metadata": {},
     "output_type": "execute_result"
    }
   ],
   "source": [
    "#train 및 test 설명력 결과 저장\n",
    "train_score = []; test_score = []\n",
    "# learning rate: 학습률 변경에 따른 모델 성능\n",
    "para_lr = [lr * 0.1 for lr in range(1, 10)]  # * 참조: para_depth: [0.1,0.2,0.3,...,0.9]\n",
    "\n",
    "for v_learning_rate in para_lr:\n",
    "    gb = GradientBoostingRegressor(random_state=1234, n_estimators=30, min_samples_leaf = 10,\n",
    "                                  min_samples_split = 24, max_depth = 3, learning_rate = v_learning_rate)\n",
    "    gb.fit(df_scaled_train_x, df_scaled_train_y)\n",
    "    train_score.append(gb.score(df_scaled_train_x, df_scaled_train_y))\n",
    "    test_score.append(gb.score(df_scaled_test_x, df_scaled_test_y))\n",
    "    \n",
    "# 결과 저장\n",
    "df_score_lr = pd.DataFrame()\n",
    "df_score_lr['LearningRate'] = para_lr\n",
    "df_score_lr['TrainScore'] = train_score\n",
    "df_score_lr['TestScore'] = test_score\n",
    "\n",
    "df_score_lr.round(3)"
   ]
  },
  {
   "cell_type": "code",
   "execution_count": 107,
   "metadata": {},
   "outputs": [
    {
     "data": {
      "text/plain": [
       "<matplotlib.legend.Legend at 0x1674fb2c1f0>"
      ]
     },
     "execution_count": 107,
     "metadata": {},
     "output_type": "execute_result"
    },
    {
     "data": {
      "image/png": "[encoded data removed]",
      "text/plain": [
       "<Figure size 432x288 with 1 Axes>"
      ]
     },
     "metadata": {
      "needs_background": "light"
     },
     "output_type": "display_data"
    }
   ],
   "source": [
    "# 모델 설명력 그래프 확인\n",
    "plt.plot(para_lr, train_score, linestyle='-', label = 'Train Score')\n",
    "plt.plot(para_lr, test_score, linestyle='--', label = 'Test Score')\n",
    "plt.ylabel('score'); plt.xlabel('learning rate')\n",
    "plt.legend()"
   ]
  },
  {
   "cell_type": "markdown",
   "metadata": {},
   "source": [
    "\n",
    "#### 최종 모델 "
   ]
  },
  {
   "cell_type": "code",
   "execution_count": 121,
   "metadata": {},
   "outputs": [
    {
     "name": "stdout",
     "output_type": "stream",
     "text": [
      "Score on training set: 0.707\n",
      "Score on test set: 0.541\n"
     ]
    }
   ],
   "source": [
    "# 결론 도출 - 최종 모델 선택\n",
    "gb_final = GradientBoostingRegressor(random_state=1234, n_estimators=30, min_samples_leaf = 10,\n",
    "                                  min_samples_split = 24, max_depth = 3, learning_rate = 0.1)\n",
    "gb_final.fit(df_scaled_train_x, df_scaled_train_y)\n",
    "\n",
    "print('Score on training set: {:.3f}'.format(gb_final.score(df_scaled_train_x, df_scaled_train_y)))\n",
    "print('Score on test set: {:.3f}'.format(gb_final.score(df_scaled_test_x, df_scaled_test_y)))"
   ]
  },
  {
   "cell_type": "markdown",
   "metadata": {},
   "source": [
    "#### 변수 중요도"
   ]
  },
  {
   "cell_type": "code",
   "execution_count": 122,
   "metadata": {},
   "outputs": [
    {
     "data": {
      "text/html": [
       "<div>\n",
       "<style scoped>\n",
       "    .dataframe tbody tr th:only-of-type {\n",
       "        vertical-align: middle;\n",
       "    }\n",
       "\n",
       "    .dataframe tbody tr th {\n",
       "        vertical-align: top;\n",
       "    }\n",
       "\n",
       "    .dataframe thead th {\n",
       "        text-align: right;\n",
       "    }\n",
       "</style>\n",
       "<table border=\"1\" class=\"dataframe\">\n",
       "  <thead>\n",
       "    <tr style=\"text-align: right;\">\n",
       "      <th></th>\n",
       "      <th>Feature</th>\n",
       "      <th>Importance</th>\n",
       "    </tr>\n",
       "  </thead>\n",
       "  <tbody>\n",
       "    <tr>\n",
       "      <th>2</th>\n",
       "      <td>CO</td>\n",
       "      <td>0.500</td>\n",
       "    </tr>\n",
       "    <tr>\n",
       "      <th>0</th>\n",
       "      <td>O3</td>\n",
       "      <td>0.149</td>\n",
       "    </tr>\n",
       "    <tr>\n",
       "      <th>11</th>\n",
       "      <td>Season_봄</td>\n",
       "      <td>0.063</td>\n",
       "    </tr>\n",
       "    <tr>\n",
       "      <th>8</th>\n",
       "      <td>CLOUD</td>\n",
       "      <td>0.058</td>\n",
       "    </tr>\n",
       "    <tr>\n",
       "      <th>6</th>\n",
       "      <td>HUMIDITY</td>\n",
       "      <td>0.056</td>\n",
       "    </tr>\n",
       "    <tr>\n",
       "      <th>4</th>\n",
       "      <td>TEMP</td>\n",
       "      <td>0.056</td>\n",
       "    </tr>\n",
       "    <tr>\n",
       "      <th>5</th>\n",
       "      <td>WIND</td>\n",
       "      <td>0.025</td>\n",
       "    </tr>\n",
       "    <tr>\n",
       "      <th>7</th>\n",
       "      <td>ATM_PRESS</td>\n",
       "      <td>0.025</td>\n",
       "    </tr>\n",
       "    <tr>\n",
       "      <th>16</th>\n",
       "      <td>WIND_DIR_4_W</td>\n",
       "      <td>0.022</td>\n",
       "    </tr>\n",
       "    <tr>\n",
       "      <th>13</th>\n",
       "      <td>WIND_DIR_4_E</td>\n",
       "      <td>0.013</td>\n",
       "    </tr>\n",
       "    <tr>\n",
       "      <th>1</th>\n",
       "      <td>NO2</td>\n",
       "      <td>0.012</td>\n",
       "    </tr>\n",
       "    <tr>\n",
       "      <th>9</th>\n",
       "      <td>Season_가을</td>\n",
       "      <td>0.010</td>\n",
       "    </tr>\n",
       "    <tr>\n",
       "      <th>15</th>\n",
       "      <td>WIND_DIR_4_S</td>\n",
       "      <td>0.006</td>\n",
       "    </tr>\n",
       "    <tr>\n",
       "      <th>3</th>\n",
       "      <td>SO2</td>\n",
       "      <td>0.005</td>\n",
       "    </tr>\n",
       "    <tr>\n",
       "      <th>10</th>\n",
       "      <td>Season_겨울</td>\n",
       "      <td>0.000</td>\n",
       "    </tr>\n",
       "    <tr>\n",
       "      <th>12</th>\n",
       "      <td>Season_여름</td>\n",
       "      <td>0.000</td>\n",
       "    </tr>\n",
       "    <tr>\n",
       "      <th>14</th>\n",
       "      <td>WIND_DIR_4_N</td>\n",
       "      <td>0.000</td>\n",
       "    </tr>\n",
       "  </tbody>\n",
       "</table>\n",
       "</div>"
      ],
      "text/plain": [
       "         Feature  Importance\n",
       "2             CO       0.500\n",
       "0             O3       0.149\n",
       "11      Season_봄       0.063\n",
       "8          CLOUD       0.058\n",
       "6       HUMIDITY       0.056\n",
       "4           TEMP       0.056\n",
       "5           WIND       0.025\n",
       "7      ATM_PRESS       0.025\n",
       "16  WIND_DIR_4_W       0.022\n",
       "13  WIND_DIR_4_E       0.013\n",
       "1            NO2       0.012\n",
       "9      Season_가을       0.010\n",
       "15  WIND_DIR_4_S       0.006\n",
       "3            SO2       0.005\n",
       "10     Season_겨울       0.000\n",
       "12     Season_여름       0.000\n",
       "14  WIND_DIR_4_N       0.000"
      ]
     },
     "execution_count": 122,
     "metadata": {},
     "output_type": "execute_result"
    }
   ],
   "source": [
    "# feature_importances_: 설명변수의 중요도\n",
    "# 변수명 저장\n",
    "v_feature_name = df_scaled_train_x.columns\n",
    "\n",
    "#tree.feature_importances_로 설명변수 중요도 확인 및 테이블로 저장\n",
    "df_importance = pd.DataFrame()\n",
    "df_importance['Feature'] = v_feature_name\n",
    "df_importance['Importance'] = gb_final.feature_importances_\n",
    "\n",
    "# df_feature_importance의 테이블을 중요도별로 정렬\n",
    "df_importance.sort_values('Importance', ascending=False, inplace=True)\n",
    "df_importance.round(3)"
   ]
  },
  {
   "cell_type": "code",
   "execution_count": 123,
   "metadata": {},
   "outputs": [
    {
     "data": {
      "text/plain": [
       "Text(0, 0.5, '변수')"
      ]
     },
     "execution_count": 123,
     "metadata": {},
     "output_type": "execute_result"
    },
    {
     "data": {
      "image/png": "[encoded data removed]",
      "text/plain": [
       "<Figure size 432x288 with 1 Axes>"
      ]
     },
     "metadata": {
      "needs_background": "light"
     },
     "output_type": "display_data"
    }
   ],
   "source": [
    "# 설명변수 중요도 그래프\n",
    "# 중요도가 높은 변수를 상위에 그림\n",
    "df_importance.sort_values('Importance',ascending=True, inplace=True)\n",
    "coordinates = range(len(df_importance))\n",
    "plt.barh(y = coordinates, width = df_importance['Importance'])\n",
    "plt.yticks(coordinates, df_importance['Feature'])\n",
    "plt.xlabel('변수 중요도')\n",
    "plt.ylabel('변수')"
   ]
  },
  {
   "cell_type": "markdown",
   "metadata": {},
   "source": [
    "---\n",
    "# 7. 모델 평가"
   ]
  },
  {
   "cell_type": "markdown",
   "metadata": {},
   "source": [
    "#### 평가함수 정의"
   ]
  },
  {
   "cell_type": "code",
   "execution_count": 124,
   "metadata": {},
   "outputs": [],
   "source": [
    "def root_mean_squared_error(y_true,y_pred):\n",
    "    return np.sqrt(mean_squared_error(y_true,y_pred))\n",
    "\n",
    "def mean_absolute_percentage_error(y_true,y_pred):\n",
    "    return np.mean(np.abs((y_true-y_pred)/y_true))*100 \n",
    "\n",
    "models = ['DT','RF','GD']\n",
    "mse,rmse,mae,mape =[],[],[],[]\n"
   ]
  },
  {
   "cell_type": "markdown",
   "metadata": {},
   "source": [
    "#### 예측 및 평가"
   ]
  },
  {
   "cell_type": "code",
   "execution_count": 145,
   "metadata": {},
   "outputs": [],
   "source": [
    "#의사결정나무\n",
    "\n",
    "dt_y_pred = tree_final.predict(df_test_x)\n",
    "\n",
    "mse.append(mean_squared_error(df_test_y,dt_y_pred))\n",
    "rmse.append(root_mean_squared_error(df_test_y,dt_y_pred))\n",
    "mae.append(mean_absolute_error(df_test_y,dt_y_pred))\n",
    "mape.append(mean_absolute_percentage_error(df_test_y,dt_y_pred))"
   ]
  },
  {
   "cell_type": "code",
   "execution_count": 154,
   "metadata": {},
   "outputs": [],
   "source": [
    "# 랜덤포레스트\n",
    "\n",
    "rf_y_pred = rf_final.predict(df_test_x)\n",
    "\n",
    "mse.append(mean_squared_error(df_test_y,rf_y_pred))\n",
    "rmse.append(root_mean_squared_error(df_test_y,rf_y_pred))\n",
    "mae.append(mean_absolute_error(df_test_y,rf_y_pred))\n",
    "mape.append(mean_absolute_percentage_error(df_test_y,rf_y_pred))"
   ]
  },
  {
   "cell_type": "code",
   "execution_count": 157,
   "metadata": {},
   "outputs": [],
   "source": [
    "# 그래디언트 부스팅\n",
    "\n",
    "gb_y_pred = gb_final.predict(df_test_x)\n",
    "\n",
    "\n",
    "mse.append(mean_squared_error(df_test_y,gb_y_pred))\n",
    "rmse.append(root_mean_squared_error(df_test_y,gb_y_pred))\n",
    "mae.append(mean_absolute_error(df_test_y,gb_y_pred))\n",
    "mape.append(mean_absolute_percentage_error(df_test_y,gb_y_pred))"
   ]
  },
  {
   "cell_type": "markdown",
   "metadata": {},
   "source": [
    "#### 시각화"
   ]
  },
  {
   "cell_type": "code",
   "execution_count": 158,
   "metadata": {
    "scrolled": true
   },
   "outputs": [
    {
     "ename": "ValueError",
     "evalue": "shape mismatch: objects cannot be broadcast to a single shape",
     "output_type": "error",
     "traceback": [
      "\u001b[1;31m---------------------------------------------------------------------------\u001b[0m",
      "\u001b[1;31mValueError\u001b[0m                                Traceback (most recent call last)",
      "\u001b[1;32m<ipython-input-158-285159787051>\u001b[0m in \u001b[0;36m<module>\u001b[1;34m\u001b[0m\n\u001b[0;32m      1\u001b[0m \u001b[0mfig\u001b[0m\u001b[1;33m,\u001b[0m \u001b[0max\u001b[0m \u001b[1;33m=\u001b[0m \u001b[0mplt\u001b[0m\u001b[1;33m.\u001b[0m\u001b[0msubplots\u001b[0m\u001b[1;33m(\u001b[0m\u001b[1;36m2\u001b[0m\u001b[1;33m,\u001b[0m\u001b[1;36m2\u001b[0m\u001b[1;33m,\u001b[0m \u001b[0mfigsize\u001b[0m \u001b[1;33m=\u001b[0m \u001b[1;33m(\u001b[0m\u001b[1;36m13\u001b[0m\u001b[1;33m,\u001b[0m\u001b[1;36m10\u001b[0m\u001b[1;33m)\u001b[0m\u001b[1;33m)\u001b[0m\u001b[1;33m\u001b[0m\u001b[1;33m\u001b[0m\u001b[0m\n\u001b[1;32m----> 2\u001b[1;33m \u001b[0max\u001b[0m\u001b[1;33m[\u001b[0m\u001b[1;36m0\u001b[0m\u001b[1;33m,\u001b[0m \u001b[1;36m0\u001b[0m\u001b[1;33m]\u001b[0m\u001b[1;33m.\u001b[0m\u001b[0mbar\u001b[0m\u001b[1;33m(\u001b[0m\u001b[0mmodels\u001b[0m\u001b[1;33m,\u001b[0m \u001b[0mmse\u001b[0m\u001b[1;33m)\u001b[0m\u001b[1;33m\u001b[0m\u001b[1;33m\u001b[0m\u001b[0m\n\u001b[0m\u001b[0;32m      3\u001b[0m \u001b[0max\u001b[0m\u001b[1;33m[\u001b[0m\u001b[1;36m0\u001b[0m\u001b[1;33m,\u001b[0m \u001b[1;36m0\u001b[0m\u001b[1;33m]\u001b[0m\u001b[1;33m.\u001b[0m\u001b[0mset_title\u001b[0m\u001b[1;33m(\u001b[0m\u001b[1;34m\"mse\"\u001b[0m\u001b[1;33m)\u001b[0m\u001b[1;33m.\u001b[0m\u001b[0mset_fontsize\u001b[0m\u001b[1;33m(\u001b[0m\u001b[1;36m15\u001b[0m\u001b[1;33m)\u001b[0m\u001b[1;33m\u001b[0m\u001b[1;33m\u001b[0m\u001b[0m\n\u001b[0;32m      4\u001b[0m \u001b[1;33m\u001b[0m\u001b[0m\n\u001b[0;32m      5\u001b[0m \u001b[0max\u001b[0m\u001b[1;33m[\u001b[0m\u001b[1;36m0\u001b[0m\u001b[1;33m,\u001b[0m \u001b[1;36m1\u001b[0m\u001b[1;33m]\u001b[0m\u001b[1;33m.\u001b[0m\u001b[0mbar\u001b[0m\u001b[1;33m(\u001b[0m\u001b[0mmodels\u001b[0m\u001b[1;33m,\u001b[0m \u001b[0mrmse\u001b[0m\u001b[1;33m)\u001b[0m\u001b[1;33m\u001b[0m\u001b[1;33m\u001b[0m\u001b[0m\n",
      "\u001b[1;32m~\\anaconda3\\lib\\site-packages\\matplotlib\\__init__.py\u001b[0m in \u001b[0;36minner\u001b[1;34m(ax, data, *args, **kwargs)\u001b[0m\n\u001b[0;32m   1436\u001b[0m     \u001b[1;32mdef\u001b[0m \u001b[0minner\u001b[0m\u001b[1;33m(\u001b[0m\u001b[0max\u001b[0m\u001b[1;33m,\u001b[0m \u001b[1;33m*\u001b[0m\u001b[0margs\u001b[0m\u001b[1;33m,\u001b[0m \u001b[0mdata\u001b[0m\u001b[1;33m=\u001b[0m\u001b[1;32mNone\u001b[0m\u001b[1;33m,\u001b[0m \u001b[1;33m**\u001b[0m\u001b[0mkwargs\u001b[0m\u001b[1;33m)\u001b[0m\u001b[1;33m:\u001b[0m\u001b[1;33m\u001b[0m\u001b[1;33m\u001b[0m\u001b[0m\n\u001b[0;32m   1437\u001b[0m         \u001b[1;32mif\u001b[0m \u001b[0mdata\u001b[0m \u001b[1;32mis\u001b[0m \u001b[1;32mNone\u001b[0m\u001b[1;33m:\u001b[0m\u001b[1;33m\u001b[0m\u001b[1;33m\u001b[0m\u001b[0m\n\u001b[1;32m-> 1438\u001b[1;33m             \u001b[1;32mreturn\u001b[0m \u001b[0mfunc\u001b[0m\u001b[1;33m(\u001b[0m\u001b[0max\u001b[0m\u001b[1;33m,\u001b[0m \u001b[1;33m*\u001b[0m\u001b[0mmap\u001b[0m\u001b[1;33m(\u001b[0m\u001b[0msanitize_sequence\u001b[0m\u001b[1;33m,\u001b[0m \u001b[0margs\u001b[0m\u001b[1;33m)\u001b[0m\u001b[1;33m,\u001b[0m \u001b[1;33m**\u001b[0m\u001b[0mkwargs\u001b[0m\u001b[1;33m)\u001b[0m\u001b[1;33m\u001b[0m\u001b[1;33m\u001b[0m\u001b[0m\n\u001b[0m\u001b[0;32m   1439\u001b[0m \u001b[1;33m\u001b[0m\u001b[0m\n\u001b[0;32m   1440\u001b[0m         \u001b[0mbound\u001b[0m \u001b[1;33m=\u001b[0m \u001b[0mnew_sig\u001b[0m\u001b[1;33m.\u001b[0m\u001b[0mbind\u001b[0m\u001b[1;33m(\u001b[0m\u001b[0max\u001b[0m\u001b[1;33m,\u001b[0m \u001b[1;33m*\u001b[0m\u001b[0margs\u001b[0m\u001b[1;33m,\u001b[0m \u001b[1;33m**\u001b[0m\u001b[0mkwargs\u001b[0m\u001b[1;33m)\u001b[0m\u001b[1;33m\u001b[0m\u001b[1;33m\u001b[0m\u001b[0m\n",
      "\u001b[1;32m~\\anaconda3\\lib\\site-packages\\matplotlib\\axes\\_axes.py\u001b[0m in \u001b[0;36mbar\u001b[1;34m(self, x, height, width, bottom, align, **kwargs)\u001b[0m\n\u001b[0;32m   2428\u001b[0m                 \u001b[0myerr\u001b[0m \u001b[1;33m=\u001b[0m \u001b[0mself\u001b[0m\u001b[1;33m.\u001b[0m\u001b[0m_convert_dx\u001b[0m\u001b[1;33m(\u001b[0m\u001b[0myerr\u001b[0m\u001b[1;33m,\u001b[0m \u001b[0my0\u001b[0m\u001b[1;33m,\u001b[0m \u001b[0my\u001b[0m\u001b[1;33m,\u001b[0m \u001b[0mself\u001b[0m\u001b[1;33m.\u001b[0m\u001b[0mconvert_yunits\u001b[0m\u001b[1;33m)\u001b[0m\u001b[1;33m\u001b[0m\u001b[1;33m\u001b[0m\u001b[0m\n\u001b[0;32m   2429\u001b[0m \u001b[1;33m\u001b[0m\u001b[0m\n\u001b[1;32m-> 2430\u001b[1;33m         x, height, width, y, linewidth = np.broadcast_arrays(\n\u001b[0m\u001b[0;32m   2431\u001b[0m             \u001b[1;31m# Make args iterable too.\u001b[0m\u001b[1;33m\u001b[0m\u001b[1;33m\u001b[0m\u001b[1;33m\u001b[0m\u001b[0m\n\u001b[0;32m   2432\u001b[0m             np.atleast_1d(x), height, width, y, linewidth)\n",
      "\u001b[1;32m<__array_function__ internals>\u001b[0m in \u001b[0;36mbroadcast_arrays\u001b[1;34m(*args, **kwargs)\u001b[0m\n",
      "\u001b[1;32m~\\anaconda3\\lib\\site-packages\\numpy\\lib\\stride_tricks.py\u001b[0m in \u001b[0;36mbroadcast_arrays\u001b[1;34m(subok, *args)\u001b[0m\n\u001b[0;32m    256\u001b[0m     \u001b[0margs\u001b[0m \u001b[1;33m=\u001b[0m \u001b[1;33m[\u001b[0m\u001b[0mnp\u001b[0m\u001b[1;33m.\u001b[0m\u001b[0marray\u001b[0m\u001b[1;33m(\u001b[0m\u001b[0m_m\u001b[0m\u001b[1;33m,\u001b[0m \u001b[0mcopy\u001b[0m\u001b[1;33m=\u001b[0m\u001b[1;32mFalse\u001b[0m\u001b[1;33m,\u001b[0m \u001b[0msubok\u001b[0m\u001b[1;33m=\u001b[0m\u001b[0msubok\u001b[0m\u001b[1;33m)\u001b[0m \u001b[1;32mfor\u001b[0m \u001b[0m_m\u001b[0m \u001b[1;32min\u001b[0m \u001b[0margs\u001b[0m\u001b[1;33m]\u001b[0m\u001b[1;33m\u001b[0m\u001b[1;33m\u001b[0m\u001b[0m\n\u001b[0;32m    257\u001b[0m \u001b[1;33m\u001b[0m\u001b[0m\n\u001b[1;32m--> 258\u001b[1;33m     \u001b[0mshape\u001b[0m \u001b[1;33m=\u001b[0m \u001b[0m_broadcast_shape\u001b[0m\u001b[1;33m(\u001b[0m\u001b[1;33m*\u001b[0m\u001b[0margs\u001b[0m\u001b[1;33m)\u001b[0m\u001b[1;33m\u001b[0m\u001b[1;33m\u001b[0m\u001b[0m\n\u001b[0m\u001b[0;32m    259\u001b[0m \u001b[1;33m\u001b[0m\u001b[0m\n\u001b[0;32m    260\u001b[0m     \u001b[1;32mif\u001b[0m \u001b[0mall\u001b[0m\u001b[1;33m(\u001b[0m\u001b[0marray\u001b[0m\u001b[1;33m.\u001b[0m\u001b[0mshape\u001b[0m \u001b[1;33m==\u001b[0m \u001b[0mshape\u001b[0m \u001b[1;32mfor\u001b[0m \u001b[0marray\u001b[0m \u001b[1;32min\u001b[0m \u001b[0margs\u001b[0m\u001b[1;33m)\u001b[0m\u001b[1;33m:\u001b[0m\u001b[1;33m\u001b[0m\u001b[1;33m\u001b[0m\u001b[0m\n",
      "\u001b[1;32m~\\anaconda3\\lib\\site-packages\\numpy\\lib\\stride_tricks.py\u001b[0m in \u001b[0;36m_broadcast_shape\u001b[1;34m(*args)\u001b[0m\n\u001b[0;32m    187\u001b[0m     \u001b[1;31m# use the old-iterator because np.nditer does not handle size 0 arrays\u001b[0m\u001b[1;33m\u001b[0m\u001b[1;33m\u001b[0m\u001b[1;33m\u001b[0m\u001b[0m\n\u001b[0;32m    188\u001b[0m     \u001b[1;31m# consistently\u001b[0m\u001b[1;33m\u001b[0m\u001b[1;33m\u001b[0m\u001b[1;33m\u001b[0m\u001b[0m\n\u001b[1;32m--> 189\u001b[1;33m     \u001b[0mb\u001b[0m \u001b[1;33m=\u001b[0m \u001b[0mnp\u001b[0m\u001b[1;33m.\u001b[0m\u001b[0mbroadcast\u001b[0m\u001b[1;33m(\u001b[0m\u001b[1;33m*\u001b[0m\u001b[0margs\u001b[0m\u001b[1;33m[\u001b[0m\u001b[1;33m:\u001b[0m\u001b[1;36m32\u001b[0m\u001b[1;33m]\u001b[0m\u001b[1;33m)\u001b[0m\u001b[1;33m\u001b[0m\u001b[1;33m\u001b[0m\u001b[0m\n\u001b[0m\u001b[0;32m    190\u001b[0m     \u001b[1;31m# unfortunately, it cannot handle 32 or more arguments directly\u001b[0m\u001b[1;33m\u001b[0m\u001b[1;33m\u001b[0m\u001b[1;33m\u001b[0m\u001b[0m\n\u001b[0;32m    191\u001b[0m     \u001b[1;32mfor\u001b[0m \u001b[0mpos\u001b[0m \u001b[1;32min\u001b[0m \u001b[0mrange\u001b[0m\u001b[1;33m(\u001b[0m\u001b[1;36m32\u001b[0m\u001b[1;33m,\u001b[0m \u001b[0mlen\u001b[0m\u001b[1;33m(\u001b[0m\u001b[0margs\u001b[0m\u001b[1;33m)\u001b[0m\u001b[1;33m,\u001b[0m \u001b[1;36m31\u001b[0m\u001b[1;33m)\u001b[0m\u001b[1;33m:\u001b[0m\u001b[1;33m\u001b[0m\u001b[1;33m\u001b[0m\u001b[0m\n",
      "\u001b[1;31mValueError\u001b[0m: shape mismatch: objects cannot be broadcast to a single shape"
     ]
    },
    {
     "data": {
      "image/png": "[encoded data removed]",
      "text/plain": [
       "<Figure size 936x720 with 4 Axes>"
      ]
     },
     "metadata": {
      "needs_background": "light"
     },
     "output_type": "display_data"
    }
   ],
   "source": [
    "fig, ax = plt.subplots(2,2, figsize = (13,10))\n",
    "ax[0, 0].bar(models, mse)\n",
    "ax[0, 0].set_title(\"mse\").set_fontsize(15)\n",
    "\n",
    "ax[0, 1].bar(models, rmse)\n",
    "ax[0, 1].set_title(\"rmse\").set_fontsize(15)\n",
    "\n",
    "ax[1, 0].bar(models, mae)\n",
    "ax[1, 0].set_title(\"mae\").set_fontsize(15)\n",
    "\n",
    "ax[1, 1].bar(models, mape)\n",
    "ax[1, 1].set_title(\"mape\").set_fontsize(15)"
   ]
  },
  {
   "cell_type": "markdown",
   "metadata": {},
   "source": []
  },
  {
   "cell_type": "markdown",
   "metadata": {},
   "source": [
    "---\n",
    "\n",
    "# 8. 최종 결론\n",
    "\n",
    "- 미세먼지에 영향을 주는 인자는 일산화탄소, 오존, 계절 중 봄, 온도, 구름의 양, 서풍 등이 있다. 세가지 모델링을 진행했고 그 중 가장 정확도가 높았던 것은 그래디언트 부스팅 모델로 test 스코어가 0.541로서 높은 정확도는 아니지만 미세먼지라는 특성상 뚜렷한 인자에 의해 정확한 선형관계를 나타내거나 영향인자의 개수가 적은 타겟은 아님으로 어느정도 유의미한 모델이라고 할수 있다. \n",
    "\n",
    "- 이러한 인자들을 통해서 미세먼지 저감을 위해 어떤 대책을 세워야 할지 더 고민해서 PPT에 작성하고자 한다. "
   ]
  }
 ],
 "metadata": {
  "kernelspec": {
   "display_name": "Python 3",
   "language": "python",
   "name": "python3"
  },
  "language_info": {
   "codemirror_mode": {
    "name": "ipython",
    "version": 3
   },
   "file_extension": ".py",
   "mimetype": "text/x-python",
   "name": "python",
   "nbconvert_exporter": "python",
   "pygments_lexer": "ipython3",
   "version": "3.8.5"
  }
 },
 "nbformat": 4,
 "nbformat_minor": 4
}
